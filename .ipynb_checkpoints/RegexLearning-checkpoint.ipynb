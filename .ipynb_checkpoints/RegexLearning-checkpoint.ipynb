{
 "cells": [
  {
   "cell_type": "code",
   "execution_count": null,
   "metadata": {
    "collapsed": true
   },
   "outputs": [],
   "source": [
    "#Regular Expression\n",
    "A Regular expression is a string that contains special symbols and charcters to find and extract the \n",
    "information from given data.Aregulara expression helps us to  search information,match,find and split\n",
    "information as per our requirments .A regular is also called simply reges."
   ]
  },
  {
   "cell_type": "code",
   "execution_count": null,
   "metadata": {
    "collapsed": true
   },
   "outputs": [],
   "source": [
    "#Activity we can do using Regular Expressions\n",
    "\n",
    "1)Matching String \n",
    "2)searching for String\n",
    "3)Finding all strings\n",
    "4)Spliting a string into pieces\n",
    "5)Replacing strings"
   ]
  },
  {
   "cell_type": "code",
   "execution_count": null,
   "metadata": {
    "collapsed": true
   },
   "outputs": [],
   "source": [
    "\\d AnyDigit(0to9)\n"
   ]
  },
  {
   "cell_type": "code",
   "execution_count": 3,
   "metadata": {},
   "outputs": [
    {
     "name": "stdout",
     "output_type": "stream",
     "text": [
      "<_sre.SRE_Match object; span=(0, 3), match='man'>\n",
      "man\n"
     ]
    }
   ],
   "source": [
    "#Write a regular expression to search for a strings starting \n",
    "#with m and having 3 characters using search() method.\n",
    "#re is for regular expression module\n",
    "import re\n",
    "str='man sun mop run'\n",
    "res=re.search('m\\w\\w',str)\n",
    "#what is search() -> is doing its searches for string and returns only the first occurance only\n",
    "#group()\n",
    "#findall()-> searches for string and returns all strings.\n",
    "#list\n",
    "#first matching wrd will be returned\n",
    "#\\w represent one alpha -numeric characters\n",
    "print(res)\n",
    "#<_sre.SRE_Match object; span=(0, 3), match='man'>\n",
    "if res:\n",
    "    print(res.group())\n",
    "    "
   ]
  },
  {
   "cell_type": "code",
   "execution_count": 5,
   "metadata": {},
   "outputs": [
    {
     "name": "stdout",
     "output_type": "stream",
     "text": [
      "man\n"
     ]
    }
   ],
   "source": [
    "import re\n",
    "str='man sun mop run'\n",
    "res=re.search(r'm\\w\\w',str) #r is raw string\n",
    "#first matching wrd will be returned\n",
    "#\\w represent one alpha -numeric characters\n",
    "#print(res)\n",
    "#<_sre.SRE_Match object; span=(0, 3), match='man'>\n",
    "if res:\n",
    "    print(res.group())"
   ]
  },
  {
   "cell_type": "code",
   "execution_count": 6,
   "metadata": {},
   "outputs": [
    {
     "name": "stdout",
     "output_type": "stream",
     "text": [
      "['man', 'mop']\n"
     ]
    }
   ],
   "source": [
    "#findall() method example \n",
    "import re\n",
    "str='man sun mop run'\n",
    "res=re.findall(r'm\\w\\w',str) #r is raw string\n",
    "print(res)"
   ]
  },
  {
   "cell_type": "code",
   "execution_count": 7,
   "metadata": {},
   "outputs": [
    {
     "name": "stdout",
     "output_type": "stream",
     "text": [
      "man\n"
     ]
    }
   ],
   "source": [
    "#Match function in regex\n",
    "import re\n",
    "str='man sun mop run'\n",
    "res =re.match(r'm\\w\\w',str)\n",
    "if res:\n",
    "    print(res.group())"
   ]
  },
  {
   "cell_type": "code",
   "execution_count": 10,
   "metadata": {},
   "outputs": [
    {
     "name": "stdout",
     "output_type": "stream",
     "text": [
      "not found\n"
     ]
    }
   ],
   "source": [
    "#Match function in regex\n",
    "import re\n",
    "str='van sun mop run'\n",
    "res =re.match(r'm\\w\\w',str)\n",
    "if res:\n",
    "    print(res.group())\n",
    "else:\n",
    "    print(\"not found\")\n",
    "#match is similar to search it checks only in the beginning of the string.group()"
   ]
  },
  {
   "cell_type": "code",
   "execution_count": null,
   "metadata": {
    "collapsed": true
   },
   "outputs": [],
   "source": [
    "#Special characters\n",
    "\n",
    "\\w any alpha numeric char\n",
    "\\W any non alpha-numeric char\n",
    "\\d any numeric digit(0-9)\n",
    "\\D any non numeric digits\n",
    "\\s any whitespaces(\\t,\\v,\\r,\\n)\n",
    "\\S any non-white space\n",
    "\\b blanks around the string\n",
    "+ 1 or more elements\n",
    "* 0 or more elements\n",
    "? 0 or 1 repetition elements\n"
   ]
  },
  {
   "cell_type": "code",
   "execution_count": 11,
   "metadata": {},
   "outputs": [
    {
     "name": "stdout",
     "output_type": "stream",
     "text": [
      "['Nagesh ', ' vinaly ', ' laxmi ']\n"
     ]
    }
   ],
   "source": [
    "#want name of the string\n",
    "import re\n",
    "str='Nagesh 989898999 vinaly 9897878789 laxmi 6666666'\n",
    "result=re.findall(r'\\D+',str)\n",
    "# + is one or more occurance or reptetion\n",
    "print(result)"
   ]
  },
  {
   "cell_type": "code",
   "execution_count": 14,
   "metadata": {},
   "outputs": [
    {
     "name": "stdout",
     "output_type": "stream",
     "text": [
      "['989898999', '9897878789', '6666666']\n"
     ]
    }
   ],
   "source": [
    "#want only phone number\n",
    "import re\n",
    "str='Nagesh 989898999 vinaly 9897878789 laxmi 6666666'\n",
    "result=re.findall(r'\\d+',str)\n",
    "# + is one or more occurance or reptetion\n",
    "print(result)\n"
   ]
  },
  {
   "cell_type": "code",
   "execution_count": 16,
   "metadata": {},
   "outputs": [
    {
     "name": "stdout",
     "output_type": "stream",
     "text": [
      "['Nagesh ', ' vinaly ', ' laxmi ', '']\n"
     ]
    }
   ],
   "source": [
    "# Write a regular expression to split a string into pieces where one or more numric characters are found\n",
    "import re\n",
    "str='Nagesh 989898999 vinaly 9897878789 laxmi 6666666'\n",
    "result=re.split(r'\\d+\\b',str)\n",
    "#either put b or not it will not effect\n",
    "print(result)"
   ]
  },
  {
   "cell_type": "code",
   "execution_count": 17,
   "metadata": {},
   "outputs": [
    {
     "name": "stdout",
     "output_type": "stream",
     "text": [
      "['10', '1', '2017,5', '8', '2015,6', '4', '3093,11', '5', '2017']\n"
     ]
    }
   ],
   "source": [
    "#i want to retrive numbers without \n",
    "import re\n",
    "str='10-1-2017,5-8-2015,6-4-3093,11-5-2017'\n",
    "result=re.split(r'-',str)\n",
    "print(result)"
   ]
  },
  {
   "cell_type": "code",
   "execution_count": 19,
   "metadata": {},
   "outputs": [
    {
     "name": "stdout",
     "output_type": "stream",
     "text": [
      "['2017', '2015', '3093', '2017']\n"
     ]
    }
   ],
   "source": [
    "#i want to reterive only years\n",
    "import re\n",
    "str='10-1-2017,5-8-2015,6-4-3093,11-5-2017'\n",
    "#result=re.findall(r'\\d\\d\\d\\d',str)\n",
    "#in {m}-> repeat for m times\n",
    "#in{m,n}-> repeat for m to n\n",
    "# ^ searches in the begning of the string\n",
    "#$ \n",
    "result=re.findall(r'\\d{4}',str)\n",
    "print(result)"
   ]
  },
  {
   "cell_type": "code",
   "execution_count": 26,
   "metadata": {},
   "outputs": [
    {
     "ename": "SyntaxError",
     "evalue": "invalid syntax (<ipython-input-26-0ffcf116461b>, line 1)",
     "output_type": "error",
     "traceback": [
      "\u001b[0;36m  File \u001b[0;32m\"<ipython-input-26-0ffcf116461b>\"\u001b[0;36m, line \u001b[0;32m1\u001b[0m\n\u001b[0;31m    i want to retrive numbers without\u001b[0m\n\u001b[0m         ^\u001b[0m\n\u001b[0;31mSyntaxError\u001b[0m\u001b[0;31m:\u001b[0m invalid syntax\n"
     ]
    }
   ],
   "source": [
    "#i want to retrive numbers without \n",
    "import re\n",
    "str='10-1-2017,5-8-2015,6-4-3093,11-5-2017,11-5-99'\n",
    "result=re.split(r'$',str)\n",
    "print(result)\n",
    "\n"
   ]
  },
  {
   "cell_type": "code",
   "execution_count": 29,
   "metadata": {},
   "outputs": [
    {
     "name": "stdout",
     "output_type": "stream",
     "text": [
      "kumbhmela will be held at Delhi in india\n"
     ]
    }
   ],
   "source": [
    "#to replace a sub string with string \n",
    "import re\n",
    "str ='kumbh-mela will be held at Ahemdabad in india'\n",
    "str1=re.sub('Ahemdabad','Delhi',str)\n",
    "print(str1)"
   ]
  },
  {
   "cell_type": "code",
   "execution_count": 31,
   "metadata": {},
   "outputs": [
    {
     "name": "stdout",
     "output_type": "stream",
     "text": [
      "['anil', 'akhil', 'ananth', 'ankur']\n"
     ]
    }
   ],
   "source": [
    "#Write a regular expression to find all words starting with a \"an\"pr \"ak\"\n",
    "import re\n",
    "str='anil akhil ananth arathi arundhati abhijit ankur '\n",
    "res=re.findall(r'a[nk]\\w+',str) #[ab] ->either a or b\n",
    "                                #(.+) ->retrieve that is in ()\n",
    "                                # R | S -> Either E or S\n",
    "print(res)"
   ]
  },
  {
   "cell_type": "code",
   "execution_count": 33,
   "metadata": {},
   "outputs": [
    {
     "ename": "TypeError",
     "evalue": "findall() missing 1 required positional argument: 'string'",
     "output_type": "error",
     "traceback": [
      "\u001b[0;31m---------------------------------------------------------------------------\u001b[0m",
      "\u001b[0;31mTypeError\u001b[0m                                 Traceback (most recent call last)",
      "\u001b[0;32m<ipython-input-33-6839c50c7b07>\u001b[0m in \u001b[0;36m<module>\u001b[0;34m()\u001b[0m\n\u001b[1;32m      7\u001b[0m \u001b[0;32mimport\u001b[0m \u001b[0mre\u001b[0m\u001b[0;34m\u001b[0m\u001b[0m\n\u001b[1;32m      8\u001b[0m \u001b[0mstr\u001b[0m \u001b[0;34m=\u001b[0m\u001b[0;34m'vijay 20 1-5-2001,Rohit 21 22-10-1990,sita 22 15-09-2000'\u001b[0m\u001b[0;34m\u001b[0m\u001b[0m\n\u001b[0;32m----> 9\u001b[0;31m \u001b[0mres\u001b[0m\u001b[0;34m=\u001b[0m\u001b[0mre\u001b[0m\u001b[0;34m.\u001b[0m\u001b[0mfindall\u001b[0m\u001b[0;34m(\u001b[0m\u001b[0;34mr'd{\\d\\d}'\u001b[0m\u001b[0;34m)\u001b[0m\u001b[0;34m\u001b[0m\u001b[0m\n\u001b[0m\u001b[1;32m     10\u001b[0m \u001b[0;34m\u001b[0m\u001b[0m\n",
      "\u001b[0;31mTypeError\u001b[0m: findall() missing 1 required positional argument: 'string'"
     ]
    }
   ],
   "source": [
    "#Reterive date of birth from a string\n",
    "#{a}-> reeat exactly a times\n",
    "#{a,b} -> repeat a to b times.\n",
    "# ^-> checks begnning of the string\n",
    "# $ -> at the end of the string\n",
    "\n",
    "import re\n",
    "str ='vijay 20 1-5-2001,Rohit 21 22-10-1990,sita 22 15-09-2000'\n",
    "res=re.findall(r'd{\\d\\d}')\n",
    "\n"
   ]
  },
  {
   "cell_type": "code",
   "execution_count": 42,
   "metadata": {},
   "outputs": [
    {
     "name": "stdout",
     "output_type": "stream",
     "text": [
      "The String starts with He\n"
     ]
    }
   ],
   "source": [
    "# check weather a string is starting wit He or not\n",
    "# ^-> checks begnning of the string\n",
    "# $ -> at the end of the string\n",
    "import re\n",
    "str =\"Hello world\"\n",
    "res=re.search(r'^He',str) # carrot symbole is checking in begning only\n",
    "#print(res)\n",
    "if res:\n",
    "    print('The String starts with He')\n",
    "else:\n",
    "    print(\"He is not found\")"
   ]
  },
  {
   "cell_type": "code",
   "execution_count": 43,
   "metadata": {},
   "outputs": [
    {
     "name": "stdout",
     "output_type": "stream",
     "text": [
      "The String ending with world\n"
     ]
    }
   ],
   "source": [
    "import re\n",
    "str =\"Hello world\"\n",
    "res=re.search(r'world$',str) # carrot symbole is checking in begning only\n",
    "#print(res)\n",
    "if res:\n",
    "    print('The String ending with world')\n",
    "else:\n",
    "    print(\"He is not found\")"
   ]
  },
  {
   "cell_type": "code",
   "execution_count": null,
   "metadata": {
    "collapsed": true
   },
   "outputs": [],
   "source": [
    "\"\"\"\n",
    "1)Regular express are used in data reterival and data analysis\n",
    "\"\"\""
   ]
  },
  {
   "cell_type": "code",
   "execution_count": null,
   "metadata": {
    "collapsed": true
   },
   "outputs": [],
   "source": [
    "\"\"\"\n",
    "It is possible to apply regular expression on the data retrived from internet(.html pages)\n",
    "\"\"\""
   ]
  },
  {
   "cell_type": "code",
   "execution_count": null,
   "metadata": {
    "collapsed": true
   },
   "outputs": [],
   "source": []
  },
  {
   "cell_type": "code",
   "execution_count": null,
   "metadata": {
    "collapsed": true
   },
   "outputs": [],
   "source": []
  },
  {
   "cell_type": "code",
   "execution_count": null,
   "metadata": {
    "collapsed": true
   },
   "outputs": [],
   "source": []
  },
  {
   "cell_type": "code",
   "execution_count": null,
   "metadata": {
    "collapsed": true
   },
   "outputs": [],
   "source": []
  },
  {
   "cell_type": "code",
   "execution_count": null,
   "metadata": {
    "collapsed": true
   },
   "outputs": [],
   "source": []
  },
  {
   "cell_type": "code",
   "execution_count": null,
   "metadata": {
    "collapsed": true
   },
   "outputs": [],
   "source": []
  },
  {
   "cell_type": "code",
   "execution_count": null,
   "metadata": {
    "collapsed": true
   },
   "outputs": [],
   "source": []
  },
  {
   "cell_type": "code",
   "execution_count": null,
   "metadata": {
    "collapsed": true
   },
   "outputs": [],
   "source": []
  },
  {
   "cell_type": "code",
   "execution_count": null,
   "metadata": {
    "collapsed": true
   },
   "outputs": [],
   "source": []
  },
  {
   "cell_type": "code",
   "execution_count": null,
   "metadata": {
    "collapsed": true
   },
   "outputs": [],
   "source": []
  },
  {
   "cell_type": "code",
   "execution_count": null,
   "metadata": {
    "collapsed": true
   },
   "outputs": [],
   "source": []
  },
  {
   "cell_type": "code",
   "execution_count": null,
   "metadata": {
    "collapsed": true
   },
   "outputs": [],
   "source": []
  },
  {
   "cell_type": "code",
   "execution_count": null,
   "metadata": {
    "collapsed": true
   },
   "outputs": [],
   "source": []
  },
  {
   "cell_type": "code",
   "execution_count": null,
   "metadata": {
    "collapsed": true
   },
   "outputs": [],
   "source": []
  },
  {
   "cell_type": "code",
   "execution_count": null,
   "metadata": {
    "collapsed": true
   },
   "outputs": [],
   "source": []
  },
  {
   "cell_type": "code",
   "execution_count": null,
   "metadata": {
    "collapsed": true
   },
   "outputs": [],
   "source": []
  },
  {
   "cell_type": "code",
   "execution_count": null,
   "metadata": {
    "collapsed": true
   },
   "outputs": [],
   "source": []
  },
  {
   "cell_type": "code",
   "execution_count": null,
   "metadata": {
    "collapsed": true
   },
   "outputs": [],
   "source": []
  },
  {
   "cell_type": "code",
   "execution_count": null,
   "metadata": {
    "collapsed": true
   },
   "outputs": [],
   "source": []
  },
  {
   "cell_type": "code",
   "execution_count": null,
   "metadata": {
    "collapsed": true
   },
   "outputs": [],
   "source": []
  },
  {
   "cell_type": "code",
   "execution_count": null,
   "metadata": {
    "collapsed": true
   },
   "outputs": [],
   "source": []
  },
  {
   "cell_type": "code",
   "execution_count": null,
   "metadata": {
    "collapsed": true
   },
   "outputs": [],
   "source": []
  },
  {
   "cell_type": "code",
   "execution_count": null,
   "metadata": {
    "collapsed": true
   },
   "outputs": [],
   "source": []
  }
 ],
 "metadata": {
  "kernelspec": {
   "display_name": "Python 3",
   "language": "python",
   "name": "python3"
  },
  "language_info": {
   "codemirror_mode": {
    "name": "ipython",
    "version": 3
   },
   "file_extension": ".py",
   "mimetype": "text/x-python",
   "name": "python",
   "nbconvert_exporter": "python",
   "pygments_lexer": "ipython3",
   "version": "3.6.3"
  }
 },
 "nbformat": 4,
 "nbformat_minor": 2
}
