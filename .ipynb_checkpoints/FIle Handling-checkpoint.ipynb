{
 "cells": [
  {
   "cell_type": "code",
   "execution_count": null,
   "metadata": {
    "collapsed": true
   },
   "outputs": [],
   "source": [
    "A file represents storage of data\n",
    "\n",
    "1)Files store data permenantly\n",
    "2)Several progrrammes can share the data from the same file.\n",
    "\n",
    "Type of files\n",
    "1)text files:store data in the form of chars.\n",
    "2) binary files:\n",
    "    stores data un the form of bytes(or binary digits).\n",
    "    text,images(.ping,jpg,.gif),audio and video(mp4,avi,wav)\n",
    "    Binnary files are slower than text files.\n",
    "\n",
    "#fileHandler=open(\"file name\",\"open mode\",\"buffering\")\n",
    "f=open(\"myfile.txt\",\"w\")\n",
    "r+=read and write into the file\n",
    "a+=\n",
    "x=if already file is there it will not created exclusive creation mode\n",
    "b=to open the binary file"
   ]
  },
  {
   "cell_type": "code",
   "execution_count": 13,
   "metadata": {},
   "outputs": [
    {
     "name": "stdout",
     "output_type": "stream",
     "text": [
      "please input the charwe are learning python from RNR sir is our instructor\n"
     ]
    }
   ],
   "source": [
    "#to create a file and store chars\n",
    "#type filename.txt\n",
    "f =open('myfile.txt','w')\n",
    "f =open('myfile.txt','a')\n",
    "chars=input(\"please input the char\")\n",
    "f.write(chars)\n",
    "f.close()\n"
   ]
  },
  {
   "cell_type": "code",
   "execution_count": null,
   "metadata": {
    "collapsed": true
   },
   "outputs": [],
   "source": []
  },
  {
   "cell_type": "code",
   "execution_count": 14,
   "metadata": {},
   "outputs": [
    {
     "name": "stdout",
     "output_type": "stream",
     "text": [
      "the contents of the file are as below:\n",
      "we are learning python from RNR sir is our instructor\n"
     ]
    }
   ],
   "source": [
    "#to read chars form a text file\n",
    "f=open('myfile.txt','r')\n",
    "print('the contents of the file are as below:')\n",
    "str=f.read()\n",
    "print(str)\n",
    "f.close()"
   ]
  },
  {
   "cell_type": "code",
   "execution_count": 15,
   "metadata": {},
   "outputs": [
    {
     "name": "stdout",
     "output_type": "stream",
     "text": [
      "Type data(@at end):\n",
      "i m in hyderbad\n",
      "learning python \n",
      "from renowed facuty RNR sir\n",
      "2\n",
      "@\n"
     ]
    }
   ],
   "source": [
    "#to create a file and store strings\n",
    "f=open(\"StringFile.txt\",'w')\n",
    "print('Type data(@at end):')\n",
    "while str!='@':\n",
    "    str=input()\n",
    "    if str!='@':\n",
    "        f.write(str+\"\\n\")\n",
    "f.close()"
   ]
  },
  {
   "cell_type": "code",
   "execution_count": 19,
   "metadata": {},
   "outputs": [
    {
     "name": "stdout",
     "output_type": "stream",
     "text": [
      "erbad\n",
      "learning python \n",
      "from renowed facuty RNR sir\n",
      "2\n",
      "\n"
     ]
    }
   ],
   "source": [
    "#to read string from the text file\n",
    "f=open('StringFile.txt','r')\n",
    "data=f.read(10)\n",
    "data=f.read()#will read entire file\n",
    "print(data)\n"
   ]
  },
  {
   "cell_type": "code",
   "execution_count": 23,
   "metadata": {},
   "outputs": [
    {
     "name": "stdout",
     "output_type": "stream",
     "text": [
      "Enter the file name:klk\n"
     ]
    },
    {
     "ename": "FileNotFoundError",
     "evalue": "[Errno 2] No such file or directory: 'klk'",
     "output_type": "error",
     "traceback": [
      "\u001b[0;31m---------------------------------------------------------------------------\u001b[0m",
      "\u001b[0;31mFileNotFoundError\u001b[0m                         Traceback (most recent call last)",
      "\u001b[0;32m<ipython-input-23-5d2d6c2e4019>\u001b[0m in \u001b[0;36m<module>\u001b[0;34m()\u001b[0m\n\u001b[1;32m      1\u001b[0m \u001b[0;31m#to accept  the file name from user\u001b[0m\u001b[0;34m\u001b[0m\u001b[0;34m\u001b[0m\u001b[0m\n\u001b[1;32m      2\u001b[0m \u001b[0mfname\u001b[0m\u001b[0;34m=\u001b[0m\u001b[0minput\u001b[0m\u001b[0;34m(\u001b[0m\u001b[0;34m\"Enter the file name:\"\u001b[0m\u001b[0;34m)\u001b[0m\u001b[0;34m\u001b[0m\u001b[0m\n\u001b[0;32m----> 3\u001b[0;31m \u001b[0mf\u001b[0m\u001b[0;34m=\u001b[0m\u001b[0mopen\u001b[0m\u001b[0;34m(\u001b[0m\u001b[0mfname\u001b[0m\u001b[0;34m,\u001b[0m\u001b[0;34m'r'\u001b[0m\u001b[0;34m)\u001b[0m\u001b[0;34m\u001b[0m\u001b[0m\n\u001b[0m\u001b[1;32m      4\u001b[0m \u001b[0mdata\u001b[0m\u001b[0;34m=\u001b[0m\u001b[0mf\u001b[0m\u001b[0;34m.\u001b[0m\u001b[0mread\u001b[0m\u001b[0;34m(\u001b[0m\u001b[0;36m10\u001b[0m\u001b[0;34m)\u001b[0m\u001b[0;34m\u001b[0m\u001b[0m\n\u001b[1;32m      5\u001b[0m \u001b[0mdata\u001b[0m\u001b[0;34m=\u001b[0m\u001b[0mf\u001b[0m\u001b[0;34m.\u001b[0m\u001b[0mread\u001b[0m\u001b[0;34m(\u001b[0m\u001b[0;34m)\u001b[0m\u001b[0;31m#will read entire file\u001b[0m\u001b[0;34m\u001b[0m\u001b[0m\n",
      "\u001b[0;31mFileNotFoundError\u001b[0m: [Errno 2] No such file or directory: 'klk'"
     ]
    }
   ],
   "source": [
    "#to accept  the file name from user\n",
    "fname=input(\"Enter the file name:\")\n",
    "f=open(fname,'r')\n",
    "data=f.read(10)\n",
    "data=f.read()#will read entire file\n",
    "print(data)"
   ]
  },
  {
   "cell_type": "code",
   "execution_count": 24,
   "metadata": {},
   "outputs": [
    {
     "name": "stdout",
     "output_type": "stream",
     "text": [
      "Enter the file name:fkkl;kfwk\n",
      "File not find\n"
     ]
    }
   ],
   "source": [
    "#if file is not availabale\n",
    "fname=input(\"Enter the file name:\")\n",
    "try:\n",
    "    f=open(fname,'r')\n",
    "    data=f.read(10)\n",
    "    print(data)\n",
    "    f.close\n",
    "    #data=f.read()#will read entire file\n",
    "except:\n",
    "    print(\"File not find\")"
   ]
  },
  {
   "cell_type": "code",
   "execution_count": 26,
   "metadata": {},
   "outputs": [
    {
     "name": "stdout",
     "output_type": "stream",
     "text": [
      "ENter file namesadfhsakf\n",
      "File Does not Exist\n"
     ]
    }
   ],
   "source": [
    "#to know weather file exist or not\n",
    "import os.path\n",
    "fname=input(\"ENter file name\")\n",
    "if os.path.isfile(fname):#is file is a function\n",
    "    f=open(fname,r)\n",
    "    print(f.read())\n",
    "    f.close()\n",
    "else:\n",
    "    print(\"File Does not Exist\")"
   ]
  },
  {
   "cell_type": "code",
   "execution_count": null,
   "metadata": {
    "collapsed": true
   },
   "outputs": [],
   "source": [
    "##BinaryFIle Handling"
   ]
  },
  {
   "cell_type": "code",
   "execution_count": 2,
   "metadata": {
    "collapsed": true
   },
   "outputs": [],
   "source": [
    "#Text file\n",
    "f=open('myfile.txt','w')\n",
    "f.write(\"hey i m writing in file\\n\")\n",
    "f.write(\"now close the file\")\n",
    "f.close()"
   ]
  },
  {
   "cell_type": "code",
   "execution_count": 3,
   "metadata": {},
   "outputs": [
    {
     "name": "stdout",
     "output_type": "stream",
     "text": [
      "Enter the file name:myfile.txt\n",
      "iting in file\n",
      "now close the file\n"
     ]
    }
   ],
   "source": [
    "#to accept  the file name from user and print\n",
    "fname=input(\"Enter the file name:\")\n",
    "f=open(fname,'r')\n",
    "data=f.read(10)\n",
    "data=f.read()#will read entire file\n",
    "print(data)"
   ]
  },
  {
   "cell_type": "code",
   "execution_count": 10,
   "metadata": {
    "collapsed": true
   },
   "outputs": [],
   "source": [
    "\"\"\"with statment demo programme.in with prograame we will need not \n",
    "close the file explicitly.python will take care of it\n",
    "#example\"\"\"\n",
    "\n",
    "with open('myfile.txt','w') as f:\n",
    "    f.write(\"hey i m writing in file\\n\")\n",
    "    f.write(\"now close the file\")\n"
   ]
  },
  {
   "cell_type": "code",
   "execution_count": 12,
   "metadata": {},
   "outputs": [
    {
     "ename": "TypeError",
     "evalue": "write() argument must be str, not bytes",
     "output_type": "error",
     "traceback": [
      "\u001b[0;31m---------------------------------------------------------------------------\u001b[0m",
      "\u001b[0;31mTypeError\u001b[0m                                 Traceback (most recent call last)",
      "\u001b[0;32m<ipython-input-12-53e8e7634fff>\u001b[0m in \u001b[0;36m<module>\u001b[0;34m()\u001b[0m\n\u001b[1;32m      4\u001b[0m     \u001b[0mf\u001b[0m\u001b[0;34m.\u001b[0m\u001b[0mwrite\u001b[0m\u001b[0;34m(\u001b[0m\u001b[0;34m\"now close the file\"\u001b[0m\u001b[0;34m)\u001b[0m\u001b[0;34m\u001b[0m\u001b[0m\n\u001b[1;32m      5\u001b[0m     \u001b[0mstr\u001b[0m \u001b[0;34m=\u001b[0m\u001b[0;34m\"Hyderbad\"\u001b[0m\u001b[0;34m\u001b[0m\u001b[0m\n\u001b[0;32m----> 6\u001b[0;31m     \u001b[0mf\u001b[0m\u001b[0;34m.\u001b[0m\u001b[0mwrite\u001b[0m\u001b[0;34m(\u001b[0m\u001b[0mstr\u001b[0m\u001b[0;34m.\u001b[0m\u001b[0mencode\u001b[0m\u001b[0;34m(\u001b[0m\u001b[0;34m)\u001b[0m\u001b[0;34m)\u001b[0m\u001b[0;34m\u001b[0m\u001b[0m\n\u001b[0m",
      "\u001b[0;31mTypeError\u001b[0m: write() argument must be str, not bytes"
     ]
    }
   ],
   "source": [
    "#example to write in binnary file\n",
    "with open('myfilebinnary.txt','w') as f:\n",
    "    f.write(\"hey i m writing in file\\n\")\n",
    "    f.write(\"now close the file\")\n",
    "    str =\"Hyderbad\"\n",
    "    f.write(str.encode())"
   ]
  },
  {
   "cell_type": "code",
   "execution_count": null,
   "metadata": {
    "collapsed": true
   },
   "outputs": [],
   "source": [
    "#Pickel => Storing class objects into a binary file with function name dump(e,f)\n",
    "->serialization\n",
    "dump(e,f)\n",
    "\n",
    "#UnPickel=> Retriev in class objects from a binary file to load from file ,load(f)\n",
    "file. -> de-serialization\n",
    "e=load(f)\n",
    "\n",
    "1001 Nagesh 7890.90\n",
    "1002 Vijay  50089.0\n",
    "1003 Ganesh 090909.1\n",
    "\n",
    "Emp\n",
    "id,name,sal\n",
    " three instance will be created:\n",
    "        likebelow E\n",
    "        id name sal"
   ]
  },
  {
   "cell_type": "code",
   "execution_count": 13,
   "metadata": {
    "collapsed": true
   },
   "outputs": [],
   "source": [
    "#this is a class whose objects will be pickeled\n",
    "class Emp:\n",
    "    def __init__(self,id,name,sal):\n",
    "        self.id=id\n",
    "        self.name=name\n",
    "        self.sal=sal\n",
    "    def display(self):\n",
    "        print('{} {} {:.2f}'.format(self.id,self.name,self.sal))"
   ]
  },
  {
   "cell_type": "code",
   "execution_count": 14,
   "metadata": {},
   "outputs": [
    {
     "ename": "SyntaxError",
     "evalue": "invalid syntax (Emp.py, line 2)",
     "output_type": "error",
     "traceback": [
      "Traceback \u001b[0;36m(most recent call last)\u001b[0m:\n",
      "  File \u001b[1;32m\"/home/firoz/anaconda3/lib/python3.6/site-packages/IPython/core/interactiveshell.py\"\u001b[0m, line \u001b[1;32m2862\u001b[0m, in \u001b[1;35mrun_code\u001b[0m\n    exec(code_obj, self.user_global_ns, self.user_ns)\n",
      "\u001b[0;36m  File \u001b[0;32m\"<ipython-input-14-4f0b9ffc6f59>\"\u001b[0;36m, line \u001b[0;32m2\u001b[0;36m, in \u001b[0;35m<module>\u001b[0;36m\u001b[0m\n\u001b[0;31m    import pickle,Emp\u001b[0m\n",
      "\u001b[0;36m  File \u001b[0;32m\"/home/firoz/Documents/python/Emp.py\"\u001b[0;36m, line \u001b[0;32m2\u001b[0m\n\u001b[0;31m    def  __init__(self,n='',m[]):\u001b[0m\n\u001b[0m                             ^\u001b[0m\n\u001b[0;31mSyntaxError\u001b[0m\u001b[0;31m:\u001b[0m invalid syntax\n"
     ]
    }
   ],
   "source": [
    "#Storing emp class objects into a file\n",
    "import pickle,Emp\n",
    "f=open('empdata','wb') #wb=binnary file format\n",
    "n=int(input(\"How many employees?\"))\n",
    "for i in range(n):\n",
    "    id =int(input('Enter the id:'))\n",
    "    name=input('Enter name')\n",
    "    sal=float(input('Salary of Emp'))\n",
    "    e=Emp.Emp(id,name,sal)\n",
    "    pickel.dump(e,f) #here we have done Pickling\n",
    "f.close"
   ]
  },
  {
   "cell_type": "code",
   "execution_count": 15,
   "metadata": {},
   "outputs": [
    {
     "ename": "SyntaxError",
     "evalue": "invalid syntax (Emp.py, line 2)",
     "output_type": "error",
     "traceback": [
      "Traceback \u001b[0;36m(most recent call last)\u001b[0m:\n",
      "  File \u001b[1;32m\"/home/firoz/anaconda3/lib/python3.6/site-packages/IPython/core/interactiveshell.py\"\u001b[0m, line \u001b[1;32m2862\u001b[0m, in \u001b[1;35mrun_code\u001b[0m\n    exec(code_obj, self.user_global_ns, self.user_ns)\n",
      "\u001b[0;36m  File \u001b[0;32m\"<ipython-input-15-6e2bf968f49d>\"\u001b[0;36m, line \u001b[0;32m2\u001b[0;36m, in \u001b[0;35m<module>\u001b[0;36m\u001b[0m\n\u001b[0;31m    import Emp,pickle\u001b[0m\n",
      "\u001b[0;36m  File \u001b[0;32m\"/home/firoz/Documents/python/Emp.py\"\u001b[0;36m, line \u001b[0;32m2\u001b[0m\n\u001b[0;31m    def  __init__(self,n='',m[]):\u001b[0m\n\u001b[0m                             ^\u001b[0m\n\u001b[0;31mSyntaxError\u001b[0m\u001b[0;31m:\u001b[0m invalid syntax\n"
     ]
    }
   ],
   "source": [
    "#Retevering the class object from binnary file unpick.py\n",
    "import Emp,pickle\n",
    "f=open('empdata','rb')\n",
    "while True:\n",
    "    try:\n",
    "        #EOF error exception we have to handle\n",
    "        e=pickle.load(f)\n",
    "        e.display()\n",
    "    except EOFError:\n",
    "        print('End Of file reached..')\n",
    "        break\n",
    "f.close"
   ]
  },
  {
   "cell_type": "code",
   "execution_count": null,
   "metadata": {
    "collapsed": true
   },
   "outputs": [],
   "source": [
    "#Functions in Binnary file \n",
    "#Random Acessing in Binarry File\n",
    "\n",
    "n = tell() -->returns byte position of the file pointer.\n",
    "    seek()--> moves the file pointer to any position.\n",
    "    \n",
    "seek(10,0) #0 have muliple values and will perform differnt functionality\n",
    "    \n",
    "0=>from begnning\n",
    "1=> from current position\n",
    "2=> from ending\n"
   ]
  },
  {
   "cell_type": "code",
   "execution_count": 17,
   "metadata": {},
   "outputs": [
    {
     "name": "stdout",
     "output_type": "stream",
     "text": [
      "31\n",
      "0\n",
      "b'This is co'\n",
      "This is co\n",
      "re python \n",
      "b''\n",
      "rogramming\n"
     ]
    }
   ],
   "source": [
    "#Random Acessing of binnary File\n",
    "with open('myfile.txt','w+b') as f:\n",
    "    f.write(b'This is core python programming')\n",
    "    n=f.tell()\n",
    "    print(n)\n",
    "    f.seek(0,0)\n",
    "    print(f.tell())\n",
    "    \n",
    "    #read 10 Byte from file\n",
    "    str=f.read(10)\n",
    "    print(str)\n",
    "    print(str.decode())\n",
    "    \n",
    "    #Read another 10 Byte from the file\n",
    "    str=f.read(10)\n",
    "    print(str.decode())\n",
    "    \n",
    "    #want to read last Byte of the string\n",
    "    f.seek(0,2)\n",
    "    print(f.read(2))\n",
    "    \n",
    "    #want to read last 10 Bytes\n",
    "    f.seek(-10,2)\n",
    "    #will not give -10 to read the file\n",
    "    print(f.read(10).decode())\n",
    "    "
   ]
  },
  {
   "cell_type": "code",
   "execution_count": null,
   "metadata": {
    "collapsed": true
   },
   "outputs": [],
   "source": [
    "mmap(memory mapped file)\n",
    "#if we need high performance\n",
    "mm= mmap.mmap()\n",
    "===================================================================================================================\n",
    "===================================================================================================================\n",
    "-------------\n",
    "finad(name)   ------------------>\n",
    "-------------                         -------------------\n",
    "                                        memory\n",
    " mm[5:11] ='abcde'                    --------------------\n",
    "                        \n",
    "                                      ---------------------\n",
    "                  indexing\n",
    "                  slicing  \n",
    "                                            DATA\n",
    "                \n",
    "                                      ---------------------\n",
    "\n",
    "\n",
    "\n",
    "\n",
    "         "
   ]
  },
  {
   "cell_type": "code",
   "execution_count": 19,
   "metadata": {},
   "outputs": [
    {
     "name": "stdout",
     "output_type": "stream",
     "text": [
      "how many records you want3\n",
      "Enter name:shekh\n",
      "Enter phone nos:9898989898\n",
      "Enter name:dad\n",
      "Enter phone nos:8009774032\n",
      "Enter name:father\n",
      "Enter phone nos:808080808\n"
     ]
    }
   ],
   "source": [
    "#create phonebook file with name and phone numbers\n",
    "n=int(input('how many records you want'))\n",
    "with open('phone.dat','wb') as f:\n",
    "    for i in range(n):\n",
    "        name=input('Enter name:')\n",
    "        ph=input('Enter phone nos:')\n",
    "        name=name.encode()\n",
    "        ph=ph.encode()\n",
    "        f.write(name+ph)\n",
    "    \n",
    "\n"
   ]
  },
  {
   "cell_type": "code",
   "execution_count": 20,
   "metadata": {},
   "outputs": [
    {
     "ename": "NameError",
     "evalue": "name 'phone' is not defined",
     "output_type": "error",
     "traceback": [
      "\u001b[0;31m---------------------------------------------------------------------------\u001b[0m",
      "\u001b[0;31mNameError\u001b[0m                                 Traceback (most recent call last)",
      "\u001b[0;32m<ipython-input-20-ce610a7a5c76>\u001b[0m in \u001b[0;36m<module>\u001b[0;34m()\u001b[0m\n\u001b[0;32m----> 1\u001b[0;31m \u001b[0mtype\u001b[0m\u001b[0;34m(\u001b[0m\u001b[0mphone\u001b[0m\u001b[0;34m.\u001b[0m\u001b[0mdat\u001b[0m\u001b[0;34m)\u001b[0m\u001b[0;34m\u001b[0m\u001b[0m\n\u001b[0m",
      "\u001b[0;31mNameError\u001b[0m: name 'phone' is not defined"
     ]
    }
   ],
   "source": [
    "#Write a python progrramme to perform various operations on binarry file i.e phones.dat\n",
    "import sys,mmap\n",
    "#A menu\n",
    "print('1 Display all entries')\n",
    "print('2 Find phone no')\n",
    "print('3 Modify phone No')\n",
    "print('4 Exit')\n",
    "choice =input('Enter your choice:')\n",
    "if choice =='4':\n",
    "    sys.exit()\n",
    "    \n",
    "with open('phone.dat','r+b') as f:\n",
    "    mm=mmap.mmap(f.fileno(),0)\n",
    "    if choice =='1':\n",
    "        str =mm.read()\n",
    "        print(str.decode())\n",
    "    if choice=='2':\n",
    "        name=input('Enter Name:')\n",
    "        n=mm.find(name.encode())\n",
    "        n1=n+len(name)\n",
    "        ph=mm[n1:n1+10]\n",
    "        print('phone no:', ph.decode())\n",
    "        "
   ]
  }
 ],
 "metadata": {
  "kernelspec": {
   "display_name": "Python 3",
   "language": "python",
   "name": "python3"
  },
  "language_info": {
   "codemirror_mode": {
    "name": "ipython",
    "version": 3
   },
   "file_extension": ".py",
   "mimetype": "text/x-python",
   "name": "python",
   "nbconvert_exporter": "python",
   "pygments_lexer": "ipython3",
   "version": "3.6.3"
  }
 },
 "nbformat": 4,
 "nbformat_minor": 2
}
