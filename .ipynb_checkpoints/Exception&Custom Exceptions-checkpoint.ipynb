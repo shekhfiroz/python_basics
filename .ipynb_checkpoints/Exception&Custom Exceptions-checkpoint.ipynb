{
 "cells": [
  {
   "cell_type": "code",
   "execution_count": null,
   "metadata": {
    "collapsed": true
   },
   "outputs": [],
   "source": [
    "#29Nov17\n",
    "Exceptions:\n",
    "    Exception is a run time error that can be handled by the programmer.\n",
    "    Robust=> strong\n",
    "    Exceptions can be handled but error cannot be handled.\n",
    "    "
   ]
  },
  {
   "cell_type": "code",
   "execution_count": null,
   "metadata": {
    "collapsed": true
   },
   "outputs": [],
   "source": [
    "#Example for exception\n",
    "f=open('myfile.txt','w')\n",
    "a,b=[int(x) for x in input('Enter tow nos:').split(',')]\n",
    "c=a/b\n",
    "print('Result=',c)\n",
    "f.write('Result=%f'%c)\n",
    "f.close"
   ]
  },
  {
   "cell_type": "code",
   "execution_count": null,
   "metadata": {
    "collapsed": true
   },
   "outputs": [],
   "source": [
    "IQ:Where there is exception comes then what happens ?\n",
    "Ans:Data may be loose or software will be currepted and will not get desired output\n",
    "    what we should do now?\n",
    "    we have to handle the exception by writing the code try and catch\n",
    "    \n",
    "SYNTAX:\n",
    "    \n",
    "try:-> code\n",
    "except ExceptionName:\n",
    "    statments\n",
    "    statmens\n",
    "    \n",
    "else: -> code-> when there is no exception\n",
    "finally:->always executed."
   ]
  },
  {
   "cell_type": "code",
   "execution_count": null,
   "metadata": {
    "collapsed": true
   },
   "outputs": [],
   "source": [
    "#Example for Exception\n",
    "try:\n",
    "    f=open('myFileException','w')\n",
    "    a,b,x,f=[int(x) for x in input('Enter tow nos:').split(',')]\n",
    "    c=(a/b)+x-f\n",
    "    print('Result=',c)\n",
    "    \n",
    "except ZeroDivisionError:\n",
    "    print('Zero division occured')\n",
    "    print('Please do not enter 0 in denominator')\n",
    "    \n",
    "f.write('Result=%f'%c)\n",
    "f.close"
   ]
  },
  {
   "cell_type": "code",
   "execution_count": null,
   "metadata": {
    "collapsed": true
   },
   "outputs": [],
   "source": [
    "#Example for exception using else and finally block block\n",
    "try:\n",
    "    f=open('myFileException','w')\n",
    "    a,b=[int(x) for x in input('Enter tow nos:').split(',')]\n",
    "    c=a/b\n",
    "    print('Result=',c)\n",
    "except ZeroDivisionError:\n",
    "    print('Zero division occured')\n",
    "    print('Please do not enter 0')\n",
    "else:\n",
    "    f.write('Result=%f'%c)\n",
    "    print('i am in else block')\n",
    "finally:\n",
    "    f.close\n",
    "    print('file closed')\n"
   ]
  },
  {
   "cell_type": "code",
   "execution_count": null,
   "metadata": {
    "collapsed": true
   },
   "outputs": [],
   "source": [
    "#preventing the losse of data and "
   ]
  },
  {
   "cell_type": "code",
   "execution_count": null,
   "metadata": {
    "collapsed": true
   },
   "outputs": [],
   "source": [
    "#Example for exception using else and finally block block\n",
    "try:\n",
    "    f=open('myFileException','w')\n",
    "    a,b=[int(x) for x in input('Enter tow nos:').split(',')]\n",
    "    c=a/b\n",
    "    print('Result=',c)\n",
    "except ZeroDivisionError as z:\n",
    "    #print('Zero division occured')\n",
    "    print(z)\n",
    "    print('Please do not enter 0')\n",
    "else:\n",
    "    print( f.write('Result=%f'%c))\n",
    "    print('i am in else block')\n",
    "finally:\n",
    "    f.close\n",
    "    print('file closed')"
   ]
  },
  {
   "cell_type": "code",
   "execution_count": null,
   "metadata": {
    "collapsed": true
   },
   "outputs": [],
   "source": [
    "for i in range(10):\n",
    "    print('Heloo')\n",
    "    print(i)"
   ]
  },
  {
   "cell_type": "code",
   "execution_count": null,
   "metadata": {
    "collapsed": true
   },
   "outputs": [],
   "source": [
    "try:\n",
    "    for i in range(10):\n",
    "        print('Heloo')\n",
    "        print(i)\n",
    "except:IndentationError as obj:\n",
    "        print(obj)\n",
    "        print('Please Check Indentent')"
   ]
  },
  {
   "cell_type": "code",
   "execution_count": null,
   "metadata": {
    "collapsed": true
   },
   "outputs": [],
   "source": [
    "#To use AssertationError if the user input is not in betwnn 5 and 10\n",
    "n=int(input('Enter input:'))\n",
    "assert n>=5 and n<10,'Wrong input typed'\n",
    "print('U eneter ',n)"
   ]
  },
  {
   "cell_type": "code",
   "execution_count": null,
   "metadata": {
    "collapsed": true
   },
   "outputs": [],
   "source": [
    "#To use AssertationError if the user input is not in betwnn 5 and 10\n",
    "try:\n",
    "    n=int(input('Enter input:'))\n",
    "    assert n>=5 and n<10,'Wrong input typed'\n",
    "#except AssertionError as a:\n",
    "    print(a)\n",
    "#print('U eneter ',n)\n",
    " #else:\n",
    "   # print('U entered:',n)\n",
    "finally:\n",
    "    print('ok')"
   ]
  },
  {
   "cell_type": "code",
   "execution_count": null,
   "metadata": {
    "collapsed": true
   },
   "outputs": [],
   "source": [
    "#To use AssertationError if the user input is not in betwnn 5 and 10\n",
    "try:\n",
    "    n=int(input('Enter input:'))\n",
    "    assert n>=5 and n<10,'Wrong input typed'\n",
    "except Exception as e:\n",
    "    print(e)\n",
    "#print('U eneter ',n)\n",
    "else:\n",
    "     print('please type between 5 to 10')\n",
    "   # print('U entered:',n)\n",
    "   "
   ]
  },
  {
   "cell_type": "code",
   "execution_count": null,
   "metadata": {
    "collapsed": true
   },
   "outputs": [],
   "source": [
    "#User Defined Exceptions\n",
    "An exception is an error that can be handled.\n",
    "AN Error cannot be handled.\n",
    "\n",
    "Built In Exception:Part of python\n",
    "\n",
    "User-Defined exceptions:created by the programmer.\n",
    "    2000.00 ==>Balance in Bank Account\n",
    "    1500.00==> will have penalty of 100 inr from 1500.\n",
    "As Bank Developer we have write a user exception for bank to put penality over the culprit\n"
   ]
  },
  {
   "cell_type": "code",
   "execution_count": 15,
   "metadata": {},
   "outputs": [
    {
     "name": "stdout",
     "output_type": "stream",
     "text": [
      "Name= Shekh Balance=899900.0\n",
      "Name= Vinaya Balance=5600.55\n",
      "Balance Amount is less\n"
     ]
    }
   ],
   "source": [
    "class MyException(Exception):\n",
    "    def __init__(self,msg):\n",
    "        self.msg=msg\n",
    "#a function to check the bank accounts\n",
    "def check(dict):\n",
    "    for k,v  in dict.items():\n",
    "        print('Name= {} Balance={}'.format(k,v))\n",
    "        if v<200000.00:\n",
    "            #raise the exception\n",
    "            raise MyException('Balance Amount is less')\n",
    "            break\n",
    "#Data\n",
    "bank={'Shekh':899900.00,'Vinaya':5600.55,'Salman':89898.9,'Arif':43546.8,'Chints':89809.90,'Gupta':8987456}\n",
    "try:\n",
    "    check(bank)\n",
    "except MyException as me:\n",
    "    print(me)"
   ]
  },
  {
   "cell_type": "code",
   "execution_count": null,
   "metadata": {
    "collapsed": true
   },
   "outputs": [],
   "source": []
  },
  {
   "cell_type": "code",
   "execution_count": null,
   "metadata": {
    "collapsed": true
   },
   "outputs": [],
   "source": []
  }
 ],
 "metadata": {
  "kernelspec": {
   "display_name": "Python 3",
   "language": "python",
   "name": "python3"
  },
  "language_info": {
   "codemirror_mode": {
    "name": "ipython",
    "version": 3
   },
   "file_extension": ".py",
   "mimetype": "text/x-python",
   "name": "python",
   "nbconvert_exporter": "python",
   "pygments_lexer": "ipython3",
   "version": "3.6.3"
  }
 },
 "nbformat": 4,
 "nbformat_minor": 2
}
