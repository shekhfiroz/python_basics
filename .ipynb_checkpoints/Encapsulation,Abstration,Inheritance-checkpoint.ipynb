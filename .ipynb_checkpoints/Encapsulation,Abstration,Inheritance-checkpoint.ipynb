{
 "cells": [
  {
   "cell_type": "code",
   "execution_count": null,
   "metadata": {
    "collapsed": true
   },
   "outputs": [],
   "source": [
    "#Encapsulation concept\n",
    "Encapsulatation :Bundling up of data and methods into the same unit.\n",
    " example:class is an example of encapsulation\n",
    "Encapsulation is protective measure:\n",
    "    our stomach is better example of encapsulation"
   ]
  },
  {
   "cell_type": "code",
   "execution_count": null,
   "metadata": {
    "collapsed": true
   },
   "outputs": [],
   "source": [
    "Abstraction:Hiding unnessary data from the users"
   ]
  },
  {
   "cell_type": "code",
   "execution_count": 4,
   "metadata": {},
   "outputs": [
    {
     "name": "stdout",
     "output_type": "stream",
     "text": [
      "1001\n",
      "srinu\n",
      "78999\n",
      "150000\n",
      "150000\n"
     ]
    }
   ],
   "source": [
    "class Bank:\n",
    "    def __init__(self):\n",
    "        self.accno=1001\n",
    "        self.name='srinu'\n",
    "        self.bal=78999\n",
    "        #self.loan=150000 \n",
    "        self.__loan=150000 \n",
    "    def dispaly_to_clerk(self):\n",
    "        print('Account=',self.accno)\n",
    "        print('Name=',self.name)\n",
    "        print('bal=',self.bal)\n",
    "        \n",
    "b=Bank()\n",
    "print(b.accno)\n",
    "print(b.name)\n",
    "print(b.bal)\n",
    "print(b.loan)\n",
    "print(b._Bank__loan)#Name mangling\n",
    "#Name Mangling is a technique of writing the variable name differently to access the abstracted variable.\n",
    "# Syantx => obj._Classsname__varname"
   ]
  },
  {
   "cell_type": "code",
   "execution_count": null,
   "metadata": {
    "collapsed": true
   },
   "outputs": [],
   "source": [
    "#Inheritance:\n",
    "Producing new classes from already existing classes such that all the features\n",
    "of the existing classes will be available to the newly created classes.\n",
    "The already existing class->super class or base class\n",
    "the newly created class-> sub class or derived class\n",
    "\n",
    "Syntax:class Subclass(Superclass):\n",
    "        body of sub class"
   ]
  },
  {
   "cell_type": "code",
   "execution_count": 3,
   "metadata": {
    "collapsed": true
   },
   "outputs": [],
   "source": [
    "#Demo of py\n",
    "class Teacher:\n",
    "    def setId(self,id):\n",
    "        self.id=id\n",
    "    def getId(self):\n",
    "        return self.id\n",
    "    \n",
    "    def setName(self,name):\n",
    "        self.name=name\n",
    "    def getName(self):\n",
    "        return self.name\n",
    "    \n",
    "    def setAddress(self,addr):\n",
    "        self.addr=addr\n",
    "    def getAddress(self):\n",
    "        return self.addr\n",
    "    \n",
    "    def setSal(self,sal):\n",
    "        self.sal=sal\n",
    "    def getSal(self):\n",
    "        return self.sal\n",
    "        "
   ]
  },
  {
   "cell_type": "code",
   "execution_count": 4,
   "metadata": {},
   "outputs": [
    {
     "name": "stdout",
     "output_type": "stream",
     "text": [
      "ID= 10\n",
      "NAME= shekh\n",
      "ADDRESS= 1-A,Ameerpet,Hyderbad\n",
      "SALARY= 100000\n"
     ]
    }
   ],
   "source": [
    "#Using the teacher class\n",
    "from Teacher import Teacher\n",
    "t=Teacher()\n",
    "t.setId(10)\n",
    "t.setName(\"shekh\")\n",
    "t.setAddress('1-A,Ameerpet,Hyderbad')\n",
    "t.setSal(100000)\n",
    "\n",
    "print(\"ID=\",t.getId())\n",
    "print(\"NAME=\",t.getName())\n",
    "print(\"ADDRESS=\",t.getAddress())\n",
    "print(\"SALARY=\",t.getSal())"
   ]
  },
  {
   "cell_type": "code",
   "execution_count": 6,
   "metadata": {
    "collapsed": true
   },
   "outputs": [],
   "source": [
    "#inherite code from teacher to student\n",
    "from Teacher import Teacher\n",
    "class inheriteTeachertoStudent(Teacher):\n",
    "    def setMarks(self,marks):\n",
    "        self.marks=marks\n",
    "    def getMarks(self):\n",
    "        return marks\n"
   ]
  },
  {
   "cell_type": "code",
   "execution_count": null,
   "metadata": {
    "collapsed": true
   },
   "outputs": [],
   "source": []
  },
  {
   "cell_type": "code",
   "execution_count": null,
   "metadata": {
    "collapsed": true
   },
   "outputs": [],
   "source": []
  },
  {
   "cell_type": "code",
   "execution_count": null,
   "metadata": {
    "collapsed": true
   },
   "outputs": [],
   "source": []
  },
  {
   "cell_type": "code",
   "execution_count": null,
   "metadata": {
    "collapsed": true
   },
   "outputs": [],
   "source": [
    "\"\"\"\"Programmers productivity is increased.\n",
    "productivity =code delivered\n",
    "it improves overall productivity company\"\"\"\"\n",
    "#6 month ->2 200 cr ->50 cr\n",
    "          -> 600 cr ->150 cr\n",
    " ------------------------------------------                   \n",
    "                       100 cr extra profit\n",
    " ------------------------------------------"
   ]
  },
  {
   "cell_type": "code",
   "execution_count": null,
   "metadata": {
    "collapsed": true
   },
   "outputs": [],
   "source": [
    "All the members of super classs  are available to sub class\n",
    "1) super classs constructor\n",
    "2) super class methods\n",
    "3) super class variables\n",
    "==================================================================================================================\n",
    "1) to refer to super class constuctor:\n",
    "    super.__init__()\n",
    "    super.__init__(args)\n",
    "    \n",
    "2) to call super class methods:\n",
    "   super.method()\n",
    "\n",
    "3).to refer to super class vars:\n",
    "   super().var\n"
   ]
  },
  {
   "cell_type": "code",
   "execution_count": 17,
   "metadata": {},
   "outputs": [
    {
     "name": "stdout",
     "output_type": "stream",
     "text": [
      "Area of rectangle= 600\n",
      "area of square 400\n"
     ]
    }
   ],
   "source": [
    "#Write a python programme to drive a rectange class from SQUARE class claculate are of square and rectangle\n",
    "#Write a python programme to drive a rectange class from SQUARE class claculate are of square and rectangle\n",
    "#Write a python programme to drive a rectange class from SQUARE class claculate are of square and rectangle\n",
    "class Square:\n",
    "\tdef __init__(self,x):\n",
    "\t\tself.x=x\n",
    "\tdef area1(self):\n",
    "\t\tprint('area of square',self.x*self.x)\n",
    "class Rectangle(Square):\n",
    "\tdef __init__(self,x,y):\n",
    "\t\tsuper().__init__(x)\n",
    "\t\tself.y=y\n",
    "\tdef area(self):\n",
    "\t\tprint(\"Area of rectangle=\",self.x*self.y)\n",
    "\t\tsuper().area1()\n",
    "r=Rectangle(20,30)\n",
    "r.area()"
   ]
  },
  {
   "cell_type": "code",
   "execution_count": null,
   "metadata": {
    "collapsed": true
   },
   "outputs": [],
   "source": [
    "#TYPES OF iNHERENTACE IN PYTHON\n",
    "1)Single Inheritance:Deriving subclasses from a single sub class.\n",
    "2)Multiple INheritance:Deriving sub classes from multiple(more than 1 ) super class."
   ]
  },
  {
   "cell_type": "code",
   "execution_count": 9,
   "metadata": {},
   "outputs": [
    {
     "name": "stdout",
     "output_type": "stream",
     "text": [
      "Height is 6 feet\n",
      "color is fair\n"
     ]
    }
   ],
   "source": [
    "#Write a python progrrame to derive Son class from  father mother classes\n",
    "class Father:\n",
    "    def height(self):\n",
    "        print(\"Height is 6 feet\")\n",
    "        \n",
    "class Mother:\n",
    "    def color(self):\n",
    "        print('color is fair')\n",
    "class child(Father,Mother):#derived from mother and father\n",
    "    pass\n",
    "\n",
    "firoz= child()\n",
    "firoz.height()\n",
    "firoz.color()\n"
   ]
  },
  {
   "cell_type": "code",
   "execution_count": 18,
   "metadata": {},
   "outputs": [
    {
     "name": "stdout",
     "output_type": "stream",
     "text": [
      "Height is 5.5 feet\n",
      "color is fair\n"
     ]
    }
   ],
   "source": [
    "#Write a python progrrame to derive Son class from  father mother classes\n",
    "class Father:\n",
    "    def height(self):\n",
    "        print(\"Height is 6 feet\")\n",
    "        \n",
    "class Mother:\n",
    "    def color(self):\n",
    "        print('color is fair')\n",
    "class child(Father,Mother):#derived from mother and father\n",
    "    def height(self):\n",
    "        print(\"Height is 5.5 feet\") #method over riding\n",
    "        \n",
    "firoz= child()\n",
    "firoz.height()\n",
    "firoz.color()\n"
   ]
  },
  {
   "cell_type": "code",
   "execution_count": 32,
   "metadata": {},
   "outputs": [
    {
     "name": "stdout",
     "output_type": "stream",
     "text": [
      "P\n",
      "X\n",
      "A\n",
      "Y\n",
      "B\n",
      "C\n"
     ]
    },
    {
     "ename": "AttributeError",
     "evalue": "'super' object has no attribute 'method'",
     "output_type": "error",
     "traceback": [
      "\u001b[0;31m---------------------------------------------------------------------------\u001b[0m",
      "\u001b[0;31mAttributeError\u001b[0m                            Traceback (most recent call last)",
      "\u001b[0;32m<ipython-input-32-168ab67abd7f>\u001b[0m in \u001b[0;36m<module>\u001b[0;34m()\u001b[0m\n\u001b[1;32m     29\u001b[0m \u001b[0;34m\u001b[0m\u001b[0m\n\u001b[1;32m     30\u001b[0m \u001b[0mobj\u001b[0m\u001b[0;34m=\u001b[0m\u001b[0mP\u001b[0m\u001b[0;34m(\u001b[0m\u001b[0;34m)\u001b[0m\u001b[0;34m\u001b[0m\u001b[0m\n\u001b[0;32m---> 31\u001b[0;31m \u001b[0mobj\u001b[0m\u001b[0;34m.\u001b[0m\u001b[0mmethod\u001b[0m\u001b[0;34m(\u001b[0m\u001b[0;34m)\u001b[0m\u001b[0;34m\u001b[0m\u001b[0m\n\u001b[0m\u001b[1;32m     32\u001b[0m \u001b[0;34m\u001b[0m\u001b[0m\n\u001b[1;32m     33\u001b[0m \u001b[0mP\u001b[0m\u001b[0;34m.\u001b[0m\u001b[0mmro\u001b[0m\u001b[0;34m(\u001b[0m\u001b[0;34m)\u001b[0m \u001b[0;31m#MRO is static method so class name with method name HOw to call MRO Method to get the order\u001b[0m\u001b[0;34m\u001b[0m\u001b[0m\n",
      "\u001b[0;32m<ipython-input-32-168ab67abd7f>\u001b[0m in \u001b[0;36mmethod\u001b[0;34m(self)\u001b[0m\n\u001b[1;32m     26\u001b[0m     \u001b[0;32mdef\u001b[0m \u001b[0mmethod\u001b[0m\u001b[0;34m(\u001b[0m\u001b[0mself\u001b[0m\u001b[0;34m)\u001b[0m\u001b[0;34m:\u001b[0m\u001b[0;34m\u001b[0m\u001b[0m\n\u001b[1;32m     27\u001b[0m         \u001b[0mprint\u001b[0m\u001b[0;34m(\u001b[0m\u001b[0;34m'P'\u001b[0m\u001b[0;34m)\u001b[0m\u001b[0;34m\u001b[0m\u001b[0m\n\u001b[0;32m---> 28\u001b[0;31m         \u001b[0msuper\u001b[0m\u001b[0;34m(\u001b[0m\u001b[0;34m)\u001b[0m\u001b[0;34m.\u001b[0m\u001b[0mmethod\u001b[0m\u001b[0;34m(\u001b[0m\u001b[0;34m)\u001b[0m\u001b[0;34m\u001b[0m\u001b[0m\n\u001b[0m\u001b[1;32m     29\u001b[0m \u001b[0;34m\u001b[0m\u001b[0m\n\u001b[1;32m     30\u001b[0m \u001b[0mobj\u001b[0m\u001b[0;34m=\u001b[0m\u001b[0mP\u001b[0m\u001b[0;34m(\u001b[0m\u001b[0;34m)\u001b[0m\u001b[0;34m\u001b[0m\u001b[0m\n",
      "\u001b[0;32m<ipython-input-32-168ab67abd7f>\u001b[0m in \u001b[0;36mmethod\u001b[0;34m(self)\u001b[0m\n\u001b[1;32m     17\u001b[0m     \u001b[0;32mdef\u001b[0m \u001b[0mmethod\u001b[0m\u001b[0;34m(\u001b[0m\u001b[0mself\u001b[0m\u001b[0;34m)\u001b[0m\u001b[0;34m:\u001b[0m\u001b[0;34m\u001b[0m\u001b[0m\n\u001b[1;32m     18\u001b[0m         \u001b[0mprint\u001b[0m\u001b[0;34m(\u001b[0m\u001b[0;34m'X'\u001b[0m\u001b[0;34m)\u001b[0m\u001b[0;34m\u001b[0m\u001b[0m\n\u001b[0;32m---> 19\u001b[0;31m         \u001b[0msuper\u001b[0m\u001b[0;34m(\u001b[0m\u001b[0;34m)\u001b[0m\u001b[0;34m.\u001b[0m\u001b[0mmethod\u001b[0m\u001b[0;34m(\u001b[0m\u001b[0;34m)\u001b[0m\u001b[0;34m\u001b[0m\u001b[0m\n\u001b[0m\u001b[1;32m     20\u001b[0m \u001b[0;34m\u001b[0m\u001b[0m\n\u001b[1;32m     21\u001b[0m \u001b[0;32mclass\u001b[0m \u001b[0mY\u001b[0m\u001b[0;34m(\u001b[0m\u001b[0mB\u001b[0m\u001b[0;34m,\u001b[0m\u001b[0mC\u001b[0m\u001b[0;34m)\u001b[0m\u001b[0;34m:\u001b[0m\u001b[0;34m\u001b[0m\u001b[0m\n",
      "\u001b[0;32m<ipython-input-32-168ab67abd7f>\u001b[0m in \u001b[0;36mmethod\u001b[0;34m(self)\u001b[0m\n\u001b[1;32m      3\u001b[0m     \u001b[0;32mdef\u001b[0m \u001b[0mmethod\u001b[0m\u001b[0;34m(\u001b[0m\u001b[0mself\u001b[0m\u001b[0;34m)\u001b[0m\u001b[0;34m:\u001b[0m\u001b[0;34m\u001b[0m\u001b[0m\n\u001b[1;32m      4\u001b[0m         \u001b[0mprint\u001b[0m\u001b[0;34m(\u001b[0m\u001b[0;34m\"A\"\u001b[0m\u001b[0;34m)\u001b[0m\u001b[0;34m\u001b[0m\u001b[0m\n\u001b[0;32m----> 5\u001b[0;31m         \u001b[0msuper\u001b[0m\u001b[0;34m(\u001b[0m\u001b[0;34m)\u001b[0m\u001b[0;34m.\u001b[0m\u001b[0mmethod\u001b[0m\u001b[0;34m(\u001b[0m\u001b[0;34m)\u001b[0m\u001b[0;34m\u001b[0m\u001b[0m\n\u001b[0m\u001b[1;32m      6\u001b[0m \u001b[0;32mclass\u001b[0m \u001b[0mB\u001b[0m\u001b[0;34m(\u001b[0m\u001b[0mobject\u001b[0m\u001b[0;34m)\u001b[0m\u001b[0;34m:\u001b[0m\u001b[0;34m\u001b[0m\u001b[0m\n\u001b[1;32m      7\u001b[0m     \u001b[0;32mdef\u001b[0m \u001b[0mmethod\u001b[0m\u001b[0;34m(\u001b[0m\u001b[0mself\u001b[0m\u001b[0;34m)\u001b[0m\u001b[0;34m:\u001b[0m\u001b[0;34m\u001b[0m\u001b[0m\n",
      "\u001b[0;32m<ipython-input-32-168ab67abd7f>\u001b[0m in \u001b[0;36mmethod\u001b[0;34m(self)\u001b[0m\n\u001b[1;32m     22\u001b[0m     \u001b[0;32mdef\u001b[0m \u001b[0mmethod\u001b[0m\u001b[0;34m(\u001b[0m\u001b[0mself\u001b[0m\u001b[0;34m)\u001b[0m\u001b[0;34m:\u001b[0m\u001b[0;34m\u001b[0m\u001b[0m\n\u001b[1;32m     23\u001b[0m         \u001b[0mprint\u001b[0m\u001b[0;34m(\u001b[0m\u001b[0;34m'Y'\u001b[0m\u001b[0;34m)\u001b[0m\u001b[0;34m\u001b[0m\u001b[0m\n\u001b[0;32m---> 24\u001b[0;31m         \u001b[0msuper\u001b[0m\u001b[0;34m(\u001b[0m\u001b[0;34m)\u001b[0m\u001b[0;34m.\u001b[0m\u001b[0mmethod\u001b[0m\u001b[0;34m(\u001b[0m\u001b[0;34m)\u001b[0m\u001b[0;34m\u001b[0m\u001b[0m\n\u001b[0m\u001b[1;32m     25\u001b[0m \u001b[0;32mclass\u001b[0m \u001b[0mP\u001b[0m\u001b[0;34m(\u001b[0m\u001b[0mX\u001b[0m\u001b[0;34m,\u001b[0m\u001b[0mY\u001b[0m\u001b[0;34m,\u001b[0m\u001b[0mC\u001b[0m\u001b[0;34m)\u001b[0m\u001b[0;34m:\u001b[0m\u001b[0;34m\u001b[0m\u001b[0m\n\u001b[1;32m     26\u001b[0m     \u001b[0;32mdef\u001b[0m \u001b[0mmethod\u001b[0m\u001b[0;34m(\u001b[0m\u001b[0mself\u001b[0m\u001b[0;34m)\u001b[0m\u001b[0;34m:\u001b[0m\u001b[0;34m\u001b[0m\u001b[0m\n",
      "\u001b[0;32m<ipython-input-32-168ab67abd7f>\u001b[0m in \u001b[0;36mmethod\u001b[0;34m(self)\u001b[0m\n\u001b[1;32m      7\u001b[0m     \u001b[0;32mdef\u001b[0m \u001b[0mmethod\u001b[0m\u001b[0;34m(\u001b[0m\u001b[0mself\u001b[0m\u001b[0;34m)\u001b[0m\u001b[0;34m:\u001b[0m\u001b[0;34m\u001b[0m\u001b[0m\n\u001b[1;32m      8\u001b[0m         \u001b[0mprint\u001b[0m\u001b[0;34m(\u001b[0m\u001b[0;34m\"B\"\u001b[0m\u001b[0;34m)\u001b[0m\u001b[0;34m\u001b[0m\u001b[0m\n\u001b[0;32m----> 9\u001b[0;31m         \u001b[0msuper\u001b[0m\u001b[0;34m(\u001b[0m\u001b[0;34m)\u001b[0m\u001b[0;34m.\u001b[0m\u001b[0mmethod\u001b[0m\u001b[0;34m(\u001b[0m\u001b[0;34m)\u001b[0m\u001b[0;34m\u001b[0m\u001b[0m\n\u001b[0m\u001b[1;32m     10\u001b[0m \u001b[0;34m\u001b[0m\u001b[0m\n\u001b[1;32m     11\u001b[0m \u001b[0;32mclass\u001b[0m \u001b[0mC\u001b[0m\u001b[0;34m(\u001b[0m\u001b[0mobject\u001b[0m\u001b[0;34m)\u001b[0m\u001b[0;34m:\u001b[0m\u001b[0;34m\u001b[0m\u001b[0m\n",
      "\u001b[0;32m<ipython-input-32-168ab67abd7f>\u001b[0m in \u001b[0;36mmethod\u001b[0;34m(self)\u001b[0m\n\u001b[1;32m     12\u001b[0m     \u001b[0;32mdef\u001b[0m \u001b[0mmethod\u001b[0m\u001b[0;34m(\u001b[0m\u001b[0mself\u001b[0m\u001b[0;34m)\u001b[0m\u001b[0;34m:\u001b[0m\u001b[0;34m\u001b[0m\u001b[0m\n\u001b[1;32m     13\u001b[0m         \u001b[0mprint\u001b[0m\u001b[0;34m(\u001b[0m\u001b[0;34m\"C\"\u001b[0m\u001b[0;34m)\u001b[0m\u001b[0;34m\u001b[0m\u001b[0m\n\u001b[0;32m---> 14\u001b[0;31m         \u001b[0msuper\u001b[0m\u001b[0;34m(\u001b[0m\u001b[0;34m)\u001b[0m\u001b[0;34m.\u001b[0m\u001b[0mmethod\u001b[0m\u001b[0;34m(\u001b[0m\u001b[0;34m)\u001b[0m\u001b[0;34m\u001b[0m\u001b[0m\n\u001b[0m\u001b[1;32m     15\u001b[0m \u001b[0;34m\u001b[0m\u001b[0m\n\u001b[1;32m     16\u001b[0m \u001b[0;32mclass\u001b[0m \u001b[0mX\u001b[0m\u001b[0;34m(\u001b[0m\u001b[0mA\u001b[0m\u001b[0;34m,\u001b[0m\u001b[0mB\u001b[0m\u001b[0;34m)\u001b[0m\u001b[0;34m:\u001b[0m\u001b[0;34m\u001b[0m\u001b[0m\n",
      "\u001b[0;31mAttributeError\u001b[0m: 'super' object has no attribute 'method'"
     ]
    }
   ],
   "source": [
    "#Oder of the object\n",
    "class A(object):\n",
    "    def method(self):\n",
    "        print(\"A\")\n",
    "        super().method()\n",
    "class B(object):\n",
    "    def method(self):\n",
    "        print(\"B\")\n",
    "        super().method()\n",
    "        \n",
    "class C(object):\n",
    "    def method(self):\n",
    "        print(\"C\")\n",
    "        super().method()\n",
    "        \n",
    "class X(A,B):\n",
    "    def method(self):\n",
    "        print('X')\n",
    "        super().method()\n",
    "        \n",
    "class Y(B,C):\n",
    "    def method(self):\n",
    "        print('Y')\n",
    "        super().method()\n",
    "class P(X,Y,C):\n",
    "    def method(self):\n",
    "        print('P')\n",
    "        super().method()\n",
    "        \n",
    "obj=P()\n",
    "obj.method()\n",
    "\n",
    "P.mro() #MRO is static method so class name with method name HOw to call MRO Method to get the order \n",
    "print(P.mro())"
   ]
  },
  {
   "cell_type": "code",
   "execution_count": null,
   "metadata": {
    "collapsed": true
   },
   "outputs": [],
   "source": [
    "#HOw to call MRO Method"
   ]
  },
  {
   "cell_type": "code",
   "execution_count": null,
   "metadata": {
    "collapsed": true
   },
   "outputs": [],
   "source": []
  },
  {
   "cell_type": "code",
   "execution_count": null,
   "metadata": {
    "collapsed": true
   },
   "outputs": [],
   "source": []
  },
  {
   "cell_type": "code",
   "execution_count": null,
   "metadata": {
    "collapsed": true
   },
   "outputs": [],
   "source": []
  }
 ],
 "metadata": {
  "kernelspec": {
   "display_name": "Python 3",
   "language": "python",
   "name": "python3"
  },
  "language_info": {
   "codemirror_mode": {
    "name": "ipython",
    "version": 3
   },
   "file_extension": ".py",
   "mimetype": "text/x-python",
   "name": "python",
   "nbconvert_exporter": "python",
   "pygments_lexer": "ipython3",
   "version": "3.6.3"
  }
 },
 "nbformat": 4,
 "nbformat_minor": 2
}
