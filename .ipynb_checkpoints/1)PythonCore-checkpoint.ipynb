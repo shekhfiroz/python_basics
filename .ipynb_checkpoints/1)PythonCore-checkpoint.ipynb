{
 "cells": [
  {
   "cell_type": "code",
   "execution_count": 1,
   "metadata": {},
   "outputs": [
    {
     "name": "stdout",
     "output_type": "stream",
     "text": [
      "shekh firoz alam        \n"
     ]
    }
   ],
   "source": [
    "#Strip command# rstrip() to remove left strip #lstrip() to remove right strip\n",
    "name='     shekh firoz alam        '\n",
    "print(name.lstrip())\n"
   ]
  },
  {
   "cell_type": "code",
   "execution_count": 2,
   "metadata": {
    "collapsed": true
   },
   "outputs": [],
   "source": [
    "s1=\"\""
   ]
  },
  {
   "cell_type": "code",
   "execution_count": null,
   "metadata": {
    "collapsed": true
   },
   "outputs": [],
   "source": []
  },
  {
   "cell_type": "code",
   "execution_count": null,
   "metadata": {
    "collapsed": true
   },
   "outputs": [],
   "source": []
  },
  {
   "cell_type": "code",
   "execution_count": null,
   "metadata": {
    "collapsed": true
   },
   "outputs": [],
   "source": []
  },
  {
   "cell_type": "code",
   "execution_count": 3,
   "metadata": {},
   "outputs": [
    {
     "data": {
      "text/plain": [
       "'THIS IS BOOK'"
      ]
     },
     "execution_count": 3,
     "metadata": {},
     "output_type": "execute_result"
    }
   ],
   "source": [
    "#to make uppercase\n",
    "\n",
    "s1=\"this is book\"\n",
    "s1.upper()\n"
   ]
  },
  {
   "cell_type": "code",
   "execution_count": 4,
   "metadata": {},
   "outputs": [
    {
     "data": {
      "text/plain": [
       "'this is book'"
      ]
     },
     "execution_count": 4,
     "metadata": {},
     "output_type": "execute_result"
    }
   ],
   "source": [
    "#to make lowercase\n",
    "s1.lower()"
   ]
  },
  {
   "cell_type": "code",
   "execution_count": 5,
   "metadata": {},
   "outputs": [
    {
     "data": {
      "text/plain": [
       "'This Is Book'"
      ]
     },
     "execution_count": 5,
     "metadata": {},
     "output_type": "execute_result"
    }
   ],
   "source": [
    "#to get title case\n",
    "s1.title()"
   ]
  },
  {
   "cell_type": "code",
   "execution_count": 6,
   "metadata": {},
   "outputs": [
    {
     "name": "stdout",
     "output_type": "stream",
     "text": [
      "hyderabad\n"
     ]
    }
   ],
   "source": [
    "#concatination of string\n",
    "s1=\"hydera\"\n",
    "s2=\"bad\"\n",
    "s3=s1+s2\n",
    "print(s3)"
   ]
  },
  {
   "cell_type": "code",
   "execution_count": 7,
   "metadata": {},
   "outputs": [
    {
     "name": "stdout",
     "output_type": "stream",
     "text": [
      "H\n",
      "e\n",
      "l\n",
      "l\n",
      "o\n"
     ]
    }
   ],
   "source": [
    "#character and forloop\n",
    "str=\"Hello\"\n",
    "#str[0]\n",
    "for x in str:\n",
    "    print(x)\n"
   ]
  },
  {
   "cell_type": "code",
   "execution_count": 8,
   "metadata": {},
   "outputs": [
    {
     "name": "stdout",
     "output_type": "stream",
     "text": [
      "H,e,l,l,o,"
     ]
    }
   ],
   "source": [
    "#forloop to print in single line you wil use \"end\" keyword \n",
    "for x in str:\n",
    "    print(x,end=',')"
   ]
  },
  {
   "cell_type": "code",
   "execution_count": 9,
   "metadata": {},
   "outputs": [
    {
     "name": "stdout",
     "output_type": "stream",
     "text": [
      "<class 'bytes'>\n",
      "b'\\n\\x14\\x1e(2'\n",
      "10\n",
      "20\n",
      "30\n",
      "40\n",
      "50\n"
     ]
    },
    {
     "ename": "TypeError",
     "evalue": "'bytes' object does not support item assignment",
     "output_type": "error",
     "traceback": [
      "\u001b[1;31m---------------------------------------------------------------------------\u001b[0m",
      "\u001b[1;31mTypeError\u001b[0m                                 Traceback (most recent call last)",
      "\u001b[1;32m<ipython-input-9-d2d747889adc>\u001b[0m in \u001b[0;36m<module>\u001b[1;34m()\u001b[0m\n\u001b[0;32m      8\u001b[0m \u001b[1;33m\u001b[0m\u001b[0m\n\u001b[0;32m      9\u001b[0m \u001b[1;31m#bytes type cannot be modified,we cannot modified the element of byte array\u001b[0m\u001b[1;33m\u001b[0m\u001b[1;33m\u001b[0m\u001b[0m\n\u001b[1;32m---> 10\u001b[1;33m \u001b[0mx\u001b[0m\u001b[1;33m[\u001b[0m\u001b[1;36m0\u001b[0m\u001b[1;33m]\u001b[0m\u001b[1;33m=\u001b[0m\u001b[1;36m44\u001b[0m\u001b[1;33m\u001b[0m\u001b[0m\n\u001b[0m",
      "\u001b[1;31mTypeError\u001b[0m: 'bytes' object does not support item assignment"
     ]
    }
   ],
   "source": [
    "#Bytes data type:an array that stores number between 0 to 255\n",
    "\n",
    "x=bytes([10,20,30,40,50])\n",
    "print(type(x))\n",
    "print(x)\n",
    "for i in x:\n",
    "    print(i)\n",
    "    \n",
    "#bytes type cannot be modified,we cannot modified the element of byte array\n",
    "x[0]=44"
   ]
  },
  {
   "cell_type": "code",
   "execution_count": null,
   "metadata": {
    "collapsed": true
   },
   "outputs": [],
   "source": [
    "#bytearray datatype:same as bytes but we cannot be modified but bytearray data type can be modifieds\n",
    "x=bytearray([10,23,4,56,6,7,5,4,3,2,2,3,4,5,5])\n",
    "x\n",
    "for i in x:print(i)\n",
    "x[0]\n",
    "x[0]=99\n",
    "for i in x: print(i)"
   ]
  },
  {
   "cell_type": "code",
   "execution_count": null,
   "metadata": {
    "collapsed": true
   },
   "outputs": [],
   "source": [
    "##vimp List:A list is similar to array that can store a group of elements of different types\n",
    "#in list we can store multiple kid of datatype in List.its represtend as []\n",
    "lst=[]\n",
    "lst=[10,20.40,49.8,'shekh','a']\n",
    "#print(lst)\n",
    "for x in lst:print(x)\n",
    "#it will take element from lst and print\n",
    "#list is a versitile data type in python can store anything\n"
   ]
  },
  {
   "cell_type": "code",
   "execution_count": null,
   "metadata": {
    "collapsed": true
   },
   "outputs": [],
   "source": [
    "#in a list we can perform various task as below\n",
    "#indexing->retevering any particular elements\n",
    "\n",
    "lst[0]\n",
    "lst[3]"
   ]
  },
  {
   "cell_type": "code",
   "execution_count": null,
   "metadata": {
    "collapsed": true
   },
   "outputs": [],
   "source": [
    "#slicing in list->Retrieveing a particular element\n",
    "\n",
    "lst[3]\n",
    "lst[0:3] #will print n-1 element below\n",
    "lst[3:5]\n",
    "len(lst) #return the length of elements\n",
    "lst[0:len(lst)]#printing from 0 to len\n",
    "lst[0:5:2]#stepsize 2 means print alternate elements\n",
    "lst[4:1:-1]#print in reverse method\n",
    "lst[::-1]\n"
   ]
  },
  {
   "cell_type": "code",
   "execution_count": null,
   "metadata": {
    "collapsed": true
   },
   "outputs": [],
   "source": [
    "#special print play\n",
    "lst[::]"
   ]
  },
  {
   "cell_type": "code",
   "execution_count": null,
   "metadata": {
    "collapsed": true
   },
   "outputs": [],
   "source": [
    "lst1=lst*2     # repeate complete list \n",
    "print(lst1)\n"
   ]
  },
  {
   "cell_type": "code",
   "execution_count": null,
   "metadata": {
    "collapsed": true
   },
   "outputs": [],
   "source": [
    "#Delete a particular function del is fundtion we have give the index\n",
    "del(lst[1])\n",
    "lst\n"
   ]
  },
  {
   "cell_type": "code",
   "execution_count": null,
   "metadata": {
    "collapsed": true
   },
   "outputs": [],
   "source": [
    "lst2=lst.remove('a') #to remove method we will directly give the element\n"
   ]
  },
  {
   "cell_type": "code",
   "execution_count": null,
   "metadata": {
    "collapsed": true
   },
   "outputs": [],
   "source": [
    "#lst\n",
    "lst=(5,10,2,1,-3,9)\n",
    "lst[1:3]\n",
    "lst[1:3]=[8, 15]  #getting error"
   ]
  },
  {
   "cell_type": "code",
   "execution_count": null,
   "metadata": {
    "collapsed": true
   },
   "outputs": [],
   "source": [
    "#i want to know the position number  of a element 9\n",
    "max(lst)\n",
    "min(lst)\n",
    "#lst(index(9))\n",
    "lst.count(9)\n",
    "print(lst)\n",
    "lst.insert(0,10)\n",
    "lst"
   ]
  },
  {
   "cell_type": "code",
   "execution_count": null,
   "metadata": {
    "collapsed": true
   },
   "outputs": [],
   "source": [
    "lst1=lst.copy()\n",
    "lst1"
   ]
  },
  {
   "cell_type": "code",
   "execution_count": null,
   "metadata": {
    "collapsed": true
   },
   "outputs": [],
   "source": [
    "lst.extend([0,0,0,0,0])\n",
    "lst"
   ]
  },
  {
   "cell_type": "code",
   "execution_count": null,
   "metadata": {
    "collapsed": true
   },
   "outputs": [],
   "source": [
    "lst.sort()\n",
    "lst\n",
    "lst.sort(reverse=True)#shorted in reverse order"
   ]
  },
  {
   "cell_type": "code",
   "execution_count": null,
   "metadata": {
    "collapsed": true
   },
   "outputs": [],
   "source": [
    "#Tuple is same as list we cannot modify the elements of tuple\n",
    "#its represented as ()\n",
    "tpl =(3,4,5,6,10.5,'shekh')\n",
    "print(tpl)\n",
    "tpl[0]=99  #cannot modify the tupple"
   ]
  },
  {
   "cell_type": "code",
   "execution_count": null,
   "metadata": {
    "collapsed": true
   },
   "outputs": [],
   "source": [
    "#tuple is one element comma is very imp\n",
    "tpl1=(10,)\n",
    "print(tpl1)"
   ]
  },
  {
   "cell_type": "code",
   "execution_count": null,
   "metadata": {
    "collapsed": true
   },
   "outputs": [],
   "source": [
    "tpl1*3 #multiply the tupple several times"
   ]
  },
  {
   "cell_type": "code",
   "execution_count": null,
   "metadata": {
    "collapsed": true
   },
   "outputs": [],
   "source": [
    "#Python 4 Class(02Nov2017)"
   ]
  },
  {
   "cell_type": "code",
   "execution_count": null,
   "metadata": {
    "collapsed": true
   },
   "outputs": [],
   "source": []
  },
  {
   "cell_type": "code",
   "execution_count": null,
   "metadata": {
    "collapsed": true
   },
   "outputs": [],
   "source": [
    "#Data Type is Range\n",
    "Range is a data type its loking like a function when we call the range function it \n",
    "will internally call a function and create a sequence of number eg:range(5)->0to4"
   ]
  },
  {
   "cell_type": "code",
   "execution_count": null,
   "metadata": {
    "collapsed": true
   },
   "outputs": [],
   "source": [
    "obj =range(5)\n",
    "print(obj)\n",
    "#to print the numbers\n",
    "for i in obj:\n",
    "    print(i)"
   ]
  },
  {
   "cell_type": "code",
   "execution_count": null,
   "metadata": {
    "collapsed": true
   },
   "outputs": [],
   "source": [
    "object2=range(10,21)\n",
    "for i in object2:\n",
    "    print(i)"
   ]
  },
  {
   "cell_type": "code",
   "execution_count": null,
   "metadata": {
    "collapsed": true
   },
   "outputs": [],
   "source": [
    "#we can mention step size also\n",
    "x=range(10,21,2)\n",
    "for i in x:\n",
    "    print(i)"
   ]
  },
  {
   "cell_type": "code",
   "execution_count": null,
   "metadata": {
    "collapsed": true
   },
   "outputs": [],
   "source": [
    "#print in decending order\n",
    "x=range(10,5, -1)\n",
    "for i in x:\n",
    "    print(i)"
   ]
  },
  {
   "cell_type": "code",
   "execution_count": null,
   "metadata": {
    "collapsed": true
   },
   "outputs": [],
   "source": [
    "#SET DATA TYPE\n",
    "'''\n",
    "1)unordered collection of element \n",
    "2)sets will not allow duplicate elements\n",
    "3) nordered collection\n",
    "'''\n",
    "\n",
    "myset={10,-25,'srinu',x}\n",
    "for i in myset:\n",
    "    print(i)"
   ]
  },
  {
   "cell_type": "code",
   "execution_count": null,
   "metadata": {
    "collapsed": true
   },
   "outputs": [],
   "source": [
    "myset={10,20,30,20,40,50,60}\n",
    "for i in myset:\n",
    "    print(myset)"
   ]
  },
  {
   "cell_type": "code",
   "execution_count": null,
   "metadata": {
    "collapsed": true
   },
   "outputs": [],
   "source": [
    "#update,remove, method\n",
    "#can you modify the list? yes we can\n",
    "s={1,2,3,4,5}\n",
    "print(s)\n",
    "s.update([8,9])\n",
    "print(s)\n",
    "s.remove(5)\n",
    "print(s)"
   ]
  },
  {
   "cell_type": "code",
   "execution_count": null,
   "metadata": {
    "collapsed": true
   },
   "outputs": [],
   "source": []
  },
  {
   "cell_type": "code",
   "execution_count": null,
   "metadata": {
    "collapsed": true
   },
   "outputs": [],
   "source": [
    "#data type Frozen Set is same as Set  ??\n",
    "\"\"\" we cannot even remove  or update in forzen set \"\"\"\n",
    "s={10,20,30,'vani'}\n",
    "s1=frozenset()"
   ]
  },
  {
   "cell_type": "code",
   "execution_count": null,
   "metadata": {
    "collapsed": true
   },
   "outputs": [],
   "source": [
    "\"\"\"\n",
    "Map in data type is called dictionary:dict\n",
    "A dictionary stres data in the form of key-value pairs \n",
    "such that if key is given,wee can get back its value\n",
    "key must be unique\n",
    "\"\"\"\n",
    "d={10:'shekh',11:'firoz',12:'alam',13:'sahil',14:'ghochu'}\n",
    "type(d)\n",
    "k=d.keys()\n",
    "for i in k:print(i)\n",
    "#values\n",
    "v=d.values()\n",
    "for i in v :print(i)\n",
    "    \n",
    " #key value togather we want to print\n"
   ]
  },
  {
   "cell_type": "code",
   "execution_count": null,
   "metadata": {
    "collapsed": true
   },
   "outputs": [],
   "source": [
    "#use of items functions\n",
    "d={10:'firoz',11:'shekh',12:'alam'}\n",
    "d\n",
    "for i in d.items():print(i)\n",
    "    \n",
    "for i in d.items():print(i[0])\n",
    "\n",
    "for i in d.items():print(i[0],i[0])\n",
    "    \n",
    "    "
   ]
  },
  {
   "cell_type": "code",
   "execution_count": null,
   "metadata": {
    "collapsed": true
   },
   "outputs": [],
   "source": [
    "mydict = {1001:25.5,1002:30.5,1003:44}\n",
    "mydict\n",
    "\n",
    "#editing in \n",
    "mydict[1002]=99\n",
    "mydict\n",
    "\n",
    "#deleting  a value\n",
    "del(mydict[1001])\n",
    "mydict\n"
   ]
  },
  {
   "cell_type": "code",
   "execution_count": null,
   "metadata": {
    "collapsed": true
   },
   "outputs": [],
   "source": [
    "\"\"\"\n",
    "1)there is no char data type in python\n",
    "2)id(t)\n",
    "\n",
    "\"\"\""
   ]
  },
  {
   "cell_type": "code",
   "execution_count": null,
   "metadata": {
    "collapsed": true
   },
   "outputs": [],
   "source": [
    "#to know the memoy location we will give id(t)\n",
    "t=(1,3,4,5,6,7,7)\n",
    "id(t)"
   ]
  },
  {
   "cell_type": "code",
   "execution_count": null,
   "metadata": {
    "collapsed": true
   },
   "outputs": [],
   "source": [
    "#\n",
    "a=10 #storing 10 in a\n",
    "\n",
    "b=15 #storing 15 in b\n"
   ]
  },
  {
   "cell_type": "code",
   "execution_count": null,
   "metadata": {
    "collapsed": true
   },
   "outputs": [],
   "source": [
    "#lecture 4 OPERATORS is a symbole that perform an operation."
   ]
  },
  {
   "cell_type": "code",
   "execution_count": null,
   "metadata": {
    "collapsed": true
   },
   "outputs": [],
   "source": [
    "a=13\n",
    "b=5\n",
    "print(a+b)\n",
    "print(a*b)\n",
    "print(a/b)\n",
    "print(a//b) #floor division\n",
    "print(a**3) #power operator\n",
    "print(a%b)  #modulus operator\n",
    "a,b,c=1,1.5,'srinu'\n",
    "print(a,b,c)"
   ]
  },
  {
   "cell_type": "code",
   "execution_count": null,
   "metadata": {
    "collapsed": true
   },
   "outputs": [],
   "source": [
    "#Relational Operators\n",
    "a,b=2,1\n",
    "print(a>b)\n",
    "print(a<b)\n",
    "print(a!=b)\n",
    "print(a==b)"
   ]
  },
  {
   "cell_type": "code",
   "execution_count": null,
   "metadata": {
    "collapsed": true
   },
   "outputs": [],
   "source": [
    "a=True\n",
    "b=False\n",
    "\n",
    "print(a and b)\n",
    "print(a or b)\n",
    "print(not b)\n",
    "print(not a)"
   ]
  },
  {
   "cell_type": "code",
   "execution_count": null,
   "metadata": {
    "collapsed": true
   },
   "outputs": [],
   "source": [
    "a,b,c=1,2,3\n",
    "print(a,b,c)\n",
    "print(a<b<c)"
   ]
  },
  {
   "cell_type": "code",
   "execution_count": null,
   "metadata": {
    "collapsed": true
   },
   "outputs": [],
   "source": [
    "#Input Output in Python\n",
    "print('hello')\n",
    "print(\"hello\")\n",
    "x,y =1,2.5\n",
    "print(x,y)\n",
    "print(x,y,sep=':') #sep is a keyword that sepate the word comma and spaces\n",
    "print('hello',x,y)\n",
    "name =\"shekkh firoz\"\n",
    "print('hello'+name)\n",
    "print(x,y,sep='----------------------------------------')\n"
   ]
  },
  {
   "cell_type": "code",
   "execution_count": null,
   "metadata": {
    "collapsed": true
   },
   "outputs": [],
   "source": [
    "#write a python programe to disply employee Id number,nameand salary using print function.\n",
    "\"\"\"to display employe details\"\"\"\n",
    "id =30\n",
    "name='shekh firoz'\n",
    "sal=12000.33\n",
    "print('Id= ',id)\n",
    "print ('name= ',name)\n",
    "print('sal=',sal)\n"
   ]
  },
  {
   "cell_type": "code",
   "execution_count": null,
   "metadata": {
    "collapsed": true
   },
   "outputs": [],
   "source": [
    "#write a python programe to disply employee Id number,nameand salary using\n",
    "#print function. usind end not to throw the cursor to next line\n",
    "\"\"\"to display employe details\"\"\"\n",
    "id =30\n",
    "name='shekh firoz'\n",
    "sal=12000.33\n",
    "print('Id= ',id,end=\",\")\n",
    "print ('name= ',name,end=\"  \")\n",
    "print('sal=',sal,end=\",\")"
   ]
  },
  {
   "cell_type": "code",
   "execution_count": null,
   "metadata": {
    "collapsed": true
   },
   "outputs": [],
   "source": [
    "#printing multiple by using one  print function\n",
    "print('Id=%d,Name=%s,Salary=%8.2f' % (id,name,sal))\n",
    "print('Id=%d,Name=%s,Salary=%12.2f' % (id,name,sal)) #right align\n",
    "\n",
    "print('Id=%d,Name=%s,Salary=-%12.2f' % (id,name,sal))  #left align\n",
    "print('Id=%d,Name=%s,Salary=.%2f' % (id,name,sal)) \n",
    "print('Id=%5d,Name=%s,Salary=12.2%f' % (id,name,sal)) #%5d\n"
   ]
  },
  {
   "cell_type": "code",
   "execution_count": null,
   "metadata": {
    "collapsed": true
   },
   "outputs": [],
   "source": [
    "#python format function in python\n",
    "print('\\nId={},Name={},Salary ={}'.format(id,name,sal)) \n",
    "print('\\nId={0},Name={1},Salary ={2}'.format(id,name,sal)) \n",
    "#to change the sequences but dont use it\n",
    "print('\\nId={2},Name={0},Salary ={1}'.format(id,name,sal)) \n",
    "#to give space in output\n",
    "print('\\nId={:5d},Name={:20s},Salary ={:.2f}'.format(id,name,sal)) "
   ]
  },
  {
   "cell_type": "code",
   "execution_count": null,
   "metadata": {
    "collapsed": true
   },
   "outputs": [],
   "source": [
    "#Input Function"
   ]
  },
  {
   "cell_type": "code",
   "execution_count": null,
   "metadata": {
    "collapsed": true
   },
   "outputs": [],
   "source": [
    "#lecture 6 Input with print\n",
    "a =float(input(\"enter a num\" ))\n",
    "print(a)\n",
    "square = a ** 2\n",
    "print(square)\n"
   ]
  },
  {
   "cell_type": "code",
   "execution_count": null,
   "metadata": {
    "collapsed": true
   },
   "outputs": [],
   "source": []
  },
  {
   "cell_type": "code",
   "execution_count": null,
   "metadata": {
    "collapsed": true
   },
   "outputs": [],
   "source": [
    "#Lecture 7(6 nov 2017)\n",
    "'''ControleStatment:\n",
    "if condition:\n",
    "    statements1\n",
    "else:\n",
    "    statments2\n",
    "Q:1 wap and test it is even or odd?\n",
    "'''\n",
    "\n",
    "num =int(input('enter a number:'))\n",
    "if num ==0:\n",
    "    print('it is zero')\n",
    "elif num%2==0:\n",
    "    print(num,'is even number')\n",
    "else:\n",
    "    print(num,'is odd')\n",
    "\n"
   ]
  },
  {
   "cell_type": "code",
   "execution_count": null,
   "metadata": {
    "collapsed": true
   },
   "outputs": [],
   "source": [
    "#Accept a number check weather it is positive or negative number\n",
    "pos=int(input('enter a number'))\n",
    "if pso==0:\n",
    "    print('0 is neither positive or negative')\n",
    "elif pso>0:\n",
    "        print(pos,'number is postive')\n",
    "    elif pso<0:\n",
    "    print(pso,'negative num')\n",
    "else:\n",
    "            print(\"you are done man\")"
   ]
  },
  {
   "cell_type": "code",
   "execution_count": null,
   "metadata": {
    "collapsed": true
   },
   "outputs": [],
   "source": []
  },
  {
   "cell_type": "code",
   "execution_count": null,
   "metadata": {
    "collapsed": true
   },
   "outputs": [],
   "source": [
    "#While Example\n",
    "\"\"\"Its repeatedly executes a group of statment as long as a condition is true\n",
    "while condition:\n",
    "    statments\n",
    "WAP to print 1 to 10\"\"\"\n",
    "\n",
    "x=1\n",
    "while x<=10:\n",
    "    print(x,end=',')\n",
    "    #print(x)\n",
    "    x=x+1"
   ]
  },
  {
   "cell_type": "code",
   "execution_count": null,
   "metadata": {
    "collapsed": true
   },
   "outputs": [],
   "source": [
    "# modify the above programe to find 100 even number \n",
    "y=2\n",
    "while(y<=100):\n",
    "    print(y,end=' ')\n",
    "    y=y+2"
   ]
  },
  {
   "cell_type": "code",
   "execution_count": null,
   "metadata": {
    "collapsed": true
   },
   "outputs": [],
   "source": [
    "#WAP to display even numbers between m and n\n",
    "m= print(input('enter the number m'))\n",
    "n=print(input('enter the number n'))\n",
    "\n",
    "if m%2==0:\n",
    "    pass #pass means do nothing in this statment\n",
    "else:\n",
    "    m=m+1\n",
    "while m<=n:\n",
    "    print(m)\n",
    "    m=m+2\n",
    "    \n",
    "    \n",
    "\n"
   ]
  },
  {
   "cell_type": "code",
   "execution_count": null,
   "metadata": {
    "collapsed": true
   },
   "outputs": [],
   "source": [
    "#WAP to display even numbers between m and n\n",
    "m= print(input('enter the number m'))\n",
    "n=print(input('enter the number n'))\n",
    "\n",
    "if m%2==0:\n",
    "    m=m+1\n",
    "\n",
    "while m<=n:\n",
    "    print(m)\n",
    "    m=m+2"
   ]
  },
  {
   "cell_type": "code",
   "execution_count": null,
   "metadata": {
    "collapsed": true
   },
   "outputs": [],
   "source": [
    "\"\"\" for Loop\n",
    "Syntax:= for var in sequences:\n",
    "                   statments\n",
    "squence meaning => group of elements ex str,dict,list,tuple,set,bytes,byte array,array,\n",
    "Generate An even number up to 100\n",
    "\"\"\"\n",
    "even_num=input(print('enter a number'))\n",
    "for x in even_num:\n",
    "    print(x)"
   ]
  },
  {
   "cell_type": "code",
   "execution_count": null,
   "metadata": {
    "collapsed": true
   },
   "outputs": [],
   "source": [
    "\"\"\"1)Dislay the indivudial letter of a string\"\"\"\n",
    "str_input=print(input('please enter the string'))\n",
    "for  x in str_input:\n",
    "    print(x)\n"
   ]
  },
  {
   "cell_type": "code",
   "execution_count": null,
   "metadata": {
    "collapsed": true
   },
   "outputs": [],
   "source": [
    "\"\"\"2) tofind sum of list of numbers \"\"\"\n",
    "sum_of_list[float(x) for x in input('enter numbers:').split(',')]\n",
    "sum=0\n",
    "for i in sum_of_list:\n",
    "    sum=sum+i\n",
    "    print('sum=,'sum)"
   ]
  },
  {
   "cell_type": "code",
   "execution_count": null,
   "metadata": {
    "collapsed": true
   },
   "outputs": [],
   "source": []
  },
  {
   "cell_type": "code",
   "execution_count": null,
   "metadata": {
    "collapsed": true
   },
   "outputs": [],
   "source": [
    "\"\"\"wap a multiplication table\n",
    "which table?2\n",
    "1X2=2\n",
    "2x2=2\n",
    "3x2=6\n",
    "4x2\n",
    "\n",
    "\"\"\"\n",
    "\n",
    "n=int(input(\"which table you want\"))\n",
    "for i in range(1,21):\n",
    "    print('%5d x %5d= %5d %(i,n,i*n))"
   ]
  },
  {
   "cell_type": "code",
   "execution_count": null,
   "metadata": {
    "collapsed": true
   },
   "outputs": [],
   "source": [
    "#\n",
    "n=int(input(\"which table you want\"))\n",
    "for i in range(1,21):\n",
    "    print('{:2d }x{:2d}={:3d}'.format(i,n,i*n))\n",
    "    "
   ]
  },
  {
   "cell_type": "code",
   "execution_count": null,
   "metadata": {
    "collapsed": true
   },
   "outputs": [],
   "source": [
    "#wap to enter a number and find weather it's exist in list or not.\n",
    "#break statment to break the loop\n",
    "lst=[10,20,-10,30,40,5]\n",
    "n=int(input(\"enter an number:\"))\n",
    "for i in lst:\n",
    "    if n==i:\n",
    "        print('number is found in list')\n",
    "        break #when break is used it will not execute  else statment\n",
    "else:#else part is always exeuted \n",
    "    print('nos not found')\n"
   ]
  },
  {
   "cell_type": "code",
   "execution_count": null,
   "metadata": {
    "collapsed": true
   },
   "outputs": [],
   "source": [
    "\"\"\"try 20 multiplication table using for loop\n",
    "\"\"\"\n"
   ]
  },
  {
   "cell_type": "code",
   "execution_count": null,
   "metadata": {
    "collapsed": true
   },
   "outputs": [],
   "source": [
    "#break demo\n",
    "n=1\n",
    "while n<=10:\n",
    "    if n>11:\n",
    "        break\n",
    "    else\n",
    "    print(n)\n",
    "    n=n+1"
   ]
  },
  {
   "cell_type": "code",
   "execution_count": null,
   "metadata": {
    "collapsed": true
   },
   "outputs": [],
   "source": [
    "#Continue Demo\n",
    "\"\"\"\n",
    "Continue is  used inside  a loop to repeat the loop again when continue is executed.\n",
    "subsqeuent statment in the loop are not executed\n",
    "\"\"\"\n",
    "n=0\n",
    "while n<10:\n",
    "    n=n+1\n",
    "    if n>5:\n",
    "        continue #continue will give control back to while loop\n",
    "    print(n) # this will not be display 1,2,3,4"
   ]
  },
  {
   "cell_type": "code",
   "execution_count": null,
   "metadata": {
    "collapsed": true
   },
   "outputs": [],
   "source": [
    "#pass: does nothing in pyhton\n",
    "\"\"\"WAP to display only the negative number from a list of numbers.\n",
    "\"\"\"\n",
    "lst=[10,20,-5,25,-4,33,-88,-1,-55]\n",
    "for x in lst:\n",
    "    if x>0:\n",
    "        pass\n",
    "    else:\n",
    "        print(x)\n"
   ]
  },
  {
   "cell_type": "code",
   "execution_count": null,
   "metadata": {
    "collapsed": true
   },
   "outputs": [],
   "source": [
    "\"\"\"Assert statment:this statment is used to check the value of the variable.\n",
    "Syntax :assert condition,\"message\"\n",
    "ex:  assert x>5,'Wrong input'\n",
    "AssertionError and also our message will be displayed\n",
    "\"\"\"\n",
    "#Check if the user entered a number between 5 and 10\n",
    "num =int(input('enter a number :'))\n",
    "assert num >5 and num<10,'please type between 5 and 10'\n",
    "print('U entered:',num)"
   ]
  },
  {
   "cell_type": "code",
   "execution_count": null,
   "metadata": {
    "collapsed": true
   },
   "outputs": [],
   "source": [
    "#how to handle exception using try and except\n",
    "num =int(input('enter a number :'))\n",
    "try:\n",
    "    assert num >5 and num<10,'please type between 5 and 10'\n",
    "    print('U entered:',num)\n",
    "except AssertionError as firoz:\n",
    "    print(firoz)"
   ]
  },
  {
   "cell_type": "code",
   "execution_count": 1,
   "metadata": {},
   "outputs": [
    {
     "name": "stdout",
     "output_type": "stream",
     "text": [
      "Total 20.5\n"
     ]
    }
   ],
   "source": [
    "\"\"\"#Return statment:is used inside a function to return some vvalue.\n",
    "ex return x\n",
    "   return x,y\n",
    "   return 1\n",
    "   return lst\"\"\"\n",
    "\n",
    "#function\n",
    "def sum(x,y):\n",
    "    z=x+y\n",
    "    print('Total',z)\n",
    "#Call the function\n",
    "sum(10,10.5)"
   ]
  },
  {
   "cell_type": "code",
   "execution_count": 2,
   "metadata": {},
   "outputs": [
    {
     "name": "stdout",
     "output_type": "stream",
     "text": [
      "Result= 20.5\n"
     ]
    }
   ],
   "source": [
    "#Returning the return statmet\n",
    "def sum(x,y):\n",
    "    z=x+y\n",
    "    return z\n",
    "#Call the function\n",
    "res=sum(10,10.5)\n",
    "print('Result=',res)\n"
   ]
  },
  {
   "cell_type": "code",
   "execution_count": null,
   "metadata": {
    "collapsed": true
   },
   "outputs": [],
   "source": [
    "\"\"\"wap to accept a number and return its cube value\"\"\"\n",
    "\n",
    "def cube(x):\n",
    "    z=x**3\n",
    "    return z\n",
    "#call the functtion\n",
    "res=cube(10)\n",
    "print('Result',res)"
   ]
  },
  {
   "cell_type": "code",
   "execution_count": 3,
   "metadata": {},
   "outputs": [
    {
     "name": "stdout",
     "output_type": "stream",
     "text": [
      "Enter the number: 3\n",
      "Result 27.0\n"
     ]
    }
   ],
   "source": [
    "\"\"\"Sir example\"\"\"\n",
    "def cube(x):\n",
    "    z=x**3\n",
    "    return z\n",
    "n =float(input('Enter the number: '))\n",
    "#call the functtion\n",
    "res=cube(n)\n",
    "print('Result',res)\n"
   ]
  },
  {
   "cell_type": "code",
   "execution_count": null,
   "metadata": {
    "collapsed": true
   },
   "outputs": [],
   "source": [
    "\"\"\" 1) Command line args are value typed  at command prompt while running a Python programm\n",
    "    2) Command line args are stored bydefault in list: argv \n",
    "     that belongs to sys module.\n",
    "     C:\\>python myprog.py 10 20 -5\n",
    "\"\"\"\n",
    "import sys #To find nos of args and display them\n",
    "n=len(sys.argv) #find the number od args\n",
    "print('No of args',n)\n",
    "\n",
    "#display all the args\n",
    "for x in sys.argv:\n",
    "    print(x)"
   ]
  },
  {
   "cell_type": "code",
   "execution_count": null,
   "metadata": {
    "collapsed": true
   },
   "outputs": [],
   "source": [
    "#wap enter 2 num from comman line and disply there sum\n",
    "import sys\n",
    "n1=float(argv[1])\n",
    "n2=float(argv[2])\n",
    "n3 =n1+n2\n",
    "print('Sum= ',n3)"
   ]
  },
  {
   "cell_type": "code",
   "execution_count": null,
   "metadata": {
    "collapsed": true
   },
   "outputs": [],
   "source": [
    "#Acccept a  num using command line find sum and averag "
   ]
  },
  {
   "cell_type": "code",
   "execution_count": null,
   "metadata": {
    "collapsed": true
   },
   "outputs": [],
   "source": [
    "#9lecture 08 Nov 2017\n",
    "\"\"\"addition and substraction of 2 numbers and return two results\n",
    "\"\"\"\n",
    "def sum_sub(x,y):#formal argument\n",
    "    res1=x+y\n",
    "    res2=x-y\n",
    "    return res1,res2\n",
    "a,b=[float(x) for x in input('Enter two nos:').split(',')]\n",
    "res1,res2=sum_sub(a,b) #a,b is actual argument\n",
    "print('Result of addition:',res1)\n",
    "print('Result of Substraction',res2)"
   ]
  },
  {
   "cell_type": "code",
   "execution_count": null,
   "metadata": {
    "collapsed": true
   },
   "outputs": [],
   "source": [
    "\"\"\"Write a function that accept a list of numbers and returns there sum and average\n",
    "def sum_avg():\n",
    "    res1=a[]\n",
    "    res2=b[]\n",
    "    return res1,res2\n",
    "a[],b[]=[float() for x in input('enter the lis of numbers').split(\" \")]\n",
    "res1.res2=sum_avg(a[],b[])\n",
    "print(\"result of addd:\",res1)\n",
    "print(\"result of avera\",res2)\"\"\"\"\"\""
   ]
  },
  {
   "cell_type": "code",
   "execution_count": null,
   "metadata": {
    "collapsed": true
   },
   "outputs": [],
   "source": [
    "def sum_avg(lst):\n",
    "    s=sum(lst)\n",
    "    a=s/len(lst)\n",
    "    return s,a\n",
    "#call the function\n",
    "lst =[float(x) for x in input('Enter nos:').split(\",\")]\n",
    "a,b=sum_avg(lst)\n",
    "print('Sum={:.1f} and Average = {:.2f}'.format(a,b))"
   ]
  },
  {
   "cell_type": "code",
   "execution_count": null,
   "metadata": {
    "collapsed": true
   },
   "outputs": [],
   "source": [
    "\"\"\"accept a group of names and return them also\"\"\"\n",
    "\n",
    "def mystring(lst):\n",
    "    return lst #lst is local variable\n",
    "\n",
    "#accept the input form keyboard\n",
    "lst=[x for x in input('Enter String:').split(',')]\n",
    "lst1=mystring(lst)\n",
    "for i in lst1:\n",
    "    print(i.strip())"
   ]
  },
  {
   "cell_type": "code",
   "execution_count": null,
   "metadata": {
    "collapsed": true
   },
   "outputs": [],
   "source": [
    "#local variable\n",
    "def display():\n",
    "    x=1\n",
    "    print(x)\n",
    "#this is outside the function\n",
    "display()\n",
    "#print(x)"
   ]
  },
  {
   "cell_type": "code",
   "execution_count": null,
   "metadata": {
    "collapsed": true
   },
   "outputs": [],
   "source": [
    "#Global variable\n",
    "y=2\n",
    "def display():\n",
    "    x=1\n",
    "    print(x,y)\n",
    "#this is outside the function\n",
    "display()\n",
    "print(y)\n"
   ]
  },
  {
   "cell_type": "code",
   "execution_count": null,
   "metadata": {
    "collapsed": true
   },
   "outputs": [],
   "source": [
    "#Local and global variable\n",
    "x=2 #global variable\n",
    "def display():\n",
    "    x=1 #local variable is powerfull locally\n",
    "   # print(x)\n",
    "#this is outside the function\n",
    "display()\n",
    "#print(y)\n",
    "print(x)"
   ]
  },
  {
   "cell_type": "code",
   "execution_count": null,
   "metadata": {
    "collapsed": true
   },
   "outputs": [],
   "source": [
    "#Local and global variable we want to acces gloabl variable in local scope\n",
    "x=2 #global variable\n",
    "def display():\n",
    "    x=1 #local variable is powerfull locally(village example)\n",
    "    y=globals()['x']#acces the global \n",
    "    print(x,y)\n",
    "#this is outside the function\n",
    "display()\n",
    "#print(y)\n",
    "print(x)"
   ]
  },
  {
   "cell_type": "code",
   "execution_count": null,
   "metadata": {
    "collapsed": true
   },
   "outputs": [],
   "source": [
    "#interview question?Functions are first class objects.?\n",
    "\"\"\"Ans:we can use functions exactly like objects.\n",
    "  you can return a function from inside a function\n",
    "  1.it is possible to assign a function to  a variable.\n",
    "  x=function(p)\n",
    "\"\"\""
   ]
  },
  {
   "cell_type": "code",
   "execution_count": null,
   "metadata": {
    "collapsed": true
   },
   "outputs": [],
   "source": [
    "#1 it is possible to assign a function to  a variable.\n",
    "import math\n",
    "def sqroot(y):\n",
    "    return math.sqrt(i) \"\"\"??? ask sir\"\"\"\n",
    "var= sqroot(16)\n",
    "print(var)"
   ]
  },
  {
   "cell_type": "code",
   "execution_count": null,
   "metadata": {
    "collapsed": true
   },
   "outputs": [],
   "source": [
    "#another function\n",
    "def display(str):#krish\n",
    "    def message():\n",
    "        return 'hello'\n",
    "    return message()+str\n",
    "var=display('Krish')\n",
    "print(var)"
   ]
  },
  {
   "cell_type": "code",
   "execution_count": null,
   "metadata": {
    "collapsed": true
   },
   "outputs": [],
   "source": [
    "\"\"\"\n",
    "\"\"\"\n",
    "def display():\n",
    "    def message():\n",
    "        return 'hey'\n",
    "        def python():\n",
    "            return 'heyPython'\n",
    "        return python\n",
    "    return message #we are\n",
    "var =display()# var contaims function name.\n",
    "print(var())\n",
    "var1=message()\n",
    "print(var1())\n",
    "\n"
   ]
  },
  {
   "cell_type": "code",
   "execution_count": null,
   "metadata": {
    "collapsed": true
   },
   "outputs": [],
   "source": [
    "\"\"\"\n",
    "Ask to sir\n",
    "it is possible to pass a function as parameterr to another function\n",
    "\"\"\"\n",
    "def display(msg):\n",
    "    return 'Hello'+msg()\n",
    "\n",
    "def message():\n",
    "    return 'Krish'\n",
    "var =display(message)\n",
    "print(var)"
   ]
  },
  {
   "cell_type": "code",
   "execution_count": null,
   "metadata": {
    "collapsed": true
   },
   "outputs": [],
   "source": [
    "##Lecture 9\n",
    "\"\"\"\"\n",
    "call by object reference -immutable\n",
    "\"\"\"\n",
    "def modify(str):\n",
    "    str ='Hello'+str\n",
    "print(str,id(str))\n",
    "\n",
    "#Outside the function\n",
    "str ='Krish'\n",
    "modify(str)\n",
    "print(str,id(str))\n"
   ]
  },
  {
   "cell_type": "code",
   "execution_count": null,
   "metadata": {
    "collapsed": true
   },
   "outputs": [],
   "source": [
    "#call by object reference-mutable object\n",
    "def modify(lst):\n",
    "    lst.append(99)\n",
    "    print(lst,id(lst))\n",
    "    \n",
    "#outside the function\n",
    "lst = [10,20,30]\n",
    "modify(lst)\n",
    "print(lst,id(lst))"
   ]
  },
  {
   "cell_type": "code",
   "execution_count": null,
   "metadata": {
    "collapsed": true
   },
   "outputs": [],
   "source": [
    "#Recursive function to calulate factorial lof a number\n",
    "def fact(n):\n",
    "    if n==0:\n",
    "        res=1\n",
    "    else:\n",
    "        res=n*fact(n-1)\n",
    "        return res\n",
    "num =int(input('enterba number'))\n",
    "print('Factorial of {} is {}'.format(num,fact(num)))\n",
    "            "
   ]
  },
  {
   "cell_type": "code",
   "execution_count": null,
   "metadata": {
    "collapsed": true
   },
   "outputs": [],
   "source": [
    "#positional function\n",
    "def join(s1,s2):\n",
    "    print(s1+s2)\n",
    "join('bad','hydera')"
   ]
  },
  {
   "cell_type": "code",
   "execution_count": null,
   "metadata": {
    "collapsed": true
   },
   "outputs": [],
   "source": [
    "#KeyWord Argument are identified by there names.\n",
    "def grocery(name,price):\n",
    "    print('Item name=',name)\n",
    "    print('Price=',price)\n",
    "grocery(name='Sugar',price='56') #name is assigned with \n"
   ]
  },
  {
   "cell_type": "code",
   "execution_count": null,
   "metadata": {
    "collapsed": true
   },
   "outputs": [],
   "source": [
    "##Default Argument \n",
    "#in python are used by default.if you dont send anydata then only it will use the default data\n",
    "def grocery(name,price=50.00):\n",
    "    print('Item name=',name)\n",
    "    print('Price=',price)\n",
    "grocery('oil',60)\n"
   ]
  },
  {
   "cell_type": "code",
   "execution_count": null,
   "metadata": {
    "collapsed": true
   },
   "outputs": [],
   "source": [
    "#Variable length argument:can store 0 or more number of elements or values\n",
    "#its start with a *num = variable length argument,here num is list\n",
    "\n",
    "def sum1(*num):\n",
    "    s=sum(num)\n",
    "    print(s)\n",
    "sum1(19,11)\n",
    "sum1(1,2,3,4,5,6,7,8,9)\n",
    "sum1()\n",
    "    "
   ]
  },
  {
   "cell_type": "code",
   "execution_count": null,
   "metadata": {
    "collapsed": true
   },
   "outputs": [],
   "source": []
  },
  {
   "cell_type": "code",
   "execution_count": null,
   "metadata": {
    "collapsed": true
   },
   "outputs": [],
   "source": []
  },
  {
   "cell_type": "code",
   "execution_count": null,
   "metadata": {
    "collapsed": true
   },
   "outputs": [],
   "source": []
  },
  {
   "cell_type": "code",
   "execution_count": null,
   "metadata": {
    "collapsed": true
   },
   "outputs": [],
   "source": []
  },
  {
   "cell_type": "code",
   "execution_count": null,
   "metadata": {
    "collapsed": true
   },
   "outputs": [],
   "source": []
  },
  {
   "cell_type": "code",
   "execution_count": null,
   "metadata": {
    "collapsed": true
   },
   "outputs": [],
   "source": []
  },
  {
   "cell_type": "code",
   "execution_count": null,
   "metadata": {
    "collapsed": true
   },
   "outputs": [],
   "source": []
  },
  {
   "cell_type": "code",
   "execution_count": null,
   "metadata": {
    "collapsed": true
   },
   "outputs": [],
   "source": []
  },
  {
   "cell_type": "code",
   "execution_count": null,
   "metadata": {
    "collapsed": true
   },
   "outputs": [],
   "source": []
  },
  {
   "cell_type": "code",
   "execution_count": null,
   "metadata": {
    "collapsed": true
   },
   "outputs": [],
   "source": []
  },
  {
   "cell_type": "code",
   "execution_count": null,
   "metadata": {
    "collapsed": true
   },
   "outputs": [],
   "source": []
  },
  {
   "cell_type": "code",
   "execution_count": null,
   "metadata": {
    "collapsed": true
   },
   "outputs": [],
   "source": []
  },
  {
   "cell_type": "code",
   "execution_count": null,
   "metadata": {
    "collapsed": true
   },
   "outputs": [],
   "source": []
  },
  {
   "cell_type": "code",
   "execution_count": null,
   "metadata": {
    "collapsed": true
   },
   "outputs": [],
   "source": []
  }
 ],
 "metadata": {
  "kernelspec": {
   "display_name": "Python 3",
   "language": "python",
   "name": "python3"
  },
  "language_info": {
   "codemirror_mode": {
    "name": "ipython",
    "version": 3
   },
   "file_extension": ".py",
   "mimetype": "text/x-python",
   "name": "python",
   "nbconvert_exporter": "python",
   "pygments_lexer": "ipython3",
   "version": "3.6.3"
  }
 },
 "nbformat": 4,
 "nbformat_minor": 2
}
