{
 "cells": [
  {
   "cell_type": "code",
   "execution_count": null,
   "metadata": {},
   "outputs": [],
   "source": [
    "\"\"\" List compreshension: Creating a new list after processing a group of elements using an expression.\n",
    "    list comprehensions\n",
    "    1) lambdas\n",
    "    2) regular expressions\n",
    "    \n",
    "    [expression for item1 in iterable1 if statment1\n",
    "                for item2 in iterable1 if statment2\n",
    "                for item3 in iterable1 if statment3\n",
    "                for item4 in iterable1 if statment4\n",
    "                for item5 in iterable1 if statment5\n",
    "                ]\n",
    "\"\"\"\n",
    "#WAP to find squares of integers from 1 to 10\n",
    "lst=[]\n",
    "for x in range(1,11):\n",
    "    lst.append(x*x)\n",
    "print(lst)\n",
    "\n",
    "\n",
    "#Using List Comprenshion# result first i.e expression\n",
    "lst=[x*x for x in range(1,11)]\n",
    "print(lst)\n"
   ]
  },
  {
   "cell_type": "code",
   "execution_count": null,
   "metadata": {},
   "outputs": [],
   "source": [
    "#wap list comprension to get even nos upt to 10\n",
    "lst=[]\n",
    "\n",
    "for x in range(2,11,2):\n",
    "    lst.append(x)\n",
    "print(lst)\n",
    "\n",
    "#print without range function\n",
    "lst=[]\n",
    "for x in range(1,11):\n",
    "    if x%2==0:\n",
    "        lst.append(x)\n",
    "print(lst)\n",
    "\n",
    "#With list compression\n",
    "#start from ending i.e\n",
    "lst=[x for x in range(2,11,2)]\n",
    "print(lst)\n",
    "\n",
    "#without using range function in list comprenshion\n",
    "lst=[x for x in range(2,11)if x%2==0]\n",
    "print(lst)"
   ]
  },
  {
   "cell_type": "code",
   "execution_count": null,
   "metadata": {},
   "outputs": [],
   "source": [
    "##List opration using tupple\n",
    "\"\"\"Wap to add corresponding elements of two List\n",
    "x=[10,20,30,-5.9]\n",
    "y=[5,6,7,8,10]\n",
    "\"\"\"\n",
    "\n",
    "x=[10,20,30,-5,.9]\n",
    "y=[5,6,7,8,10]\n",
    "lst=[]\n",
    "for i in range(len(x)):\n",
    "    lst.append(x[i]+y[i])\n",
    "print(lst)\n",
    "\n",
    "#now with list comprehension\n",
    "lst=[x[i]+y[i] for i in range(len(x))]\n",
    "print(lst)"
   ]
  },
  {
   "cell_type": "code",
   "execution_count": null,
   "metadata": {},
   "outputs": [],
   "source": [
    "##write a list comprenshion to reterive common elements in two lists.\n",
    "a=[10,20,30,5,-2]\n",
    "b=[-2,10,11,12,5]\n",
    "lst=[]\n",
    "for x in a:\n",
    "    if x in b: #in operator to avoid multiple for loop\n",
    "        lst.append(x)\n",
    "print(lst)\n",
    "\n",
    "#lst list expression\n",
    "lst=[x for x in a if x in b]\n",
    "print(lst)\n"
   ]
  },
  {
   "cell_type": "code",
   "execution_count": null,
   "metadata": {},
   "outputs": [],
   "source": [
    "#WAP to reterive only the first letter of each word in the list\n",
    "lst=[]\n",
    "words=['shekh','firoz','alam','apples','grapes','hyderbad']\n",
    "for i in words:\n",
    "    i.split(\",\")\n",
    "    print(i)"
   ]
  },
  {
   "cell_type": "code",
   "execution_count": 28,
   "metadata": {},
   "outputs": [
    {
     "name": "stdout",
     "output_type": "stream",
     "text": [
      "['s', 'f', 'a', 'a', 'g', 'h']\n",
      "['h', 'i', 'l', 'p', 'r', 'y']\n"
     ]
    }
   ],
   "source": [
    "#wap to reterive only first letter for word in the List\n",
    "\n",
    "words=['shekh','firoz','alam','apples','grapes','hyderbad']\n",
    "x=[]\n",
    "for i in words:\n",
    "    x.append(i[0])\n",
    "print(x)\n",
    "\n",
    "#Now fetching the first alphabet by list comprenshion\n",
    "\n",
    "lst=[i[1] for i in words]\n",
    "print(lst)"
   ]
  },
  {
   "cell_type": "code",
   "execution_count": null,
   "metadata": {
    "collapsed": true
   },
   "outputs": [],
   "source": []
  },
  {
   "cell_type": "code",
   "execution_count": null,
   "metadata": {
    "collapsed": true
   },
   "outputs": [],
   "source": []
  },
  {
   "cell_type": "code",
   "execution_count": null,
   "metadata": {
    "collapsed": true
   },
   "outputs": [],
   "source": []
  },
  {
   "cell_type": "code",
   "execution_count": null,
   "metadata": {
    "collapsed": true
   },
   "outputs": [],
   "source": []
  },
  {
   "cell_type": "code",
   "execution_count": null,
   "metadata": {
    "collapsed": true
   },
   "outputs": [],
   "source": []
  },
  {
   "cell_type": "code",
   "execution_count": null,
   "metadata": {
    "collapsed": true
   },
   "outputs": [],
   "source": []
  },
  {
   "cell_type": "code",
   "execution_count": null,
   "metadata": {
    "collapsed": true
   },
   "outputs": [],
   "source": []
  }
 ],
 "metadata": {
  "kernelspec": {
   "display_name": "Python 3",
   "language": "python",
   "name": "python3"
  },
  "language_info": {
   "codemirror_mode": {
    "name": "ipython",
    "version": 3
   },
   "file_extension": ".py",
   "mimetype": "text/x-python",
   "name": "python",
   "nbconvert_exporter": "python",
   "pygments_lexer": "ipython3",
   "version": "3.6.3"
  }
 },
 "nbformat": 4,
 "nbformat_minor": 2
}
