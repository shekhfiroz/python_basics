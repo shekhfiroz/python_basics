{
 "cells": [
  {
   "cell_type": "code",
   "execution_count": null,
   "metadata": {
    "collapsed": true
   },
   "outputs": [],
   "source": [
    "Producer oriented lang ->C,Pascal,FORTRAN\n",
    "procedures/functions\n",
    "-> they are NOT developed from human life or related to human life its difficult to remb.\n",
    "-> they are not reusable for other work\n",
    "\n",
    "Object oriented langguage ->C++,Java,Pyhton,.net Object oriented revolved around two things i.e\n",
    "Class and object"
   ]
  },
  {
   "cell_type": "code",
   "execution_count": null,
   "metadata": {
    "collapsed": true
   },
   "outputs": [],
   "source": [
    "object oriented programming systems(OOPS)\n",
    "1) classes and objects\n",
    "2) encapsulation\n",
    "3) abstraction\n",
    "4) inheritance\n",
    "5) polymorphism\n",
    "\n",
    "OBJECT:An object is defined as entity that exists physically in the real world(Having some shape,occupy space).\n",
    "eg:bottle,chairs,computer \n",
    "    \n",
    "Behavior-> Properties + Actions\n",
    "\n",
    "Persons(it doesnot have physically existance like we will have)\n",
    "\n",
    "Raju           :  Properties:\n",
    "Sita              name,age,ht,wt,color(can be shown with the help of variables)\n",
    "subbu                                        \n",
    "ramu                                    \n",
    "        \n",
    "                   Actions\n",
    "                   talk,walk,eat,sleep( to perform actions we will write functions)\n",
    "                \n",
    "\"AN OBJECT CONTAINS PROPERTIES AND ACTIONS/BEHAVIOUR(vimp)\"\n"
   ]
  },
  {
   "cell_type": "code",
   "execution_count": null,
   "metadata": {
    "collapsed": true
   },
   "outputs": [],
   "source": [
    "CLASS:\n",
    "    \n",
    "* A class represents comman behaviour of a group of objects ie class also contains behaviour and function\n",
    "* Class does not exist physically Object have a physical form of class.\n",
    "\n",
    "**sir asked for  sweets  you bought maysoor park i.e sweets is a CLASS and maysoor park is an object.\n",
    "  maysoor park is an object and  it is physically available but there is no physical existance of sweets.\n",
    "\n",
    "-----------------------------------------------------------------------------------------------------------------\n",
    "EXAMPLES:\n",
    "*In house Furniture we having sofa ,chair here FURNITURE dont have physically existence  but sofa etc are objects.\n",
    "*In COLOR we have blue red,green,yellow... here COLOR is class and red blue,green are objects\n",
    "*rose is an objects of FLOWER class\n",
    "*He is a HERO ,only hero means one form of the object who is fullfilling all the features of  class  quality\n",
    "\n",
    "----------------------------------------------------------------------------------------------------------------\n",
    "* OBJECT IS PHYSICAL FORM OF A OBJECT:AND physical form is called instance\n",
    "#Definition of class#\n",
    "* CLASS is  model or blueprint to creat objects.without class we caanot create objects.but we can  a class can \n",
    "  be created without object\n",
    "    \n",
    "SOUL(ATMAA) is a class and our body will be objects  atma cannnot do anything .\n"
   ]
  },
  {
   "cell_type": "code",
   "execution_count": null,
   "metadata": {
    "collapsed": true
   },
   "outputs": [],
   "source": [
    "#Class and Objects\n",
    "#__init__() initialize, it is a specail methond\n",
    "#self is referencial variable that stores memory address of the current object.\n",
    "class Person:\n",
    "    def __init__(self):\n",
    "        self.name='shekh'\n",
    "        self.age=26\n",
    "        self.gender='M'\n",
    "    \n",
    "    def display(self):\n",
    "        print('name= ',self.name)\n",
    "        print('Age= ',self.age)\n",
    "        print('Gender',self.gender)\n",
    "        \n",
    "#Create an object/Instance for the class\n",
    "per=Person()\n",
    "per.display()"
   ]
  },
  {
   "cell_type": "code",
   "execution_count": null,
   "metadata": {
    "collapsed": true
   },
   "outputs": [],
   "source": [
    "# __init__() is Constructor, is a special method that is useful to initialize the instance(OBJECT) VARS.\n",
    "SYNTAX=>def __init__(self,args)\n",
    "#2 type  of constructor\n",
    "1) default type of constructor:without any parameter\n",
    "    this is useful to initialize all the objects with same data.\n",
    "2)parameterized constructor:with para meter.\n",
    "    this is useful to initialize every object with different data.\n",
    "    \n",
    "#A constructor is called at the time of creating an object\n"
   ]
  },
  {
   "cell_type": "code",
   "execution_count": null,
   "metadata": {
    "collapsed": true
   },
   "outputs": [],
   "source": [
    "#Create a student class with the name of the students and marks \n",
    "#in 5 subjects Display the total marks and percentage\n",
    "#all the class derived from Object class\n",
    "#a parameterized constructor\n",
    "class Student():\n",
    "    def __init__(self,n=\"\",m=[]):\n",
    "        self.name=n\n",
    "        self.marks=m\n",
    "        \n",
    "    #a method defination\n",
    "    def calculate(self):\n",
    "        print('Your Name:',self.name)\n",
    "        #print('Your Na:',self.marks)\n",
    "        total =sum(self.marks)\n",
    "        print(\"Total marks=\",total)\n",
    "        avg=total/len(self.marks)\n",
    "        print(\"Average marks\",avg)\n",
    "        \n",
    "#creating the objects        \n",
    "s1 = Student('shekh',[40,50,60,30,29,18,27])\n",
    "s1.calculate()\n",
    "\n",
    "s2=Student('amdocs',[5,6,7,8,9,0,10,11,12])\n",
    "s2.calculate()\n",
    "print(\"====================================\")\n",
    "print(s1.name)\n",
    "print(s1.marks)\n",
    "\n",
    "#lOCAL VARIABLE ARE DECLERED IN THE METHOD LOCALLY.\n",
    "#instance variable are by default public"
   ]
  },
  {
   "cell_type": "code",
   "execution_count": null,
   "metadata": {
    "collapsed": true
   },
   "outputs": [],
   "source": [
    "\n",
    "\n",
    "    \n",
    "    "
   ]
  },
  {
   "cell_type": "code",
   "execution_count": null,
   "metadata": {
    "collapsed": true
   },
   "outputs": [],
   "source": [
    "#wap employee class with id ,name and salary create a \n",
    "#method that displays all these details along with 10% income tax\n",
    "\n",
    "class employee:\n",
    "    def __init__(self,idno,name,salary):\n",
    "        self.idno = idno\n",
    "        self.name = name\n",
    "        self.salary = salary\n",
    "    def display(self):\n",
    "         #print('id number=',self.idno)\n",
    "         #print('name=',self.name)\n",
    "         # print('salary=',self.salary)\n",
    "        \n",
    "        print('IdNo = {} ,Name = {} ,Salary = {:2f}'.format(self.idno, self.name, self.salary))\n",
    "        print(\"please pay tax:\",self.salary*0.1)\n",
    "    \n",
    "#create a object\n",
    "e1 = employee(12,'div',12.333)\n",
    "e1.display()"
   ]
  },
  {
   "cell_type": "code",
   "execution_count": 2,
   "metadata": {},
   "outputs": [
    {
     "ename": "NameError",
     "evalue": "name 'idno' is not defined",
     "output_type": "error",
     "traceback": [
      "\u001b[0;31m---------------------------------------------------------------------------\u001b[0m",
      "\u001b[0;31mNameError\u001b[0m                                 Traceback (most recent call last)",
      "\u001b[0;32m<ipython-input-2-1ff2cb05db27>\u001b[0m in \u001b[0;36m<module>\u001b[0;34m()\u001b[0m\n\u001b[1;32m     14\u001b[0m \u001b[0;34m\u001b[0m\u001b[0m\n\u001b[1;32m     15\u001b[0m \u001b[0;31m#create a object\u001b[0m\u001b[0;34m\u001b[0m\u001b[0;34m\u001b[0m\u001b[0m\n\u001b[0;32m---> 16\u001b[0;31m \u001b[0me1\u001b[0m \u001b[0;34m=\u001b[0m \u001b[0minput\u001b[0m\u001b[0;34m(\u001b[0m\u001b[0memployee\u001b[0m\u001b[0;34m(\u001b[0m\u001b[0midno\u001b[0m\u001b[0;34m,\u001b[0m\u001b[0mname\u001b[0m\u001b[0;34m,\u001b[0m\u001b[0msalary\u001b[0m\u001b[0;34m)\u001b[0m\u001b[0;34m)\u001b[0m\u001b[0;34m\u001b[0m\u001b[0m\n\u001b[0m\u001b[1;32m     17\u001b[0m \u001b[0me1\u001b[0m\u001b[0;34m.\u001b[0m\u001b[0mdisplay\u001b[0m\u001b[0;34m(\u001b[0m\u001b[0;34m)\u001b[0m\u001b[0;34m\u001b[0m\u001b[0m\n",
      "\u001b[0;31mNameError\u001b[0m: name 'idno' is not defined"
     ]
    }
   ],
   "source": [
    "#Taking input at run time in python\n",
    "class employee:\n",
    "    def __init__(self,idno,name,salary):\n",
    "        self.idno = idno\n",
    "        self.name = name\n",
    "        self.salary = salary\n",
    "    def display(self):\n",
    "         #print('id number=',self.idno)\n",
    "         #print('name=',self.name)\n",
    "         # print('salary=',self.salary)\n",
    "        \n",
    "        print('IdNo = {} ,Name = {} ,Salary = {:2f}'.format(self.idno, self.name, self.salary))\n",
    "        print(\"please pay tax:\",self.salary*0.1)\n",
    "    \n",
    "#create a object\n",
    "e1 = input(employee(idno,name,salary))\n",
    "e1.display()"
   ]
  },
  {
   "cell_type": "code",
   "execution_count": null,
   "metadata": {
    "collapsed": true
   },
   "outputs": [],
   "source": [
    "\"\"\"\"TYpes of variables\n",
    "1)Instance Variables:instance means objects ,It is a variable whos separate copy is available to each object.\n",
    "Constructor=>to refer to them->self.var\n",
    "\n",
    "2)Static Variable or class variable:\n",
    "whose single copy is shared by all the objects.we can use static or class methods.\n",
    "static methods\n",
    "class methods\n",
    "\n",
    "\n",
    "\n",
    "\"\"\"\n"
   ]
  },
  {
   "cell_type": "code",
   "execution_count": null,
   "metadata": {
    "collapsed": true
   },
   "outputs": [],
   "source": []
  },
  {
   "cell_type": "code",
   "execution_count": null,
   "metadata": {
    "collapsed": true
   },
   "outputs": [],
   "source": []
  },
  {
   "cell_type": "code",
   "execution_count": null,
   "metadata": {
    "collapsed": true
   },
   "outputs": [],
   "source": []
  },
  {
   "cell_type": "code",
   "execution_count": null,
   "metadata": {
    "collapsed": true
   },
   "outputs": [],
   "source": []
  },
  {
   "cell_type": "code",
   "execution_count": null,
   "metadata": {
    "collapsed": true
   },
   "outputs": [],
   "source": []
  },
  {
   "cell_type": "code",
   "execution_count": null,
   "metadata": {
    "collapsed": true
   },
   "outputs": [],
   "source": []
  },
  {
   "cell_type": "code",
   "execution_count": null,
   "metadata": {
    "collapsed": true
   },
   "outputs": [],
   "source": []
  },
  {
   "cell_type": "code",
   "execution_count": null,
   "metadata": {
    "collapsed": true
   },
   "outputs": [],
   "source": []
  },
  {
   "cell_type": "code",
   "execution_count": null,
   "metadata": {
    "collapsed": true
   },
   "outputs": [],
   "source": []
  },
  {
   "cell_type": "code",
   "execution_count": null,
   "metadata": {
    "collapsed": true
   },
   "outputs": [],
   "source": []
  }
 ],
 "metadata": {
  "kernelspec": {
   "display_name": "Python 3",
   "language": "python",
   "name": "python3"
  },
  "language_info": {
   "codemirror_mode": {
    "name": "ipython",
    "version": 3
   },
   "file_extension": ".py",
   "mimetype": "text/x-python",
   "name": "python",
   "nbconvert_exporter": "python",
   "pygments_lexer": "ipython3",
   "version": "3.6.3"
  }
 },
 "nbformat": 4,
 "nbformat_minor": 2
}
