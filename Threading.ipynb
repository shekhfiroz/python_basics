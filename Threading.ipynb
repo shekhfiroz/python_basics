{
 "cells": [
  {
   "cell_type": "code",
   "execution_count": null,
   "metadata": {
    "collapsed": true
   },
   "outputs": [],
   "source": [
    "Threads:\n",
    "    A thread represents an independent process of execution of statements.\n",
    "#1) PVM will create main thread and allots it to run any Python programm.\n",
    "#2) Every python programm is run by  main thread.\n",
    "#3) to know the current running thread:current_thread()\n",
    "#4) to know the name of the thread: getName()\n",
    "#5) to set the nme of the thread: setName()\n"
   ]
  },
  {
   "cell_type": "code",
   "execution_count": null,
   "metadata": {
    "collapsed": true
   },
   "outputs": [],
   "source": [
    "#to know which thread is running your programme\n",
    "import threading\n",
    "print('let us find out the presently running thread')\n",
    "str=threading.current_thread().getName()\n",
    "print('Presently running thread name==',str)\n",
    "if threading.current_thread()==threading.main_thread():\n",
    "    print(\"Its main thread\")\n",
    "else:\n",
    "    print(\"It is Not main thread\")"
   ]
  },
  {
   "cell_type": "code",
   "execution_count": null,
   "metadata": {
    "collapsed": true
   },
   "outputs": [],
   "source": [
    "help('threading')"
   ]
  },
  {
   "cell_type": "code",
   "execution_count": null,
   "metadata": {
    "collapsed": true
   },
   "outputs": [],
   "source": [
    "#ROUND ROBIN METHOD:\n",
    "SINGLE TASKING:executing only one task or job at a time:\n"
   ]
  },
  {
   "cell_type": "code",
   "execution_count": null,
   "metadata": {
    "collapsed": true
   },
   "outputs": [],
   "source": [
    "MultiTasking: executing several tasks at a time.\n",
    "    (a)processed based multitasking(Multiple process are running at a time)\n",
    "    (b)Thread based multi-tasking"
   ]
  },
  {
   "cell_type": "code",
   "execution_count": null,
   "metadata": {
    "collapsed": true
   },
   "outputs": [],
   "source": []
  },
  {
   "cell_type": "code",
   "execution_count": null,
   "metadata": {
    "collapsed": true
   },
   "outputs": [],
   "source": [
    "#It is possible to create a thread withoud using class from threading import *\n",
    "\n",
    "from threading import *\n",
    "def display():\n",
    "    print('I am running!')\n",
    "    print('Sum==',a+b)\n",
    "t=Thread(target=display,args=(10,11.5))\n",
    "#display we are giving the methods name we are not calling the function\n",
    "t.start()"
   ]
  },
  {
   "cell_type": "code",
   "execution_count": 20,
   "metadata": {},
   "outputs": [
    {
     "name": "stdout",
     "output_type": "stream",
     "text": [
      "I am executing from Run ... \n"
     ]
    }
   ],
   "source": [
    "#it is possible to create a thread by creating a sub class to thread class and override run()\n",
    "\n",
    "from threading import *\n",
    "class Myclass (Thread):\n",
    "    def run(self):\n",
    "        print(\"I am executing from Run... \")\n",
    "t=Myclass()\n",
    "t.start()"
   ]
  },
  {
   "cell_type": "code",
   "execution_count": null,
   "metadata": {
    "collapsed": true
   },
   "outputs": [],
   "source": []
  },
  {
   "cell_type": "code",
   "execution_count": 14,
   "metadata": {},
   "outputs": [
    {
     "name": "stdout",
     "output_type": "stream",
     "text": [
      "Hello,I am a thread\n"
     ]
    }
   ],
   "source": [
    "#It is possible to create a thread without creating sub class to Thread Class\n",
    "from threading import *\n",
    "class Myclass:\n",
    "    def display(self):\n",
    "        print(\"Hello,I am a thread\")\n",
    "m=Myclass()\n",
    "#Thread(target=display=fun,args=())\n",
    "t=Thread(target=m.display())\n",
    "t.start()"
   ]
  },
  {
   "cell_type": "code",
   "execution_count": 16,
   "metadata": {},
   "outputs": [
    {
     "name": "stdout",
     "output_type": "stream",
     "text": [
      "Hello,I am a thread\n",
      "sum= 21.5\n"
     ]
    }
   ],
   "source": [
    "#with the help of constructor\n",
    "from threading import *\n",
    "class Myclass:\n",
    "    def __init__(self,x,y):\n",
    "        self.x=x\n",
    "        self.y=y\n",
    "    def display(self):\n",
    "        print(\"Hello,I am a thread\")\n",
    "        print('sum=',self.x+self.y)\n",
    "m=Myclass(10,11.5)\n",
    "#Thread(target=display=fun,args=())\n",
    "t=Thread(target=m.display())\n",
    "t.start()"
   ]
  },
  {
   "cell_type": "code",
   "execution_count": null,
   "metadata": {
    "collapsed": true
   },
   "outputs": [],
   "source": [
    "#Multi Tasking:Executing multiple tasks at a time ..\n",
    "#Example of going to two thing will happen\n",
    "1)movie hall movie ticket \n",
    "2)showing the chair to sit\n",
    "#Threater management \n",
    "1 and 2 is two thread is there to work simultaneously\n"
   ]
  },
  {
   "cell_type": "code",
   "execution_count": 1,
   "metadata": {},
   "outputs": [
    {
     "name": "stdout",
     "output_type": "stream",
     "text": [
      "Show ChairsCut Tickets for tickect no for tickect no  11\n",
      "\n",
      "Show ChairsCut Tickets  for tickect nofor tickect no  22\n",
      "\n",
      "Show ChairsCut Tickets  for tickect nofor tickect no  33\n",
      "\n",
      "Show Chairs for tickect no 4\n",
      "Cut Tickets for tickect no 4\n",
      "Show Chairs for tickect no 5\n",
      "Cut Tickets for tickect no 5\n",
      "Show Chairs for tickect no 6\n",
      "Cut Tickets for tickect no 6\n",
      "Show Chairs for tickect no 7\n",
      "Cut Tickets for tickect no 7\n",
      "Show Chairs for tickect no 8\n",
      "Cut Tickets for tickect no 8\n",
      "Show Chairs for tickect no 9\n",
      "Cut Tickets for tickect no 9\n",
      "Show Chairs for tickect no 10\n",
      "Cut Tickets for tickect no 10\n"
     ]
    }
   ],
   "source": [
    "#Multi Tasking using 2  Threads \n",
    "\n",
    "from threading import *\n",
    "from time import *\n",
    "\n",
    "class Theatre:\n",
    "    def __init__(self,str):\n",
    "        self.str=str\n",
    "    def movieshow(self):\n",
    "        for i in range(1,11):\n",
    "            print(self.str,'for tickect no',i)\n",
    "            sleep(4)\n",
    "obj1=Theatre('Cut Tickets')\n",
    "obj2=Theatre(\"Show Chairs\")\n",
    "t1=Thread(target=obj1.movieshow)\n",
    "t2=Thread(target=obj2.movieshow)\n",
    "t1.start()\n",
    "t2.start()\n"
   ]
  },
  {
   "cell_type": "code",
   "execution_count": null,
   "metadata": {
    "collapsed": true
   },
   "outputs": [],
   "source": [
    "#When Multiple threads act on a single or multiple objects simultaneouslt,then result will not be reliable\n",
    "\"\"\"\n",
    "I want to book a train tickets from hyderbad to Delhi\n",
    "\"\"\""
   ]
  },
  {
   "cell_type": "code",
   "execution_count": 5,
   "metadata": {},
   "outputs": [
    {
     "name": "stdout",
     "output_type": "stream",
     "text": [
      "No.Of birth available=1\n",
      "1 berth alloted to firstName\n",
      "No.Of birth available=1\n",
      "1 berth alloted to Thread-12\n"
     ]
    }
   ],
   "source": [
    "#Thread Syncronization in python example\n",
    "\n",
    "from threading import *\n",
    "from time import *\n",
    "class Railway:\n",
    "    def __init__(self,available):\n",
    "        self.available=available\n",
    "        \n",
    "    def reserve(self,wanted):\n",
    "        print('No.Of birth available=%d'%self.available)\n",
    "        if self.available>=wanted:\n",
    "            #allot the birth\n",
    "            name=current_thread().getName()\n",
    "            print('%d berth alloted to %s'%(wanted,name))\n",
    "            #Time for printing tickect\n",
    "            sleep(1.5)\n",
    "            #update the available number of berths\n",
    "            self.available-=wanted\n",
    "        else:\n",
    "            print('Sorry no berth to allot')\n",
    "#Tell that there is only 1 berth available\n",
    "r=Railway(1)\n",
    "#send request for 1 berth for each passanger\n",
    "t1=Thread(target=r.reserve,args=(1,))\n",
    "t2=Thread(target=r.reserve,args=(1,))\n",
    "#t3=Thread(target=r.reserve,args=(1,))\n",
    "t1.setName('firstName')\n",
    "t2.setDaemon('secondName')\n",
    "t1.start()\n",
    "t2.start()"
   ]
  },
  {
   "cell_type": "code",
   "execution_count": null,
   "metadata": {
    "collapsed": true
   },
   "outputs": [],
   "source": [
    "\"\"\"When multiple threads act on same object simultaneously,then the results will not be reliable\n",
    "   to get the correct results,we have to synchronized the threads by locking the object.this is called \n",
    "   thread synchronization or thread safe\n",
    "   \n",
    "   1) What is thread synchronization?\n",
    "   Ans:when a thread is acting on an object ,not allowing another thread to enter \n",
    "   the same object is called thread Synchronization or thread safe.\n",
    "   \n",
    "   #The Object which is synchronized is called 'Mutex'(mutually exclusive lock)\n",
    "   \n",
    "\"\"\""
   ]
  },
  {
   "cell_type": "code",
   "execution_count": null,
   "metadata": {
    "collapsed": true
   },
   "outputs": [],
   "source": [
    "\"\"\" #Soln for thread Syncronization\n",
    "1) locking the object using Lock.\n",
    "  l=lock()\n",
    "  l.acquire()\n",
    "  l.release()\n",
    "\"\"\"\n"
   ]
  },
  {
   "cell_type": "code",
   "execution_count": null,
   "metadata": {
    "collapsed": true
   },
   "outputs": [],
   "source": [
    "\"\"\" Locking the object using Semaphone.\n",
    "semaphore will give fast work\n",
    "I=Semaphore()\n",
    "I.acquire()\n",
    "I.release()\n",
    "\n",
    "\"\"\""
   ]
  },
  {
   "cell_type": "code",
   "execution_count": null,
   "metadata": {
    "collapsed": true
   },
   "outputs": [],
   "source": []
  }
 ],
 "metadata": {
  "kernelspec": {
   "display_name": "Python 3",
   "language": "python",
   "name": "python3"
  },
  "language_info": {
   "codemirror_mode": {
    "name": "ipython",
    "version": 3
   },
   "file_extension": ".py",
   "mimetype": "text/x-python",
   "name": "python",
   "nbconvert_exporter": "python",
   "pygments_lexer": "ipython3",
   "version": "3.6.3"
  }
 },
 "nbformat": 4,
 "nbformat_minor": 2
}
