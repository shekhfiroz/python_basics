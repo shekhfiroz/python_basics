{
 "cells": [
  {
   "cell_type": "code",
   "execution_count": null,
   "metadata": {
    "collapsed": false
   },
   "outputs": [],
   "source": [
    "exampleVar = print (\"exampleVar\")"
   ]
  },
  {
   "cell_type": "code",
   "execution_count": null,
   "metadata": {
    "collapsed": false
   },
   "outputs": [],
   "source": [
    "#while loop\n",
    "condition =1\n",
    "while condition <=10:\n",
    "    print(condition)\n",
    "    condition += 1"
   ]
  },
  {
   "cell_type": "code",
   "execution_count": null,
   "metadata": {
    "collapsed": false
   },
   "outputs": [],
   "source": [
    "# using infinite while loop\n",
    "while True:\n",
    "    print('doing stuff')"
   ]
  },
  {
   "cell_type": "code",
   "execution_count": null,
   "metadata": {
    "collapsed": false
   },
   "outputs": [],
   "source": [
    "        #forloop syntax\n",
    "        exampleList =[1,2,3,4,55,66,77,6,444,]\n",
    "        for eachNumber in exampleList:\n",
    "            print(eachNumber)\n",
    "        #this will be print with every number\n",
    "            print('continue programme')\n",
    "\n",
    "        #other way to for loop using range\n",
    "\n",
    "        for i in range(1,5):\n",
    "            print(i)"
   ]
  },
  {
   "cell_type": "code",
   "execution_count": 6,
   "metadata": {
    "collapsed": false
   },
   "outputs": [
    {
     "name": "stdout",
     "output_type": "stream",
     "text": [
      "equals\n"
     ]
    }
   ],
   "source": [
    "#if else statment\n",
    "x =5\n",
    "y =8\n",
    "z =5\n",
    "if x <=y:\n",
    "    print(\"equals\")\n",
    "    \n"
   ]
  },
  {
   "cell_type": "code",
   "execution_count": 10,
   "metadata": {
    "collapsed": false
   },
   "outputs": [
    {
     "name": "stdout",
     "output_type": "stream",
     "text": [
      "b is greater\n"
     ]
    }
   ],
   "source": [
    "#if else statment\n",
    "a =5\n",
    "b =50\n",
    "if b >a:\n",
    "    print(\"b is greater\")\n",
    "else:\n",
    "        print(\"a is greater\")\n"
   ]
  },
  {
   "cell_type": "code",
   "execution_count": 15,
   "metadata": {
    "collapsed": false
   },
   "outputs": [
    {
     "ename": "SyntaxError",
     "evalue": "invalid syntax (<ipython-input-15-2fcb8537f919>, line 7)",
     "output_type": "error",
     "traceback": [
      "\u001b[0;36m  File \u001b[0;32m\"<ipython-input-15-2fcb8537f919>\"\u001b[0;36m, line \u001b[0;32m7\u001b[0m\n\u001b[0;31m    elif x < z:\u001b[0m\n\u001b[0m       ^\u001b[0m\n\u001b[0;31mSyntaxError\u001b[0m\u001b[0;31m:\u001b[0m invalid syntax\n"
     ]
    }
   ],
   "source": [
    "    #el-if condition\n",
    "    x =5\n",
    "    y =10\n",
    "    z=20\n",
    "    if x >y:\n",
    "        print(\"x is greater than y\")\n",
    "    elif x < z:\n",
    "            print(\"x is less than z\")\n",
    "    elif 5 > 2 :\n",
    "                print(\"5 is greater than \")\n",
    "    else:\n",
    "                    print('if and elif(s) never ran')\n"
   ]
  },
  {
   "cell_type": "code",
   "execution_count": null,
   "metadata": {
    "collapsed": true
   },
   "outputs": [],
   "source": []
  }
 ],
 "metadata": {
  "kernelspec": {
   "display_name": "Python 3",
   "language": "python",
   "name": "python3"
  },
  "language_info": {
   "codemirror_mode": {
    "name": "ipython",
    "version": 3
   },
   "file_extension": ".py",
   "mimetype": "text/x-python",
   "name": "python",
   "nbconvert_exporter": "python",
   "pygments_lexer": "ipython3",
   "version": "3.6.0"
  }
 },
 "nbformat": 4,
 "nbformat_minor": 2
}
