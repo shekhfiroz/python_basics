{
 "cells": [
  {
   "cell_type": "code",
   "execution_count": null,
   "metadata": {
    "collapsed": true
   },
   "outputs": [],
   "source": [
    "Producer oriented lang ->C,Pascal,FORTRAN\n",
    "procedures/functions\n",
    "-> they are NOT developed from human life or related to human life its difficult to remb.\n",
    "-> they are not reusable for other work\n",
    "\n",
    "Object oriented langguage ->C++,Java,Pyhton,.net Object oriented revolved around two things i.e\n",
    "Class and object"
   ]
  },
  {
   "cell_type": "code",
   "execution_count": null,
   "metadata": {
    "collapsed": true
   },
   "outputs": [],
   "source": [
    "object oriented programming systems(OOPS)\n",
    "1) classes and objects\n",
    "2) encapsulation\n",
    "3) abstraction\n",
    "4) inheritance\n",
    "5) polymorphism\n",
    "\n",
    "OBJECT:An object is defined as entity that exists physically in the real world(Having some shape,occupy space).\n",
    "eg:bottle,chairs,computer \n",
    "    \n",
    "Behavior-> Properties + Actions\n",
    "\n",
    "Persons(it doesnot have physically existance like we will have)\n",
    "\n",
    "Raju           :  Properties:\n",
    "Sita              name,age,ht,wt,color(can be shown with the help of variables)\n",
    "subbu                                        \n",
    "ramu                                    \n",
    "        \n",
    "                   Actions\n",
    "                   talk,walk,eat,sleep( to perform actions we will write functions)\n",
    "                \n",
    "\"AN OBJECT CONTAINS PROPERTIES AND ACTIONS/BEHAVIOUR(vimp)\"\n"
   ]
  },
  {
   "cell_type": "code",
   "execution_count": null,
   "metadata": {
    "collapsed": true
   },
   "outputs": [],
   "source": [
    "CLASS:\n",
    "    \n",
    "* A class represents comman behaviour of group of objects ie class also contains behaviour and function\n",
    "* Class does not exist physically\n",
    "\n",
    "**sir asked for  sweets  you bought maysoor park i.e sweets is a CLASS and maysoor park is an object.\n",
    "  maysoor park is an object and  it is physically available but there is no physical existance of sweets.\n",
    "\n",
    "-----------------------------------------------------------------------------------------------------------------\n",
    "EXAMPLES:\n",
    "*In house Furniture we having sofa ,chair here FURNITURE dont have physically existence  but sofa etc are objects.\n",
    "*In COLOR we have blue red,green,yellow... here COLOR is class and red blue,green are objects\n",
    "*rose is an objects of FLOWER class\n",
    "*He is a HERO ,only hero means one form of the object who is fullfilling all the features of  class  quality\n",
    "\n",
    "----------------------------------------------------------------------------------------------------------------\n",
    "* OBJECT IS PHYSICAL FORM OF A OBJECT:AND physical form is called instance\n",
    "#Definition of class#\n",
    "* CLASS is  model or blueprint to creat objects.without class we caanot create objects.but we can  a class can \n",
    "  be created without object\n",
    "    \n",
    "SOUL(ATMA) is a class and our body will be objects  atma cannnot do anything .\n"
   ]
  },
  {
   "cell_type": "code",
   "execution_count": null,
   "metadata": {
    "collapsed": true
   },
   "outputs": [],
   "source": []
  },
  {
   "cell_type": "code",
   "execution_count": null,
   "metadata": {
    "collapsed": true
   },
   "outputs": [],
   "source": []
  },
  {
   "cell_type": "code",
   "execution_count": null,
   "metadata": {
    "collapsed": true
   },
   "outputs": [],
   "source": []
  },
  {
   "cell_type": "code",
   "execution_count": null,
   "metadata": {
    "collapsed": true
   },
   "outputs": [],
   "source": []
  },
  {
   "cell_type": "code",
   "execution_count": null,
   "metadata": {
    "collapsed": true
   },
   "outputs": [],
   "source": []
  },
  {
   "cell_type": "code",
   "execution_count": null,
   "metadata": {
    "collapsed": true
   },
   "outputs": [],
   "source": []
  },
  {
   "cell_type": "code",
   "execution_count": null,
   "metadata": {
    "collapsed": true
   },
   "outputs": [],
   "source": []
  },
  {
   "cell_type": "code",
   "execution_count": null,
   "metadata": {
    "collapsed": true
   },
   "outputs": [],
   "source": []
  },
  {
   "cell_type": "code",
   "execution_count": null,
   "metadata": {
    "collapsed": true
   },
   "outputs": [],
   "source": []
  },
  {
   "cell_type": "code",
   "execution_count": null,
   "metadata": {
    "collapsed": true
   },
   "outputs": [],
   "source": []
  },
  {
   "cell_type": "code",
   "execution_count": null,
   "metadata": {
    "collapsed": true
   },
   "outputs": [],
   "source": []
  }
 ],
 "metadata": {
  "kernelspec": {
   "display_name": "Python 3",
   "language": "python",
   "name": "python3"
  },
  "language_info": {
   "codemirror_mode": {
    "name": "ipython",
    "version": 3
   },
   "file_extension": ".py",
   "mimetype": "text/x-python",
   "name": "python",
   "nbconvert_exporter": "python",
   "pygments_lexer": "ipython3",
   "version": "3.6.3"
  }
 },
 "nbformat": 4,
 "nbformat_minor": 2
}
