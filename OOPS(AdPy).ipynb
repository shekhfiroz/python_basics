{
 "cells": [
  {
   "cell_type": "code",
   "execution_count": null,
   "metadata": {
    "collapsed": true
   },
   "outputs": [],
   "source": [
    "Producer oriented lang ->C,Pascal,FORTRAN\n",
    "procedures/functions\n",
    "-> they are NOT developed from human life.\n",
    "-> they are not reusability\n",
    "\n",
    "Object oriented land->C++,Java,Pyhton,.net\n",
    "Class and object\n"
   ]
  },
  {
   "cell_type": "code",
   "execution_count": null,
   "metadata": {
    "collapsed": true
   },
   "outputs": [],
   "source": [
    "object oriented programming systems(OOPS)\n",
    "1) classes and objects\n",
    "2) encapsulation\n",
    "3) abstraction\n",
    "4) inheritance\n",
    "5) polymorphism\n",
    "\n",
    "OBJECT:An object is anything that exists physically in the real world.\n",
    "eg:bottle,chairs,computer\n",
    "    \n",
    "Behavior->properties + Actions\n",
    "\n",
    "Persons(it does not have physically existance like we will have)\n",
    "\n",
    "Raju           :  Properties:\n",
    "Sita              name,age,ht,wt,color(can be shown with the help of variables)\n",
    "subbu                                        \n",
    "ramu                                    \n",
    "        \n",
    "                   Actions\n",
    "                   talk,walk,eat,sleep( to perform actions we will write functions)\n",
    "                \n",
    " # AN OBJECT CONTAINS PROPERTIES AND ACTIONS(vimp)\n",
    "\n"
   ]
  },
  {
   "cell_type": "code",
   "execution_count": null,
   "metadata": {
    "collapsed": true
   },
   "outputs": [],
   "source": [
    "CLASS:\n",
    "    \n",
    "* A class represents comman behaviour of group of objects ie class also contains behaviour and function\n",
    "* Class does not exist physically\n",
    "sir ask for  sweet  you bought maysoor park i.e sweet is a CLASS and maysoor park is an object\n",
    "maysoor park is an object as it is physically available\n",
    "\n",
    "-----------------------------------------------------------------------------------------------------------------\n",
    "EXAMPLES:\n",
    "*In house Furniture we having sofa ,chair here furniture dont have physically available  but sofa etc are objects.\n",
    "*in color we have blue red,green,yellow... here color is class and red blue,green are object\n",
    "*rose is an objects of flower class\n",
    "* he is a hero no only hero means one form of the object who is fullfilling all the class  quality\n",
    "\n",
    "----------------------------------------------------------------------------------------------------------------\n",
    "* OBJECT IS PHYSICAL FORM OF A OBJECT:and physical form is called instance\n",
    "* CLASS is  model or blueprint to creat objects.without class we caanot create objects.but we can  a class can \n",
    "  be created without object\n",
    "    \n",
    "SOUL(ATMA) is a class and our body will be objects.\n"
   ]
  },
  {
   "cell_type": "code",
   "execution_count": null,
   "metadata": {
    "collapsed": true
   },
   "outputs": [],
   "source": []
  },
  {
   "cell_type": "code",
   "execution_count": null,
   "metadata": {
    "collapsed": true
   },
   "outputs": [],
   "source": []
  },
  {
   "cell_type": "code",
   "execution_count": null,
   "metadata": {
    "collapsed": true
   },
   "outputs": [],
   "source": []
  },
  {
   "cell_type": "code",
   "execution_count": null,
   "metadata": {
    "collapsed": true
   },
   "outputs": [],
   "source": []
  },
  {
   "cell_type": "code",
   "execution_count": null,
   "metadata": {
    "collapsed": true
   },
   "outputs": [],
   "source": []
  },
  {
   "cell_type": "code",
   "execution_count": null,
   "metadata": {
    "collapsed": true
   },
   "outputs": [],
   "source": []
  },
  {
   "cell_type": "code",
   "execution_count": null,
   "metadata": {
    "collapsed": true
   },
   "outputs": [],
   "source": []
  },
  {
   "cell_type": "code",
   "execution_count": null,
   "metadata": {
    "collapsed": true
   },
   "outputs": [],
   "source": []
  },
  {
   "cell_type": "code",
   "execution_count": null,
   "metadata": {
    "collapsed": true
   },
   "outputs": [],
   "source": []
  },
  {
   "cell_type": "code",
   "execution_count": null,
   "metadata": {
    "collapsed": true
   },
   "outputs": [],
   "source": []
  },
  {
   "cell_type": "code",
   "execution_count": null,
   "metadata": {
    "collapsed": true
   },
   "outputs": [],
   "source": []
  }
 ],
 "metadata": {
  "kernelspec": {
   "display_name": "Python 3",
   "language": "python",
   "name": "python3"
  },
  "language_info": {
   "codemirror_mode": {
    "name": "ipython",
    "version": 3
   },
   "file_extension": ".py",
   "mimetype": "text/x-python",
   "name": "python",
   "nbconvert_exporter": "python",
   "pygments_lexer": "ipython3",
   "version": "3.6.3"
  }
 },
 "nbformat": 4,
 "nbformat_minor": 2
}
