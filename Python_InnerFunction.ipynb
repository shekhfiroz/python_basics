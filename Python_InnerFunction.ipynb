{
 "cells": [
  {
   "cell_type": "code",
   "execution_count": null,
   "metadata": {},
   "outputs": [],
   "source": [
    "\"\"\"\n",
    "Function Decorators\n",
    "It is a function that takes another function as parameter,modified it and returns it\n",
    "What is the use of function Decorator??\n",
    "\"\"\"\n",
    "#Create a function decorator that increase the value of another function by 2\n",
    "#fun is an other function\n",
    "\n",
    "def decor(fun):\n",
    "    def inner():#every decorator function its necessory to create inner function\n",
    "        res=fun()\n",
    "        res+=2\n",
    "        return res\n",
    "    return inner\n",
    "#Take Another function\n",
    "@decor #a function which will do some modification internally in our function\n",
    "def num():\n",
    "    return 1\n",
    "\n",
    "#Call the function\n",
    "print(num())\n",
    "\n",
    "#decor(num)\n",
    "#x=decor(num)\n",
    "#print(x())\n",
    "        \n",
    "    "
   ]
  },
  {
   "cell_type": "code",
   "execution_count": null,
   "metadata": {},
   "outputs": [],
   "source": [
    "\"\"\"\n",
    "@staticmethod\n",
    "#is written by python.org\n",
    "\"\"\"\n",
    "\"\"\"\n",
    "Generator:= Generator is a function that returns an object with \n",
    "sequence of numbers.generator function inernally uses while loop\n",
    "\"\"\"\n",
    "#generate a number from  5 to 10\n",
    "#range() is a generator function\n",
    "\n",
    "def myGen(m,n):\n",
    "    while(m<=n):\n",
    "        yield m\n",
    "        m+=5\n",
    "#call generator\n",
    "g=myGen(1,100)\n",
    "for i in g:print(i)\n",
    "\n",
    "        "
   ]
  },
  {
   "cell_type": "code",
   "execution_count": null,
   "metadata": {
    "collapsed": true
   },
   "outputs": [],
   "source": []
  },
  {
   "cell_type": "code",
   "execution_count": null,
   "metadata": {
    "collapsed": true
   },
   "outputs": [],
   "source": []
  },
  {
   "cell_type": "code",
   "execution_count": null,
   "metadata": {
    "collapsed": true
   },
   "outputs": [],
   "source": []
  },
  {
   "cell_type": "code",
   "execution_count": null,
   "metadata": {
    "collapsed": true
   },
   "outputs": [],
   "source": []
  },
  {
   "cell_type": "code",
   "execution_count": null,
   "metadata": {
    "collapsed": true
   },
   "outputs": [],
   "source": []
  },
  {
   "cell_type": "code",
   "execution_count": null,
   "metadata": {
    "collapsed": true
   },
   "outputs": [],
   "source": []
  },
  {
   "cell_type": "code",
   "execution_count": null,
   "metadata": {
    "collapsed": true
   },
   "outputs": [],
   "source": []
  }
 ],
 "metadata": {
  "kernelspec": {
   "display_name": "Python 3",
   "language": "python",
   "name": "python3"
  },
  "language_info": {
   "codemirror_mode": {
    "name": "ipython",
    "version": 3
   },
   "file_extension": ".py",
   "mimetype": "text/x-python",
   "name": "python",
   "nbconvert_exporter": "python",
   "pygments_lexer": "ipython3",
   "version": "3.6.3"
  }
 },
 "nbformat": 4,
 "nbformat_minor": 2
}
