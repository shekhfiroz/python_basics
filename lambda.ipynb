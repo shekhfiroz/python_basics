{
 "cells": [
  {
   "cell_type": "code",
   "execution_count": null,
   "metadata": {
    "collapsed": true
   },
   "outputs": [],
   "source": [
    "\"\"\"\n",
    "LAMBDA:It is a function that does not have a name.\n",
    "we do nt write name and result statment\n",
    "lamdas are called anonymous function.\n",
    "One object is created internally\n",
    "\n",
    "--They return a function as an object--\n",
    "\n",
    "Wrte a lamda which returns there sum\n",
    "\"\"\""
   ]
  },
  {
   "cell_type": "code",
   "execution_count": 2,
   "metadata": {},
   "outputs": [
    {
     "name": "stdout",
     "output_type": "stream",
     "text": [
      "49\n",
      "30\n"
     ]
    }
   ],
   "source": [
    "#Normal function in Python\n",
    "def sum(x,y):\n",
    "    return x+y\n",
    "print(sum(23,26))\n",
    "\n",
    "#Using Lambda Function in python\n",
    "f=lambda x,y:x+y\n",
    "print(f(10,20))\n",
    "\n"
   ]
  },
  {
   "cell_type": "code",
   "execution_count": null,
   "metadata": {
    "collapsed": true
   },
   "outputs": [],
   "source": []
  },
  {
   "cell_type": "code",
   "execution_count": null,
   "metadata": {},
   "outputs": [],
   "source": [
    "\"\"\"\n",
    "to know if number is even or not with the help of normal function\n",
    "\"\"\"\n",
    "def even():\n",
    "    input_num=float(input(\"please enter a num \"))\n",
    "    print(input_num)\n",
    "    if input_num%2==0:\n",
    "        print(\"number is even\")\n",
    "    elif:\n",
    "    else:\n",
    "        print(\"nos is odd you ass\")\n",
    "even()\n",
    "    "
   ]
  },
  {
   "cell_type": "code",
   "execution_count": 10,
   "metadata": {},
   "outputs": [
    {
     "name": "stdout",
     "output_type": "stream",
     "text": [
      "Number is ODD\n"
     ]
    }
   ],
   "source": [
    "#checking a number odd or even BY LAMBDA function\n",
    "fun=lambda x:'number is even'if x%2==0 else \"Number is ODD\"\n",
    "#print(fun)\n",
    "res=fun(11)\n",
    "print(res)"
   ]
  },
  {
   "cell_type": "code",
   "execution_count": null,
   "metadata": {
    "collapsed": true
   },
   "outputs": [],
   "source": []
  },
  {
   "cell_type": "code",
   "execution_count": null,
   "metadata": {
    "collapsed": true
   },
   "outputs": [],
   "source": [
    "\n"
   ]
  },
  {
   "cell_type": "code",
   "execution_count": 9,
   "metadata": {},
   "outputs": [
    {
     "name": "stdout",
     "output_type": "stream",
     "text": [
      "10\n",
      "11\n",
      "12\n",
      "-12\n",
      "10\n",
      "5\n"
     ]
    }
   ],
   "source": [
    "\"\"\"\n",
    "1)the filter() is useful to filter out the elements of a sequence.\n",
    "2)it returns a sequences.\n",
    "3)filter(lamda,sequence,list) \n",
    "# WAP To reterive even nos from a group of numbers\n",
    "\"\"\"\n",
    "lst =[10,11,12,-12,10,5]\n",
    "#lst1=filter(lambda x: x%2=0,lst)\n",
    "f=filter(lambda x: x%2==0,lst)\n",
    "for i in lst:\n",
    "    print(i)"
   ]
  },
  {
   "cell_type": "code",
   "execution_count": null,
   "metadata": {
    "collapsed": true
   },
   "outputs": [],
   "source": []
  },
  {
   "cell_type": "code",
   "execution_count": 12,
   "metadata": {},
   "outputs": [
    {
     "name": "stdout",
     "output_type": "stream",
     "text": [
      "<map object at 0x7faf08494390>\n",
      "<map object at 0x7faf084943c8>\n"
     ]
    }
   ],
   "source": [
    "def fahrenheit(T):\n",
    "    return ((float(9)/5)*T + 32)\n",
    "def celsius(T):\n",
    "    return (float(5)/9)*(T-32)\n",
    "temp = (36.5, 37, 37.5,39)\n",
    "\n",
    "F = map(fahrenheit, temp)\n",
    "print(F)\n",
    "C = map(celsius, F)\n",
    "print(C)"
   ]
  },
  {
   "cell_type": "code",
   "execution_count": 13,
   "metadata": {},
   "outputs": [
    {
     "name": "stdout",
     "output_type": "stream",
     "text": [
      "100\n",
      "121\n",
      "144\n",
      "144\n",
      "100\n",
      "25\n"
     ]
    }
   ],
   "source": [
    "\"\"\" the map() function is similar to filter() function but it acts on each elements of the sequesnces,it modifies the elements and return them.\n",
    "map(lambda,sequences)\n",
    "\n",
    "wap that returns squares of a group of elements\n",
    "\"\"\"\n",
    "lst =[10,11,12,-12,10,5]\n",
    "lst1=map(lambda x:x*x,lst)\n",
    "for  i in lst1:\n",
    "    print(i)"
   ]
  },
  {
   "cell_type": "code",
   "execution_count": 19,
   "metadata": {},
   "outputs": [
    {
     "ename": "SyntaxError",
     "evalue": "EOL while scanning string literal (<ipython-input-19-70a670f036b8>, line 1)",
     "output_type": "error",
     "traceback": [
      "\u001b[0;36m  File \u001b[0;32m\"<ipython-input-19-70a670f036b8>\"\u001b[0;36m, line \u001b[0;32m1\u001b[0m\n\u001b[0;31m    \"reduce() function reduces a sequences of elements to a single value reduce(lambda,sequences)\u001b[0m\n\u001b[0m                                                                                                 ^\u001b[0m\n\u001b[0;31mSyntaxError\u001b[0m\u001b[0;31m:\u001b[0m EOL while scanning string literal\n"
     ]
    }
   ],
   "source": [
    "\"reduce() function reduces a sequences of elements to a single value reduce(lambda,sequences)\n",
    "\"\n",
    "#create a lambda function to calculate the cummulative product of list of nos.\n",
    "from functools import *\n",
    "lst=[1,2,3,4,5,6,7]\n",
    "res=functools.reduce(lambda x,y:x*y,lst)\n",
    "#print(res)\n"
   ]
  },
  {
   "cell_type": "code",
   "execution_count": 17,
   "metadata": {},
   "outputs": [
    {
     "data": {
      "text/plain": [
       "283"
      ]
     },
     "execution_count": 17,
     "metadata": {},
     "output_type": "execute_result"
    }
   ],
   "source": [
    "from functools import *\n",
    "shekh=[47,11,42,13,0,0,0,0,10,90,20,50]\n",
    "reduce(lambda x,y: x+y, shekh)\n"
   ]
  },
  {
   "cell_type": "code",
   "execution_count": null,
   "metadata": {
    "collapsed": true
   },
   "outputs": [],
   "source": []
  },
  {
   "cell_type": "code",
   "execution_count": null,
   "metadata": {
    "collapsed": true
   },
   "outputs": [],
   "source": []
  },
  {
   "cell_type": "code",
   "execution_count": null,
   "metadata": {
    "collapsed": true
   },
   "outputs": [],
   "source": []
  },
  {
   "cell_type": "code",
   "execution_count": null,
   "metadata": {
    "collapsed": true
   },
   "outputs": [],
   "source": []
  }
 ],
 "metadata": {
  "kernelspec": {
   "display_name": "Python 3",
   "language": "python",
   "name": "python3"
  }
 },
 "nbformat": 4,
 "nbformat_minor": 2
}
