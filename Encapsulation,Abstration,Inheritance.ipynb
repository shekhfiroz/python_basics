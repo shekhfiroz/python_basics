{
 "cells": [
  {
   "cell_type": "code",
   "execution_count": null,
   "metadata": {
    "collapsed": true
   },
   "outputs": [],
   "source": [
    "#Encapsulation concept\n",
    "Encapsulatation :Bundling up of data and methods into the same unit.\n",
    " example:class is an example of encapsulation\n",
    "Encapsulation is protective measure:\n",
    "    our stomach is better example of encapsulation"
   ]
  },
  {
   "cell_type": "code",
   "execution_count": null,
   "metadata": {
    "collapsed": true
   },
   "outputs": [],
   "source": [
    "Abstraction:Hiding unnessary data from the users"
   ]
  },
  {
   "cell_type": "code",
   "execution_count": 4,
   "metadata": {},
   "outputs": [
    {
     "name": "stdout",
     "output_type": "stream",
     "text": [
      "1001\n",
      "srinu\n",
      "78999\n",
      "150000\n",
      "150000\n"
     ]
    }
   ],
   "source": [
    "class Bank:\n",
    "    def __init__(self):\n",
    "        self.accno=1001\n",
    "        self.name='srinu'\n",
    "        self.bal=78999\n",
    "        #self.loan=150000 \n",
    "        self.__loan=150000 \n",
    "    def dispaly_to_clerk(self):\n",
    "        print('Account=',self.accno)\n",
    "        print('Name=',self.name)\n",
    "        print('bal=',self.bal)\n",
    "        \n",
    "b=Bank()\n",
    "print(b.accno)\n",
    "print(b.name)\n",
    "print(b.bal)\n",
    "print(b.loan)\n",
    "print(b._Bank__loan)#Name mangling\n",
    "#Name Mangling is a technique of writing the variable name differently to access the abstracted variable.\n",
    "# Syantx => obj._Classsname__varname"
   ]
  },
  {
   "cell_type": "code",
   "execution_count": null,
   "metadata": {
    "collapsed": true
   },
   "outputs": [],
   "source": [
    "#Inheritance:\n",
    "Producing new classes from already existing classes such that all the features\n",
    "of the existing classes will be available to the newly created classes.\n",
    "The already existing class->super class or base class\n",
    "the newly created class-> sub class or derived class\n",
    "\n",
    "Syntax:class Subclass(Superclass):\n",
    "        body of sub class"
   ]
  },
  {
   "cell_type": "code",
   "execution_count": 3,
   "metadata": {
    "collapsed": true
   },
   "outputs": [],
   "source": [
    "#Demo of py\n",
    "class Teacher:\n",
    "    def setId(self,id):\n",
    "        self.id=id\n",
    "    def getId(self):\n",
    "        return self.id\n",
    "    \n",
    "    def setName(self,name):\n",
    "        self.name=name\n",
    "    def getName(self):\n",
    "        return self.name\n",
    "    \n",
    "    def setAddress(self,addr):\n",
    "        self.addr=addr\n",
    "    def getAddress(self):\n",
    "        return self.addr\n",
    "    \n",
    "    def setSal(self,sal):\n",
    "        self.sal=sal\n",
    "    def getSal(self):\n",
    "        return self.sal\n",
    "        "
   ]
  },
  {
   "cell_type": "code",
   "execution_count": 4,
   "metadata": {},
   "outputs": [
    {
     "name": "stdout",
     "output_type": "stream",
     "text": [
      "ID= 10\n",
      "NAME= shekh\n",
      "ADDRESS= 1-A,Ameerpet,Hyderbad\n",
      "SALARY= 100000\n"
     ]
    }
   ],
   "source": [
    "#Using the teacher class\n",
    "from Teacher import Teacher\n",
    "t=Teacher()\n",
    "t.setId(10)\n",
    "t.setName(\"shekh\")\n",
    "t.setAddress('1-A,Ameerpet,Hyderbad')\n",
    "t.setSal(100000)\n",
    "\n",
    "print(\"ID=\",t.getId())\n",
    "print(\"NAME=\",t.getName())\n",
    "print(\"ADDRESS=\",t.getAddress())\n",
    "print(\"SALARY=\",t.getSal())"
   ]
  },
  {
   "cell_type": "code",
   "execution_count": 6,
   "metadata": {
    "collapsed": true
   },
   "outputs": [],
   "source": [
    "#inherite code from teacher to student\n",
    "from Teacher import Teacher\n",
    "class inheriteTeachertoStudent(Teacher):\n",
    "    def setMarks(self,marks):\n",
    "        self.marks=marks\n",
    "    def getMarks(self):\n",
    "        return marks\n"
   ]
  },
  {
   "cell_type": "code",
   "execution_count": null,
   "metadata": {
    "collapsed": true
   },
   "outputs": [],
   "source": []
  },
  {
   "cell_type": "code",
   "execution_count": null,
   "metadata": {
    "collapsed": true
   },
   "outputs": [],
   "source": []
  },
  {
   "cell_type": "code",
   "execution_count": null,
   "metadata": {
    "collapsed": true
   },
   "outputs": [],
   "source": []
  },
  {
   "cell_type": "code",
   "execution_count": null,
   "metadata": {
    "collapsed": true
   },
   "outputs": [],
   "source": [
    "\"\"\"\"Programmers productivity is increased.\n",
    "productivity =code delivered\n",
    "it improves overall productivity company\"\"\"\"\n",
    "#6 month ->2 200 cr ->50 cr\n",
    "          -> 600 cr ->150 cr\n",
    " ------------------------------------------                   \n",
    "                       100 cr extra profit\n",
    " ------------------------------------------"
   ]
  },
  {
   "cell_type": "code",
   "execution_count": null,
   "metadata": {
    "collapsed": true
   },
   "outputs": [],
   "source": [
    "All the members of super classs  are available to sub class\n",
    "1) super classs constructor\n",
    "2) super class methods\n",
    "3) super class variables\n",
    "==================================================================================================================\n",
    "1) to refer to super class constuctor:\n",
    "    super.__init__()\n",
    "    super.__init__(args)\n",
    "    \n",
    "2) to call super class methods:\n",
    "   super.method()\n",
    "\n",
    "3).to refer to super class vars:\n",
    "   super().var\n"
   ]
  },
  {
   "cell_type": "code",
   "execution_count": 8,
   "metadata": {
    "collapsed": true
   },
   "outputs": [],
   "source": [
    "#Write a python programme to drive a rectange class from SQUARE class claculate are of square and rectangle\n",
    "#Write a python programme to drive a rectange class from SQUARE class claculate are of square and rectangle\n",
    "class Square:\n",
    "\tdef __init__(self,x):\n",
    "\t\tself.x=x\n",
    "\t\tdef area1(self):\n",
    "\t\t\tprint('area of square',self.x*self.x)\n",
    "\t\t\tclass Rectangle(Square):\n",
    "\tdef __init__(self,x,y):\n",
    "\t\tsuper().__init__(x)\n",
    "\t\tself.y=y\n",
    "\t\tdef area(self):\n",
    "\t\t\tprint(\"Area of rectangle=\",self.x*self.y)\n",
    "\t\t\tsuper().area1()\n",
    "r=Rectangle(10,20)\n",
    "r.area()"
   ]
  },
  {
   "cell_type": "code",
   "execution_count": null,
   "metadata": {
    "collapsed": true
   },
   "outputs": [],
   "source": [
    "#TYPES OF iNHERENTACE IN PYTHON\n",
    "1)Single Inheritance:Deriving subclasses from a single sub class.\n",
    "2)Multiple INheritance:Deriving sub classes from multiple(more than 1 ) super class."
   ]
  },
  {
   "cell_type": "code",
   "execution_count": 9,
   "metadata": {},
   "outputs": [
    {
     "name": "stdout",
     "output_type": "stream",
     "text": [
      "Height is 6 feet\n",
      "color is fair\n"
     ]
    }
   ],
   "source": [
    "#Write a python progrrame to derive Son class from  father mother classes\n",
    "class Father:\n",
    "    def height(self):\n",
    "        print(\"Height is 6 feet\")\n",
    "        \n",
    "class Mother:\n",
    "    def color(self):\n",
    "        print('color is fair')\n",
    "class child(Father,Mother):#derived from mother and father\n",
    "    pass\n",
    "\n",
    "firoz= child()\n",
    "firoz.height()\n",
    "firoz.color()\n"
   ]
  },
  {
   "cell_type": "code",
   "execution_count": 14,
   "metadata": {},
   "outputs": [
    {
     "name": "stdout",
     "output_type": "stream",
     "text": [
      "Height is 5.5 feet\n",
      "color is fair\n"
     ]
    }
   ],
   "source": [
    "#Write a python progrrame to derive Son class from  father mother classes\n",
    "class Father:\n",
    "    def height(self):\n",
    "        print(\"Height is 6 feet\")\n",
    "        \n",
    "class Mother:\n",
    "    def color(self):\n",
    "        print('color is fair')\n",
    "class child(Father,Mother):#derived from mother and father\n",
    "    def height(self):\n",
    "        print(\"Height is 5.5 feet\") #method over riding\n",
    "        \n",
    "firoz= child()\n",
    "firoz.height()\n",
    "firoz.color()\n"
   ]
  },
  {
   "cell_type": "code",
   "execution_count": 16,
   "metadata": {},
   "outputs": [
    {
     "ename": "SyntaxError",
     "evalue": "invalid syntax (<ipython-input-16-46aead67d64b>, line 3)",
     "output_type": "error",
     "traceback": [
      "\u001b[0;36m  File \u001b[0;32m\"<ipython-input-16-46aead67d64b>\"\u001b[0;36m, line \u001b[0;32m3\u001b[0m\n\u001b[0;31m    def method(self)\u001b[0m\n\u001b[0m                    ^\u001b[0m\n\u001b[0;31mSyntaxError\u001b[0m\u001b[0;31m:\u001b[0m invalid syntax\n"
     ]
    }
   ],
   "source": [
    "#Oder of the object\n",
    "class A(Object):\n",
    "    def method(self)\n",
    "    print(\"I AM IN A class\")\n",
    "class B(object):\n",
    "    print(\"B\")\n",
    "    super.method()\n",
    "class c(object):\n",
    "    print(\"c\")\n",
    "   # super.method()\n",
    "class X(A,B):\n",
    "    def method(self):\n",
    "        print('x method')\n",
    "        super().method()\n",
    "class X(B,C):\n",
    "    def method(self):\n",
    "        print('Y method')\n",
    "        super().method()\n",
    "class X(X,Y):\n",
    "    def method(self):\n",
    "        print('P method')\n",
    "        super().method()\n",
    "        \n",
    "obj=P()\n",
    "obj.method()\n",
    "P.mro() #mro is static method so class name with method nameHOw to call MRO Method to get the order \n",
    "print(P.mro())"
   ]
  },
  {
   "cell_type": "code",
   "execution_count": null,
   "metadata": {
    "collapsed": true
   },
   "outputs": [],
   "source": [
    "#HOw to call MRO Method"
   ]
  },
  {
   "cell_type": "code",
   "execution_count": null,
   "metadata": {
    "collapsed": true
   },
   "outputs": [],
   "source": []
  },
  {
   "cell_type": "code",
   "execution_count": null,
   "metadata": {
    "collapsed": true
   },
   "outputs": [],
   "source": []
  },
  {
   "cell_type": "code",
   "execution_count": null,
   "metadata": {
    "collapsed": true
   },
   "outputs": [],
   "source": []
  }
 ],
 "metadata": {
  "kernelspec": {
   "display_name": "Python 3",
   "language": "python",
   "name": "python3"
  },
  "language_info": {
   "codemirror_mode": {
    "name": "ipython",
    "version": 3
   },
   "file_extension": ".py",
   "mimetype": "text/x-python",
   "name": "python",
   "nbconvert_exporter": "python",
   "pygments_lexer": "ipython3",
   "version": "3.6.3"
  }
 },
 "nbformat": 4,
 "nbformat_minor": 2
}
