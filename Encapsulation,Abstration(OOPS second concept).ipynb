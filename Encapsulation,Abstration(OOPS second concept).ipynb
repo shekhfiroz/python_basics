{
 "cells": [
  {
   "cell_type": "code",
   "execution_count": null,
   "metadata": {
    "collapsed": true
   },
   "outputs": [],
   "source": [
    "Encapsulatation :Bundling up of data and methods into the same unit.\n",
    " example:class is an example of encapsulation\n",
    "Encapsulation is protective measure:\n",
    "    our stomatic is better example of encapsulation"
   ]
  },
  {
   "cell_type": "code",
   "execution_count": null,
   "metadata": {
    "collapsed": true
   },
   "outputs": [],
   "source": [
    "Abstraction:Hiding unnessary data from the users"
   ]
  },
  {
   "cell_type": "code",
   "execution_count": 4,
   "metadata": {},
   "outputs": [
    {
     "name": "stdout",
     "output_type": "stream",
     "text": [
      "1001\n",
      "srinu\n",
      "78999\n",
      "150000\n",
      "150000\n"
     ]
    }
   ],
   "source": [
    "class Bank:\n",
    "    def __init__(self):\n",
    "        self.accno=1001\n",
    "        self.name='srinu'\n",
    "        self.bal=78999\n",
    "        #self.loan=150000 \n",
    "        self.__loan=150000 \n",
    "    def dispaly_to_clerk(self):\n",
    "        print('Account=',self.accno)\n",
    "        print('Name=',self.name)\n",
    "        print('bal=',self.bal)\n",
    "        \n",
    "b=Bank()\n",
    "print(b.accno)\n",
    "print(b.name)\n",
    "print(b.bal)\n",
    "print(b.loan)\n",
    "print(b._Bank__loan)#Name mangling\n",
    "#Name Mangling is a technique of writing the variable name differently to access the abstracted variable.\n",
    "# Syantx => obj._Classsname__varname"
   ]
  },
  {
   "cell_type": "code",
   "execution_count": null,
   "metadata": {
    "collapsed": true
   },
   "outputs": [],
   "source": []
  },
  {
   "cell_type": "code",
   "execution_count": null,
   "metadata": {
    "collapsed": true
   },
   "outputs": [],
   "source": []
  },
  {
   "cell_type": "code",
   "execution_count": null,
   "metadata": {
    "collapsed": true
   },
   "outputs": [],
   "source": []
  },
  {
   "cell_type": "code",
   "execution_count": null,
   "metadata": {
    "collapsed": true
   },
   "outputs": [],
   "source": []
  },
  {
   "cell_type": "code",
   "execution_count": null,
   "metadata": {
    "collapsed": true
   },
   "outputs": [],
   "source": []
  },
  {
   "cell_type": "code",
   "execution_count": null,
   "metadata": {
    "collapsed": true
   },
   "outputs": [],
   "source": []
  }
 ],
 "metadata": {
  "kernelspec": {
   "display_name": "Python 3",
   "language": "python",
   "name": "python3"
  },
  "language_info": {
   "codemirror_mode": {
    "name": "ipython",
    "version": 3
   },
   "file_extension": ".py",
   "mimetype": "text/x-python",
   "name": "python",
   "nbconvert_exporter": "python",
   "pygments_lexer": "ipython3",
   "version": "3.6.3"
  }
 },
 "nbformat": 4,
 "nbformat_minor": 2
}
