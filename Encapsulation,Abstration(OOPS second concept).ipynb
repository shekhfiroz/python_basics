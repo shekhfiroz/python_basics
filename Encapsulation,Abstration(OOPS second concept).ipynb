{
 "cells": [
  {
   "cell_type": "code",
   "execution_count": null,
   "metadata": {
    "collapsed": true
   },
   "outputs": [],
   "source": [
    "#Encapsulation concept\n",
    "Encapsulatation :Bundling up of data and methods into the same unit.\n",
    " example:class is an example of encapsulation\n",
    "Encapsulation is protective measure:\n",
    "    our stomach is better example of encapsulation"
   ]
  },
  {
   "cell_type": "code",
   "execution_count": null,
   "metadata": {
    "collapsed": true
   },
   "outputs": [],
   "source": [
    "Abstraction:Hiding unnessary data from the users"
   ]
  },
  {
   "cell_type": "code",
   "execution_count": 4,
   "metadata": {},
   "outputs": [
    {
     "name": "stdout",
     "output_type": "stream",
     "text": [
      "1001\n",
      "srinu\n",
      "78999\n",
      "150000\n",
      "150000\n"
     ]
    }
   ],
   "source": [
    "class Bank:\n",
    "    def __init__(self):\n",
    "        self.accno=1001\n",
    "        self.name='srinu'\n",
    "        self.bal=78999\n",
    "        #self.loan=150000 \n",
    "        self.__loan=150000 \n",
    "    def dispaly_to_clerk(self):\n",
    "        print('Account=',self.accno)\n",
    "        print('Name=',self.name)\n",
    "        print('bal=',self.bal)\n",
    "        \n",
    "b=Bank()\n",
    "print(b.accno)\n",
    "print(b.name)\n",
    "print(b.bal)\n",
    "print(b.loan)\n",
    "print(b._Bank__loan)#Name mangling\n",
    "#Name Mangling is a technique of writing the variable name differently to access the abstracted variable.\n",
    "# Syantx => obj._Classsname__varname"
   ]
  },
  {
   "cell_type": "code",
   "execution_count": null,
   "metadata": {
    "collapsed": true
   },
   "outputs": [],
   "source": [
    "#Inheritance:\n",
    "Producing new classes from already existing classes such that all the features\n",
    "of the existing classes will be available to the newly created classes.\n",
    "The already existing class->super class or base class\n",
    "the newly created class-> sub class or derived class\n",
    "\n",
    "Syntax:class Subclass(Superclass):\n",
    "        body of sub class"
   ]
  },
  {
   "cell_type": "code",
   "execution_count": 3,
   "metadata": {
    "collapsed": true
   },
   "outputs": [],
   "source": [
    "#Demo of py\n",
    "class Teacher:\n",
    "    def setId(self,id):\n",
    "        self.id=id\n",
    "    def getId(self):\n",
    "        return self.id\n",
    "    \n",
    "    def setName(self,name):\n",
    "        self.name=name\n",
    "    def getName(self):\n",
    "        return self.name\n",
    "    \n",
    "    def setAddress(self,addr):\n",
    "        self.addr=addr\n",
    "    def getAddress(self):\n",
    "        return self.addr\n",
    "    \n",
    "    def setSal(self,sal):\n",
    "        self.sal=sal\n",
    "    def getSal(self):\n",
    "        return self.sal\n",
    "        "
   ]
  },
  {
   "cell_type": "code",
   "execution_count": 4,
   "metadata": {},
   "outputs": [
    {
     "name": "stdout",
     "output_type": "stream",
     "text": [
      "ID= 10\n",
      "NAME= shekh\n",
      "ADDRESS= 1-A,Ameerpet,Hyderbad\n",
      "SALARY= 100000\n"
     ]
    }
   ],
   "source": [
    "#Using the teacher class\n",
    "from Teacher import Teacher\n",
    "t=Teacher()\n",
    "t.setId(10)\n",
    "t.setName(\"shekh\")\n",
    "t.setAddress('1-A,Ameerpet,Hyderbad')\n",
    "t.setSal(100000)\n",
    "\n",
    "print(\"ID=\",t.getId())\n",
    "print(\"NAME=\",t.getName())\n",
    "print(\"ADDRESS=\",t.getAddress())\n",
    "print(\"SALARY=\",t.getSal())"
   ]
  },
  {
   "cell_type": "code",
   "execution_count": 6,
   "metadata": {
    "collapsed": true
   },
   "outputs": [],
   "source": [
    "#inherite code from teacher to student\n",
    "from Teacher import Teacher\n",
    "class inheriteTeachertoStudent(Teacher):\n",
    "    def setMarks(self,marks):\n",
    "        self.marks=marks\n",
    "    def getMarks(self):\n",
    "        return marks\n"
   ]
  },
  {
   "cell_type": "code",
   "execution_count": null,
   "metadata": {
    "collapsed": true
   },
   "outputs": [],
   "source": []
  },
  {
   "cell_type": "code",
   "execution_count": null,
   "metadata": {
    "collapsed": true
   },
   "outputs": [],
   "source": [
    "\"\"\"\"Programmers productivity is increased.\n",
    "productivity =code delivered\n",
    "it improves overall productivity company\"\"\"\"\n",
    "#6 month ->2 200 cr ->50 cr\n",
    "          -> 600 cr ->150 cr\n",
    " ------------------------------------------                   \n",
    "                       100 cr extra profit\n",
    " ------------------------------------------"
   ]
  }
 ],
 "metadata": {
  "kernelspec": {
   "display_name": "Python 3",
   "language": "python",
   "name": "python3"
  },
  "language_info": {
   "codemirror_mode": {
    "name": "ipython",
    "version": 3
   },
   "file_extension": ".py",
   "mimetype": "text/x-python",
   "name": "python",
   "nbconvert_exporter": "python",
   "pygments_lexer": "ipython3",
   "version": "3.6.3"
  }
 },
 "nbformat": 4,
 "nbformat_minor": 2
}
