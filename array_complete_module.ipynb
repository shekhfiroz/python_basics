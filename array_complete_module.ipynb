{
 "cells": [
  {
   "cell_type": "code",
   "execution_count": null,
   "metadata": {
    "collapsed": true
   },
   "outputs": [],
   "source": [
    "\"\"\"array-> array()--> declaration syntax\n",
    "numpy->install\n",
    "An Array represents a group of elements of same data type.\n",
    "Single Dimensional Array(1D Array):\n",
    "a single row or single Col of elements.\n",
    "\n",
    "Ex.marks obtained by student in 5 subjects.\n",
    "50,51,53,55\n",
    "or 50,\n",
    "51,\n",
    "52,\n",
    "53,\n",
    "54,\n",
    "\n",
    "\"\"\""
   ]
  },
  {
   "cell_type": "code",
   "execution_count": null,
   "metadata": {
    "collapsed": true
   },
   "outputs": [],
   "source": [
    "#Using Arrray function\n",
    "lst=[10,20,30,48,58,65]\n",
    "type(lst)\n",
    "import numpy as np\n",
    "a=np.array(lst)\n",
    "print(type(a))\n",
    "print(a)\n",
    "for i in a:print(i)\n"
   ]
  },
  {
   "cell_type": "code",
   "execution_count": null,
   "metadata": {},
   "outputs": [],
   "source": [
    "#Array example Using String\n",
    "import numpy \n",
    "b =numpy.array([2.3,4.3,5.4,6.4,7.8,9.8])\n",
    "print(b)\n",
    "\n",
    "myarray=numpy.array(['firoz','python','heloo'])\n",
    "myarray\n",
    "for i in myarray:\n",
    "    print(i)"
   ]
  },
  {
   "cell_type": "code",
   "execution_count": null,
   "metadata": {
    "collapsed": true
   },
   "outputs": [],
   "source": [
    "#passing the direct string to array\n"
   ]
  },
  {
   "cell_type": "code",
   "execution_count": null,
   "metadata": {
    "collapsed": true
   },
   "outputs": [],
   "source": [
    "#2)using linspace() function to create array\n",
    "\"\"\" \n",
    "To divide a range between some points.\n",
    "linspace(s,e,nos of division i.e 5 parts)\n",
    "#both the extreme ands are included\n",
    "\"\"\"\n",
    "from numpy import *\n",
    "arr =linspace(0,100,100)\n",
    "print(arr)\n",
    "for i in arr:print(i)"
   ]
  },
  {
   "cell_type": "code",
   "execution_count": null,
   "metadata": {},
   "outputs": [],
   "source": [
    "#3) array by using logspace function \n",
    "arr1=logspace(1,100,5)\n",
    "print(arr1)"
   ]
  },
  {
   "cell_type": "code",
   "execution_count": null,
   "metadata": {},
   "outputs": [],
   "source": [
    "#3) Array range function i.e arange\n",
    "\"\"\"\n",
    "arange(5,10,2)# 2 is step size it can be positive or negative\n",
    "\n",
    "\"\"\"\n",
    "arr2=arange(10,20,3)\n",
    "print(arr2)\n",
    "for i in arr2:\n",
    "    print(i)"
   ]
  },
  {
   "cell_type": "code",
   "execution_count": null,
   "metadata": {
    "collapsed": true
   },
   "outputs": [],
   "source": [
    "arr=zeros(6,int)\n",
    "arr1=zeros(6)\n",
    "print(arr)\n",
    "print(arr1)#default data type is float"
   ]
  },
  {
   "cell_type": "code",
   "execution_count": null,
   "metadata": {
    "collapsed": true
   },
   "outputs": [],
   "source": [
    "#operation on array\n",
    "from numpy import *\n",
    "arr=array([10,40,15,25,20])\n",
    "arr_result=arr*5\n",
    "print(arr_result)\n",
    "substr=arr_result-10\n",
    "print(substr)\n",
    "\n",
    "\n",
    "#concatination in array\n",
    "arr1=array([100,89,78])\n",
    "x=concatenate([arr,arr1]) \n",
    "print(x)"
   ]
  },
  {
   "cell_type": "code",
   "execution_count": null,
   "metadata": {},
   "outputs": [],
   "source": [
    "#square of the number\n",
    "array_num=array([10,20,45,6,78,90])\n",
    "array_num\n",
    "sort(array_num)\n",
    "\n",
    "#x=sum(array_num)\n",
    "#sqrt(x)\n",
    "n=argmin(array_num)\n",
    "print(n)\n",
    "#argmin()\n"
   ]
  },
  {
   "cell_type": "code",
   "execution_count": null,
   "metadata": {
    "collapsed": true
   },
   "outputs": [],
   "source": [
    "#Alias in the array\n",
    "from numpy import *\n",
    "a=array([10,20,30,60])\n",
    "b=a\n",
    "print(a)\n",
    "print(b)\n",
    "a[3]\n",
    "a[0]=88# change the array element\n"
   ]
  },
  {
   "cell_type": "code",
   "execution_count": null,
   "metadata": {},
   "outputs": [],
   "source": [
    "\"\"\"\n",
    "Hw to create the view of an array will be usefull in creating mirror \n",
    "servers ex flipkar or any big website it can be done by view() it is \n",
    "also called  shallow copydeep copy:change in one array will not effect in  other array\n",
    "\"\"\"\n",
    "from numpy import *\n",
    "a=[10,23,4,20,7,-3,4,-5,-34,23]\n",
    "print(a)\n",
    "c=a.copy()#Deep copy\n",
    "for i in c:\n",
    "    print(i,end=' ')\n"
   ]
  },
  {
   "cell_type": "code",
   "execution_count": null,
   "metadata": {
    "collapsed": true
   },
   "outputs": [],
   "source": [
    "#Shallow Copy Example"
   ]
  },
  {
   "cell_type": "code",
   "execution_count": null,
   "metadata": {
    "collapsed": true
   },
   "outputs": [],
   "source": []
  },
  {
   "cell_type": "code",
   "execution_count": null,
   "metadata": {},
   "outputs": [],
   "source": [
    "from numpy import *\n",
    "arr=array([3,4,5,6,7,8,2,])\n",
    "print(arr)\n",
    "print(arr.ndim)\n",
    "arr.shape"
   ]
  },
  {
   "cell_type": "code",
   "execution_count": null,
   "metadata": {},
   "outputs": [],
   "source": [
    "#2 d array \n",
    "\n",
    "arr1=array([[1,2,3,4,5],[4,5,6,73,4]])\n",
    "print(arr1)\n",
    "print(arr1.ndim)\n",
    "arr1.shape #shape will give number of rows and columns\n",
    "arr1.shape=(2,2)"
   ]
  },
  {
   "cell_type": "code",
   "execution_count": null,
   "metadata": {},
   "outputs": [],
   "source": [
    "x=array([1,2,3,4,5,6])\n",
    "x.itemsize\n",
    "\n",
    "arr.nbytes#\n",
    "arr.dtype#"
   ]
  },
  {
   "cell_type": "code",
   "execution_count": null,
   "metadata": {},
   "outputs": [],
   "source": [
    "#reshape() method\n",
    "from numpy import *\n",
    "arr =arange(10)\n",
    "print(arr)\n",
    "arr=arange(9)\n",
    "arr\n",
    "arr.reshape(3,3)#use to create 1d array to 2 dimensional\n"
   ]
  },
  {
   "cell_type": "code",
   "execution_count": null,
   "metadata": {},
   "outputs": [],
   "source": [
    "print(arr)\n",
    "arr2=arr.reshape(3,3)\n",
    "print(arr2)\n",
    "\n",
    "x=arr2.flatten() #flatten() will convert 2d array to 1 d array\n",
    "print(x)\n"
   ]
  },
  {
   "cell_type": "code",
   "execution_count": null,
   "metadata": {
    "collapsed": true
   },
   "outputs": [],
   "source": [
    "\"\"\"\n",
    "A 2D array represents more than 1 row and more than 1 col\n",
    "ex:marks obtained by group of students in 5 subjects.\n",
    "40,42,43,44,45,46\n",
    "54,55,56,76,45,47\n",
    "72,75,78,90,65,45\n",
    "A 2 Dimensional is combination of several 1 Dimensional array\n",
    "\"\"\""
   ]
  },
  {
   "cell_type": "code",
   "execution_count": null,
   "metadata": {},
   "outputs": [],
   "source": [
    "\"\"\"\n",
    "How to crate 2D array in python\n",
    "\n",
    "\n",
    "\"\"\"\n",
    "from numpy import *\n",
    "arr=array([[1,2,3,4],[5,6,7],[7,8,9,0]])\n",
    "print(arr)"
   ]
  },
  {
   "cell_type": "code",
   "execution_count": null,
   "metadata": {},
   "outputs": [],
   "source": [
    "\"\"\"Write a python programme to display to display 2 D array in the form of the matrix\"\"\"\n",
    "\n",
    "from numpy import *\n",
    "arr=array([[1,2,3,4],[5,6,7],[7,8,9,0]])\n",
    "#display row-wise\n",
    "for i in range(len(arr)):\n",
    "    print(arr[i])\n",
    "##display element-wise and in matrix form using for loop\n",
    "for i in range(len(arr)):\n",
    "    for j in range(len(arr[i])):\n",
    "        print(arr[i][j], end=' ')\n",
    "    print()"
   ]
  },
  {
   "cell_type": "code",
   "execution_count": null,
   "metadata": {},
   "outputs": [],
   "source": [
    "##\n",
    "arr = ones((2,3))\n",
    "print(arr)\n",
    "\n",
    "arr1=zeros((2,3),dtype=int)\n",
    "print(arr1)"
   ]
  },
  {
   "cell_type": "code",
   "execution_count": null,
   "metadata": {},
   "outputs": [],
   "source": [
    "#eye() willl create a 2 d function \n",
    "arr =eye(4,dtype=int)\n",
    "print(arr)"
   ]
  },
  {
   "cell_type": "code",
   "execution_count": null,
   "metadata": {},
   "outputs": [],
   "source": [
    "#Indexing and slicing is possible in 2D arrays\n",
    "\n",
    "from numpy import *\n",
    "arr =array([[1,2,3,4],[5,6,7,1],[4,5,6,7]])\n",
    "print(arr)\n",
    "print(arr[0]) #retervice o row\n",
    "print(arr[2])\n",
    "print(arr[0,0])\n",
    "print(arr[0,1])\n",
    "print(arr[0,3])"
   ]
  },
  {
   "cell_type": "code",
   "execution_count": null,
   "metadata": {
    "collapsed": true
   },
   "outputs": [],
   "source": [
    "#Slicing example in array\n",
    "\"\"\"\n",
    "    1 2 3 4\n",
    "    5 6 1 2 \n",
    "    1 0 3 2\n",
    "    \n",
    "arr[0:2,2:4]\n",
    "o/p: \n",
    "arr[1:3,0:3]\n",
    "\n",
    "o/p  5 6 1 \n",
    "     1 0 3 \n",
    "\"\"\""
   ]
  },
  {
   "cell_type": "code",
   "execution_count": null,
   "metadata": {},
   "outputs": [],
   "source": [
    "#How to convert 2D array to matrix\n",
    "m=matrix(arr)\n",
    "print(m)"
   ]
  },
  {
   "cell_type": "code",
   "execution_count": null,
   "metadata": {},
   "outputs": [],
   "source": [
    "# 2 Matix Multiplication programe\n",
    "from numpy import *\n",
    "a= array([[1,2,3,4,5],[6,7,8,9,0]])\n",
    "b=array([[1,0],[2,2],[3-1]])\n",
    "m1=matrix(a)\n",
    "m1=m1+10\n",
    "m2=matrix(b)\n",
    "print(m_out=m1*m2)"
   ]
  },
  {
   "cell_type": "code",
   "execution_count": null,
   "metadata": {},
   "outputs": [],
   "source": [
    "#Accept matrix elements form keyboard and display its Transpose\n",
    "\n",
    "from numpy import *\n",
    "r,c=[int(x) for x in input('Enter rows and cols:').split(',')]\n",
    "arr=zeros((r,c))\n",
    "for r in range(r):\n",
    "    arr[i]=[flot(x) for x in input().split()]\n",
    "    m=matrix(arr)\n",
    "    print('Transpose=')\n",
    "    print(m.transpose())"
   ]
  },
  {
   "cell_type": "code",
   "execution_count": null,
   "metadata": {
    "collapsed": true
   },
   "outputs": [],
   "source": []
  }
 ],
 "metadata": {
  "kernelspec": {
   "display_name": "Python 3",
   "language": "python",
   "name": "python3"
  },
  "language_info": {
   "codemirror_mode": {
    "name": "ipython",
    "version": 3
   },
   "file_extension": ".py",
   "mimetype": "text/x-python",
   "name": "python",
   "nbconvert_exporter": "python",
   "pygments_lexer": "ipython3",
   "version": "3.6.3"
  }
 },
 "nbformat": 4,
 "nbformat_minor": 2
}
