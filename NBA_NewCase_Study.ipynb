{
 "cells": [
  {
   "cell_type": "code",
   "execution_count": 1,
   "metadata": {
    "collapsed": true
   },
   "outputs": [],
   "source": [
    "import numpy as np\n",
    "import pandas as pd\n",
    "Seasons = [\"2005\",\"2006\",\"2007\",\"2008\",\"2009\",\"2010\",\"2011\",\"2012\",\"2013\",\"2014\"]\n",
    "Sdict ={\"2005\":0,\"2006\":1,\"2007\":2,\"2008\":3,\"2009\":4,\"2010\":5,\"2011\":6,\"2012\":7,\"2013\":8,\"2014\":9}\n",
    "#Players list\n",
    "Players =[\"KobeBryant\",\"JoeJohnson\",\"LeBronJames\",\"CarmeloAnthony\",\"DwightHoward\",\"ChrisBosh\",\n",
    "          \"ChrisPaul\",\"KevinDurant\",\"DerrickRose\",\"DwayneWade\"]\n",
    "\n",
    "Pdict ={\"KobeBryant\":0,\"JoeJohnson\":1,\"LeBronJames\":2,\"CarmeloAnthony\":3,\"DwightHoward\":4,\"ChrisBosh\":5,\n",
    "        \"ChrisPaul\":6,\"KevinDurant\":7,\"DerrickRose\":8,\"DwayneWade\":9}"
   ]
  },
  {
   "cell_type": "code",
   "execution_count": 2,
   "metadata": {
    "collapsed": true
   },
   "outputs": [],
   "source": [
    "#Salaies till 12 months\n",
    "KobeBryant_Salary =[15946875,17718750,19490625,21262500,23034375,24806250,25244493,27849149,30453805,23500000]\n",
    "JoeJohnson_Salary =[12000000,12744189,13488377,14232567,14976754,16324500,18038573,19752645,21466718,23180790]\n",
    "LeBronJames_Salary =[4621800,5828090,13041250,14410581,15779912,14500000,16022500,17545000,19067500,20644400]\n",
    "CarmeloAnthony_Salary=[3713640,4694041,13041250,14410581,15779912,17149243,18518574,19450000,22407474,22458000]\n",
    "DwightHoward_Salary =[4493160,4806720,6061274,13758000,15202590,16647180,18091770,19536360,20513178,21436271]\n",
    "ChrisBosh_Salary =[3348000,4235220,12455000,14410581,15779912,14500000,16022500,17545000,19067500,20644400]\n",
    "ChrisPaul_Salary =[3144240,3380160,3615960,4574189,13520500,14940153,16359805,17779458,18668431,20068563]\n",
    "KevinDurant_Salary =[0,0,4171200,4484040,4796880,6053663,15506632,16669630,17832627,18995624]\n",
    "DerrickRose_Salary = [0,0,0,4822800,5184480,5546160,6993708,16402500,17632688,18862875]\n",
    "DwayneWade_Salary =[3031920,3841443,13041250,14410581,15779912,14200000,15691000,17182000,18673000,15000000]\n"
   ]
  },
  {
   "cell_type": "code",
   "execution_count": 3,
   "metadata": {},
   "outputs": [
    {
     "data": {
      "text/plain": [
       "array([[15946875, 17718750, 19490625, 21262500, 23034375, 24806250,\n",
       "        25244493, 27849149, 30453805, 23500000],\n",
       "       [12000000, 12744189, 13488377, 14232567, 14976754, 16324500,\n",
       "        18038573, 19752645, 21466718, 23180790],\n",
       "       [ 4621800,  5828090, 13041250, 14410581, 15779912, 14500000,\n",
       "        16022500, 17545000, 19067500, 20644400],\n",
       "       [ 3713640,  4694041, 13041250, 14410581, 15779912, 17149243,\n",
       "        18518574, 19450000, 22407474, 22458000],\n",
       "       [ 4493160,  4806720,  6061274, 13758000, 15202590, 16647180,\n",
       "        18091770, 19536360, 20513178, 21436271],\n",
       "       [ 3348000,  4235220, 12455000, 14410581, 15779912, 14500000,\n",
       "        16022500, 17545000, 19067500, 20644400],\n",
       "       [ 3144240,  3380160,  3615960,  4574189, 13520500, 14940153,\n",
       "        16359805, 17779458, 18668431, 20068563],\n",
       "       [       0,        0,  4171200,  4484040,  4796880,  6053663,\n",
       "        15506632, 16669630, 17832627, 18995624],\n",
       "       [       0,        0,        0,  4822800,  5184480,  5546160,\n",
       "         6993708, 16402500, 17632688, 18862875],\n",
       "       [ 3031920,  3841443, 13041250, 14410581, 15779912, 14200000,\n",
       "        15691000, 17182000, 18673000, 15000000]])"
      ]
     },
     "execution_count": 3,
     "metadata": {},
     "output_type": "execute_result"
    }
   ],
   "source": [
    "import numpy as np\n",
    "#Matrix\n",
    "Salary = np.array([KobeBryant_Salary, JoeJohnson_Salary, LeBronJames_Salary,\n",
    "CarmeloAnthony_Salary, DwightHoward_Salary, ChrisBosh_Salary, ChrisPaul_Salary,\n",
    "KevinDurant_Salary, DerrickRose_Salary, DwayneWade_Salary])\n",
    "Salary\n"
   ]
  },
  {
   "cell_type": "code",
   "execution_count": 4,
   "metadata": {
    "collapsed": true
   },
   "outputs": [],
   "source": [
    "#Number of Games played by player\n",
    "\n",
    "KobeBryant_G = [80,77,82,82,73,82,58,78,6,35]\n",
    "JoeJohnson_G = [82,57,82,79,76,72,60,72,79,80]\n",
    "LeBronJames_G = [79,78,75,81,76,79,62,76,77,69]\n",
    "CarmeloAnthony_G = [80,65,77,66,69,77,55,67,77,40]\n",
    "DwightHoward_G = [82,82,82,79,82,78,54,76,71,41]\n",
    "ChrisBosh_G = [70,69,67,77,70,77,57,74,79,44]\n",
    "ChrisPaul_G = [78,64,80,78,45,80,60,70,62,82]\n",
    "KevinDurant_G = [35,35,80,74,82,78,66,81,81,27]\n",
    "DerrickRose_G = [40,40,40,81,78,81,39,0,10,51]\n",
    "DwayneWade_G = [75,51,51,79,77,76,49,69,54,62]"
   ]
  },
  {
   "cell_type": "code",
   "execution_count": 5,
   "metadata": {},
   "outputs": [
    {
     "name": "stdout",
     "output_type": "stream",
     "text": [
      "[[80 77 82 82 73 82 58 78  6 35]\n",
      " [82 57 82 79 76 72 60 72 79 80]\n",
      " [79 78 75 81 76 79 62 76 77 69]\n",
      " [80 65 77 66 69 77 55 67 77 40]\n",
      " [82 82 82 79 82 78 54 76 71 41]\n",
      " [70 69 67 77 70 77 57 74 79 44]\n",
      " [78 64 80 78 45 80 60 70 62 82]\n",
      " [35 35 80 74 82 78 66 81 81 27]\n",
      " [40 40 40 81 78 81 39  0 10 51]\n",
      " [75 51 51 79 77 76 49 69 54 62]]\n"
     ]
    }
   ],
   "source": [
    "#Array of games played\n",
    "\n",
    "Games = np.array([KobeBryant_G, JoeJohnson_G, LeBronJames_G, CarmeloAnthony_G,\n",
    "                  DwightHoward_G, ChrisBosh_G, ChrisPaul_G, KevinDurant_G, DerrickRose_G, DwayneWade_G])\n",
    "print(Games)"
   ]
  },
  {
   "cell_type": "code",
   "execution_count": 6,
   "metadata": {
    "collapsed": true
   },
   "outputs": [],
   "source": [
    "#Minutes Played by players\n",
    "KobeBryant_MP = [3277,3140,3192,2960,2835,2779,2232,3013,177,1207]\n",
    "JoeJohnson_MP = [3340,2359,3343,3124,2886,2554,2127,2642,2575,2791]\n",
    "LeBronJames_MP = [3361,3190,3027,3054,2966,3063,2326,2877,2902,2493]\n",
    "CarmeloAnthony_MP = [2941,2486,2806,2277,2634,2751,1876,2482,2982,1428]\n",
    "DwightHoward_MP = [3021,3023,3088,2821,2843,2935,2070,2722,2396,1223]\n",
    "ChrisBosh_MP = [2751,2658,2425,2928,2526,2795,2007,2454,2531,1556]\n",
    "ChrisPaul_MP = [2808,2353,3006,3002,1712,2880,2181,2335,2171,2857]\n",
    "KevinDurant_MP = [1255,1255,2768,2885,3239,3038,2546,3119,3122,913]\n",
    "DerrickRose_MP = [1168,1168,1168,3000,2871,3026,1375,0,311,1530]\n",
    "DwayneWade_MP = [2892,1931,1954,3048,2792,2823,1625,2391,1775,1971]"
   ]
  },
  {
   "cell_type": "code",
   "execution_count": 7,
   "metadata": {},
   "outputs": [
    {
     "data": {
      "text/plain": [
       "array([[3277, 3140, 3192, 2960, 2835, 2779, 2232, 3013,  177, 1207],\n",
       "       [3340, 2359, 3343, 3124, 2886, 2554, 2127, 2642, 2575, 2791],\n",
       "       [3361, 3190, 3027, 3054, 2966, 3063, 2326, 2877, 2902, 2493],\n",
       "       [2941, 2486, 2806, 2277, 2634, 2751, 1876, 2482, 2982, 1428],\n",
       "       [3021, 3023, 3088, 2821, 2843, 2935, 2070, 2722, 2396, 1223],\n",
       "       [2751, 2658, 2425, 2928, 2526, 2795, 2007, 2454, 2531, 1556],\n",
       "       [2808, 2353, 3006, 3002, 1712, 2880, 2181, 2335, 2171, 2857],\n",
       "       [1255, 1255, 2768, 2885, 3239, 3038, 2546, 3119, 3122,  913],\n",
       "       [1168, 1168, 1168, 3000, 2871, 3026, 1375,    0,  311, 1530],\n",
       "       [2892, 1931, 1954, 3048, 2792, 2823, 1625, 2391, 1775, 1971]])"
      ]
     },
     "execution_count": 7,
     "metadata": {},
     "output_type": "execute_result"
    }
   ],
   "source": [
    "#Matrix\n",
    "MinutesPlayed = np.array([KobeBryant_MP, JoeJohnson_MP, LeBronJames_MP,\n",
    "CarmeloAnthony_MP, DwightHoward_MP, ChrisBosh_MP, ChrisPaul_MP, KevinDurant_MP,\n",
    "DerrickRose_MP, DwayneWade_MP])\n",
    "MinutesPlayed"
   ]
  },
  {
   "cell_type": "code",
   "execution_count": 8,
   "metadata": {
    "collapsed": true
   },
   "outputs": [],
   "source": [
    "#Field Goals\n",
    "KobeBryant_FG = [978,813,775,800,716,740,574,738,31,266]\n",
    "JoeJohnson_FG = [632,536,647,620,635,514,423,445,462,446]\n",
    "LeBronJames_FG = [875,772,794,789,768,758,621,765,767,624]\n",
    "CarmeloAnthony_FG = [756,691,728,535,688,684,441,669,743,358]\n",
    "DwightHoward_FG = [468,526,583,560,510,619,416,470,473,251]\n",
    "ChrisBosh_FG = [549,543,507,615,600,524,393,485,492,343]\n",
    "ChrisPaul_FG = [407,381,630,631,314,430,425,412,406,568]\n",
    "KevinDurant_FG = [306,306,587,661,794,711,643,731,849,238]\n",
    "DerrickRose_FG = [208,208,208,574,672,711,302,0,58,338]\n",
    "DwayneWade_FG = [699,472,439,854,719,692,416,569,415,509]"
   ]
  },
  {
   "cell_type": "code",
   "execution_count": 9,
   "metadata": {},
   "outputs": [
    {
     "data": {
      "text/plain": [
       "array([[978, 813, 775, 800, 716, 740, 574, 738,  31, 266],\n",
       "       [632, 536, 647, 620, 635, 514, 423, 445, 462, 446],\n",
       "       [875, 772, 794, 789, 768, 758, 621, 765, 767, 624],\n",
       "       [756, 691, 728, 535, 688, 684, 441, 669, 743, 358],\n",
       "       [468, 526, 583, 560, 510, 619, 416, 470, 473, 251],\n",
       "       [549, 543, 507, 615, 600, 524, 393, 485, 492, 343],\n",
       "       [407, 381, 630, 631, 314, 430, 425, 412, 406, 568],\n",
       "       [306, 306, 587, 661, 794, 711, 643, 731, 849, 238],\n",
       "       [208, 208, 208, 574, 672, 711, 302,   0,  58, 338],\n",
       "       [699, 472, 439, 854, 719, 692, 416, 569, 415, 509]])"
      ]
     },
     "execution_count": 9,
     "metadata": {},
     "output_type": "execute_result"
    }
   ],
   "source": [
    "#Matrix\n",
    "FieldGoals = np.array([KobeBryant_FG, JoeJohnson_FG, LeBronJames_FG, CarmeloAnthony_FG,\n",
    "DwightHoward_FG, ChrisBosh_FG, ChrisPaul_FG, KevinDurant_FG, DerrickRose_FG,\n",
    "DwayneWade_FG])\n",
    "\n",
    "FieldGoals"
   ]
  },
  {
   "cell_type": "code",
   "execution_count": 10,
   "metadata": {
    "collapsed": true
   },
   "outputs": [],
   "source": [
    "#Field Goal Attempts\n",
    "KobeBryant_FGA = [2173,1757,1690,1712,1569,1639,1336,1595,73,713]\n",
    "JoeJohnson_FGA = [1395,1139,1497,1420,1386,1161,931,1052,1018,1025]\n",
    "LeBronJames_FGA = [1823,1621,1642,1613,1528,1485,1169,1354,1353,1279]\n",
    "CarmeloAnthony_FGA = [1572,1453,1481,1207,1502,1503,1025,1489,1643,806]\n",
    "DwightHoward_FGA = [881,873,974,979,834,1044,726,813,800,423]\n",
    "ChrisBosh_FGA = [1087,1094,1027,1263,1158,1056,807,907,953,745]\n",
    "ChrisPaul_FGA = [947,871,1291,1255,637,928,890,856,870,1170]\n",
    "KevinDurant_FGA = [647,647,1366,1390,1668,1538,1297,1433,1688,467]\n",
    "DerrickRose_FGA = [436,436,436,1208,1373,1597,695,0,164,835]\n",
    "DwayneWade_FGA = [1413,962,937,1739,1511,1384,837,1093,761,1084]"
   ]
  },
  {
   "cell_type": "code",
   "execution_count": 11,
   "metadata": {},
   "outputs": [
    {
     "data": {
      "text/plain": [
       "array([[2173, 1757, 1690, 1712, 1569, 1639, 1336, 1595,   73,  713],\n",
       "       [1395, 1139, 1497, 1420, 1386, 1161,  931, 1052, 1018, 1025],\n",
       "       [1823, 1621, 1642, 1613, 1528, 1485, 1169, 1354, 1353, 1279],\n",
       "       [1572, 1453, 1481, 1207, 1502, 1503, 1025, 1489, 1643,  806],\n",
       "       [ 881,  873,  974,  979,  834, 1044,  726,  813,  800,  423],\n",
       "       [1087, 1094, 1027, 1263, 1158, 1056,  807,  907,  953,  745],\n",
       "       [ 947,  871, 1291, 1255,  637,  928,  890,  856,  870, 1170],\n",
       "       [ 647,  647, 1366, 1390, 1668, 1538, 1297, 1433, 1688,  467],\n",
       "       [ 436,  436,  436, 1208, 1373, 1597,  695,    0,  164,  835],\n",
       "       [1413,  962,  937, 1739, 1511, 1384,  837, 1093,  761, 1084]])"
      ]
     },
     "execution_count": 11,
     "metadata": {},
     "output_type": "execute_result"
    }
   ],
   "source": [
    "#Matrix\n",
    "import numpy as np\n",
    "FieldGoalAttempts = np.array([KobeBryant_FGA, JoeJohnson_FGA, LeBronJames_FGA,\n",
    "CarmeloAnthony_FGA, DwightHoward_FGA, ChrisBosh_FGA, ChrisPaul_FGA, KevinDurant_FGA,\n",
    "DerrickRose_FGA, DwayneWade_FGA])\n",
    "FieldGoalAttempts"
   ]
  },
  {
   "cell_type": "code",
   "execution_count": 12,
   "metadata": {
    "collapsed": true
   },
   "outputs": [],
   "source": [
    "#Score Points by player\n",
    "\n",
    "KobeBryant_PTS = [2832,2430,2323,2201,1970,2078,1616,2133,83,782]\n",
    "JoeJohnson_PTS = [1653,1426,1779,1688,1619,1312,1129,1170,1245,1154]\n",
    "LeBronJames_PTS = [2478,2132,2250,2304,2258,2111,1683,2036,2089,1743]\n",
    "CarmeloAnthony_PTS = [2122,1881,1978,1504,1943,1970,1245,1920,2112,966]\n",
    "DwightHoward_PTS = [1292,1443,1695,1624,1503,1784,1113,1296,1297,646]\n",
    "ChrisBosh_PTS = [1572,1561,1496,1746,1678,1438,1025,1232,1281,928]\n",
    "ChrisPaul_PTS = [1258,1104,1684,1781,841,1268,1189,1186,1185,1564]\n",
    "KevinDurant_PTS = [903,903,1624,1871,2472,2161,1850,2280,2593,686]\n",
    "DerrickRose_PTS = [597,597,597,1361,1619,2026,852,0,159,904]\n",
    "DwayneWade_PTS = [2040,1397,1254,2386,2045,1941,1082,1463,1028,1331]"
   ]
  },
  {
   "cell_type": "code",
   "execution_count": 13,
   "metadata": {},
   "outputs": [
    {
     "data": {
      "text/plain": [
       "array([[2832, 2430, 2323, 2201, 1970, 2078, 1616, 2133,   83,  782],\n",
       "       [1653, 1426, 1779, 1688, 1619, 1312, 1129, 1170, 1245, 1154],\n",
       "       [2478, 2132, 2250, 2304, 2258, 2111, 1683, 2036, 2089, 1743],\n",
       "       [2122, 1881, 1978, 1504, 1943, 1970, 1245, 1920, 2112,  966],\n",
       "       [1292, 1443, 1695, 1624, 1503, 1784, 1113, 1296, 1297,  646],\n",
       "       [1572, 1561, 1496, 1746, 1678, 1438, 1025, 1232, 1281,  928],\n",
       "       [1258, 1104, 1684, 1781,  841, 1268, 1189, 1186, 1185, 1564],\n",
       "       [ 903,  903, 1624, 1871, 2472, 2161, 1850, 2280, 2593,  686],\n",
       "       [ 597,  597,  597, 1361, 1619, 2026,  852,    0,  159,  904],\n",
       "       [2040, 1397, 1254, 2386, 2045, 1941, 1082, 1463, 1028, 1331]])"
      ]
     },
     "execution_count": 13,
     "metadata": {},
     "output_type": "execute_result"
    }
   ],
   "source": [
    "#Matrix of points scored by players\n",
    "Points = np.array([KobeBryant_PTS, JoeJohnson_PTS, LeBronJames_PTS, CarmeloAnthony_PTS,\n",
    "DwightHoward_PTS, ChrisBosh_PTS, ChrisPaul_PTS, KevinDurant_PTS, DerrickRose_PTS,DwayneWade_PTS])\n",
    "Points"
   ]
  },
  {
   "cell_type": "code",
   "execution_count": 14,
   "metadata": {},
   "outputs": [
    {
     "name": "stdout",
     "output_type": "stream",
     "text": [
      "[ 0  1  2  3  4  5  6  7  8  9 10 11 12 13 14 15 16 17 18 19]\n",
      "[[ 0  1  2  3]\n",
      " [ 4  5  6  7]\n",
      " [ 8  9 10 11]\n",
      " [12 13 14 15]\n",
      " [16 17 18 19]]\n",
      "[[ 0  5 10 15]\n",
      " [ 1  6 11 16]\n",
      " [ 2  7 12 17]\n",
      " [ 3  8 13 18]\n",
      " [ 4  9 14 19]]\n",
      "[['I' 'am' 'happy']\n",
      " ['What' 'a' 'day']\n",
      " ['1' '2' '3']]\n"
     ]
    }
   ],
   "source": [
    "import numpy as np\n",
    "mydata = np.arange(0,20)\n",
    "print(mydata)\n",
    "\n",
    "reshape_data=np.reshape(mydata,(5,4))\n",
    "print(reshape_data)\n",
    "np.reshape(mydata,(5,4),order='C')\n",
    "MATR1 = np.reshape(mydata,(5,4),order='C') #C represtent programming of c index number\n",
    "MATR2 = np.reshape(mydata,(5,4),order='F') #Fortran  like index ordering\n",
    "print(MATR2)\n",
    "\n",
    "# In[24]:\n",
    "# get 10 again\n",
    "MATR2[0,2]\n",
    "r1 = ['I','am','happy']\n",
    "r2 = ['What','a','day']\n",
    "r3 = [1,2,3]\n",
    "[r1,r2,r3]\n",
    "#import numpy as np\n",
    "np.array([r1,r2,r3]) \n",
    "# #gives\n",
    "print(np.array([r1,r2,r3]))\n"
   ]
  },
  {
   "cell_type": "code",
   "execution_count": 15,
   "metadata": {},
   "outputs": [
    {
     "data": {
      "text/plain": [
       "array([[80, 77, 82, 82, 73, 82, 58, 78,  6, 35],\n",
       "       [82, 57, 82, 79, 76, 72, 60, 72, 79, 80],\n",
       "       [79, 78, 75, 81, 76, 79, 62, 76, 77, 69],\n",
       "       [80, 65, 77, 66, 69, 77, 55, 67, 77, 40],\n",
       "       [82, 82, 82, 79, 82, 78, 54, 76, 71, 41],\n",
       "       [70, 69, 67, 77, 70, 77, 57, 74, 79, 44],\n",
       "       [78, 64, 80, 78, 45, 80, 60, 70, 62, 82],\n",
       "       [35, 35, 80, 74, 82, 78, 66, 81, 81, 27],\n",
       "       [40, 40, 40, 81, 78, 81, 39,  0, 10, 51],\n",
       "       [75, 51, 51, 79, 77, 76, 49, 69, 54, 62]])"
      ]
     },
     "execution_count": 15,
     "metadata": {},
     "output_type": "execute_result"
    }
   ],
   "source": [
    "#Games ofGames[0] index vector\n",
    "Games"
   ]
  },
  {
   "cell_type": "code",
   "execution_count": 16,
   "metadata": {},
   "outputs": [
    {
     "data": {
      "text/plain": [
       "array([82, 57, 82, 79, 76, 72, 60, 72, 79, 80])"
      ]
     },
     "execution_count": 16,
     "metadata": {},
     "output_type": "execute_result"
    }
   ],
   "source": [
    "Games[1,]"
   ]
  },
  {
   "cell_type": "code",
   "execution_count": 17,
   "metadata": {},
   "outputs": [
    {
     "name": "stdout",
     "output_type": "stream",
     "text": [
      "[[ 0  1  2  3]\n",
      " [ 4  5  6  7]\n",
      " [ 8  9 10 11]\n",
      " [12 13 14 15]\n",
      " [16 17 18 19]]\n"
     ]
    }
   ],
   "source": [
    "import numpy as np\n",
    "np.array([])\n",
    "re_arrange=np.reshape(mydata,(5,4))\n",
    "print(re_arrange)\n"
   ]
  },
  {
   "cell_type": "code",
   "execution_count": 18,
   "metadata": {},
   "outputs": [
    {
     "name": "stdout",
     "output_type": "stream",
     "text": [
      "[[[ 0  1  2]\n",
      "  [ 3  4  5]]\n",
      "\n",
      " [[ 6  7  8]\n",
      "  [ 9 10 11]]\n",
      "\n",
      " [[12 13 14]\n",
      "  [15 16 17]]]\n",
      "[ 0  1  2  3  4  5  6  7  8  9 10 11 12 13 14 15 16 17]\n"
     ]
    }
   ],
   "source": [
    "#swapaxes(0,2) have to see swap axis\n",
    "a = np.arange(18)\n",
    "p=a.reshape(3,2,3)#.swapaxes(0,2)\n",
    "#p=a.reshape(6,1,3).swapaxes(0,2)\n",
    "#6 is a number of matrix to be formed rest is row and colomn respectively\n",
    "print(p)\n",
    "#print(\"hey wass up+\",p)\n",
    "#b = a.reshape(3,3,2).swapaxes(0,2)\n",
    "print(a)\n",
    "#print(b)"
   ]
  },
  {
   "cell_type": "code",
   "execution_count": null,
   "metadata": {
    "collapsed": true
   },
   "outputs": [],
   "source": []
  },
  {
   "cell_type": "code",
   "execution_count": 19,
   "metadata": {},
   "outputs": [
    {
     "name": "stdout",
     "output_type": "stream",
     "text": [
      "10\n"
     ]
    },
    {
     "data": {
      "text/plain": [
       "[['I', 'am', 'happy'], ['What', 'a', 'day'], [1, 2, 3]]"
      ]
     },
     "execution_count": 19,
     "metadata": {},
     "output_type": "execute_result"
    }
   ],
   "source": [
    "# get 10 again\n",
    "print(MATR2[0,2])\n",
    "r1 = ['I','am','happy']\n",
    "r2 = ['What','a','day']\n",
    "r3 = [1,2,3]\n",
    "[r1,r2,r3]"
   ]
  },
  {
   "cell_type": "code",
   "execution_count": 20,
   "metadata": {},
   "outputs": [
    {
     "name": "stdout",
     "output_type": "stream",
     "text": [
      "[['I' 'am' 'happy']\n",
      " ['What' 'a' 'day']\n",
      " ['1' '2' '3']]\n",
      "69\n",
      "69\n"
     ]
    }
   ],
   "source": [
    "import numpy as np\n",
    "np.array([r1,r2,r3]) #gives\n",
    "print(np.array([r1,r2,r3]))\n",
    "Games[0]\n",
    "# Games[0] #Games ofGames[1] #Games of\n",
    "# Games[2][9]\n",
    "print(Games[2][-1])\n",
    "# Games[2,-1]\n",
    "print(Games[2,9])\n",
    "# #here v have to know the position/index of the elements\n",
    "# print(Games[2][9])"
   ]
  },
  {
   "cell_type": "code",
   "execution_count": 21,
   "metadata": {},
   "outputs": [
    {
     "name": "stdout",
     "output_type": "stream",
     "text": [
      "[1258 1104 1684 1781  841 1268 1189 1186 1185 1564]\n",
      "0\n",
      "[80 77 82 82 73 82 58 78  6 35]\n"
     ]
    },
    {
     "data": {
      "text/plain": [
       "array([40, 40, 40, 81, 78, 81, 39,  0, 10, 51])"
      ]
     },
     "execution_count": 21,
     "metadata": {},
     "output_type": "execute_result"
    }
   ],
   "source": [
    "# of respective matrix and this is tedious\n",
    "Points\n",
    "print(Points[6])\n",
    "print(Pdict['KobeBryant'])\n",
    "print(Games[0])\n",
    "Pdict['DerrickRose']\n",
    "Games[8]\n",
    "Games[Pdict['DerrickRose']] \n",
    "# This is the row numberGames[Pdict['DerrickRose']] [7] \n",
    "# Here v r specifying the row and the col nums\n"
   ]
  },
  {
   "cell_type": "code",
   "execution_count": 22,
   "metadata": {},
   "outputs": [
    {
     "data": {
      "text/plain": [
       "array([1653, 1426, 1779, 1688, 1619, 1312, 1129, 1170, 1245, 1154])"
      ]
     },
     "execution_count": 22,
     "metadata": {},
     "output_type": "execute_result"
    }
   ],
   "source": [
    "# Why do we get this here, is there a problem\n",
    "# Games[Pdict['DerrickRose']] [Sdict['2012']]\n",
    "# Games[Pdict['KobeBryant']] [Sdict['2012']]\n",
    "# Points[Pdict['DerrickRose']] [Sdict['2012']]\n",
    "# Points[Pdict['KobeBryant']] [Sdict['2012']]\n",
    "# Points[Pdict['JoeJohnson']] [Sdict['2012']]\n",
    "Points[Pdict['JoeJohnson']]"
   ]
  },
  {
   "cell_type": "code",
   "execution_count": 23,
   "metadata": {},
   "outputs": [
    {
     "data": {
      "text/plain": [
       "2133"
      ]
     },
     "execution_count": 23,
     "metadata": {},
     "output_type": "execute_result"
    }
   ],
   "source": [
    "# Why do v get this here, is there a problem\n",
    "#print(Games[Pdict['DerrickRose']] [Sdict['2012']])\n",
    "#print(g)\n",
    "#Games[ Pdict['KobeBryant'],Sdict['2012'] ]\n",
    "#Points[Pdict['DerrickRose']] [Sdict['2012']]\n",
    "Points[Pdict['KobeBryant']] [Sdict['2012']]\n",
    "# Points[Pdict['JoeJohnson']] [Sdict['2012']]\n",
    "# Points[Pdict['JoeJohnson']]\n",
    "\n"
   ]
  },
  {
   "cell_type": "code",
   "execution_count": 24,
   "metadata": {},
   "outputs": [
    {
     "name": "stdout",
     "output_type": "stream",
     "text": [
      "2\n",
      "4\n",
      "[[978 813 775 800 716 740 574 738  31 266]\n",
      " [632 536 647 620 635 514 423 445 462 446]\n",
      " [875 772 794 789 768 758 621 765 767 624]\n",
      " [756 691 728 535 688 684 441 669 743 358]\n",
      " [468 526 583 560 510 619 416 470 473 251]\n",
      " [549 543 507 615 600 524 393 485 492 343]\n",
      " [407 381 630 631 314 430 425 412 406 568]\n",
      " [306 306 587 661 794 711 643 731 849 238]\n",
      " [208 208 208 574 672 711 302   0  58 338]\n",
      " [699 472 439 854 719 692 416 569 415 509]]\n",
      "[[80 77 82 82 73 82 58 78  6 35]\n",
      " [82 57 82 79 76 72 60 72 79 80]\n",
      " [79 78 75 81 76 79 62 76 77 69]\n",
      " [80 65 77 66 69 77 55 67 77 40]\n",
      " [82 82 82 79 82 78 54 76 71 41]\n",
      " [70 69 67 77 70 77 57 74 79 44]\n",
      " [78 64 80 78 45 80 60 70 62 82]\n",
      " [35 35 80 74 82 78 66 81 81 27]\n",
      " [40 40 40 81 78 81 39  0 10 51]\n",
      " [75 51 51 79 77 76 49 69 54 62]]\n"
     ]
    }
   ],
   "source": [
    "Salary\n",
    "Salary[Pdict['JoeJohnson']] [Sdict['2012']]\n",
    "Salary[Pdict['LeBronJames']] [Sdict['2012']]\n",
    "print(Pdict['LeBronJames'])\n",
    "print(Sdict['2009'])\n",
    "Salary[2][4]\n",
    "Salary[Pdict['LeBronJames']] [Sdict['2009']]\n",
    "print(FieldGoals)\n",
    "print(Games)"
   ]
  },
  {
   "cell_type": "code",
   "execution_count": 25,
   "metadata": {},
   "outputs": [
    {
     "name": "stderr",
     "output_type": "stream",
     "text": [
      "/home/firoz/anaconda3/lib/python3.6/site-packages/ipykernel_launcher.py:2: RuntimeWarning: invalid value encountered in true_divide\n",
      "  \n"
     ]
    },
    {
     "data": {
      "text/plain": [
       "array([[ 12.225     ,  10.55844156,   9.45121951,   9.75609756,\n",
       "          9.80821918,   9.02439024,   9.89655172,   9.46153846,\n",
       "          5.16666667,   7.6       ],\n",
       "       [  7.70731707,   9.40350877,   7.8902439 ,   7.84810127,\n",
       "          8.35526316,   7.13888889,   7.05      ,   6.18055556,\n",
       "          5.84810127,   5.575     ],\n",
       "       [ 11.07594937,   9.8974359 ,  10.58666667,   9.74074074,\n",
       "         10.10526316,   9.59493671,  10.01612903,  10.06578947,\n",
       "          9.96103896,   9.04347826],\n",
       "       [  9.45      ,  10.63076923,   9.45454545,   8.10606061,\n",
       "          9.97101449,   8.88311688,   8.01818182,   9.98507463,\n",
       "          9.64935065,   8.95      ],\n",
       "       [  5.70731707,   6.41463415,   7.1097561 ,   7.08860759,\n",
       "          6.2195122 ,   7.93589744,   7.7037037 ,   6.18421053,\n",
       "          6.66197183,   6.12195122],\n",
       "       [  7.84285714,   7.86956522,   7.56716418,   7.98701299,\n",
       "          8.57142857,   6.80519481,   6.89473684,   6.55405405,\n",
       "          6.2278481 ,   7.79545455],\n",
       "       [  5.21794872,   5.953125  ,   7.875     ,   8.08974359,\n",
       "          6.97777778,   5.375     ,   7.08333333,   5.88571429,\n",
       "          6.5483871 ,   6.92682927],\n",
       "       [  8.74285714,   8.74285714,   7.3375    ,   8.93243243,\n",
       "          9.68292683,   9.11538462,   9.74242424,   9.02469136,\n",
       "         10.48148148,   8.81481481],\n",
       "       [  5.2       ,   5.2       ,   5.2       ,   7.08641975,\n",
       "          8.61538462,   8.77777778,   7.74358974,          nan,\n",
       "          5.8       ,   6.62745098],\n",
       "       [  9.32      ,   9.25490196,   8.60784314,  10.81012658,\n",
       "          9.33766234,   9.10526316,   8.48979592,   8.24637681,\n",
       "          7.68518519,   8.20967742]])"
      ]
     },
     "execution_count": 25,
     "metadata": {},
     "output_type": "execute_result"
    }
   ],
   "source": [
    "# How do we get FieldGoals per Games\n",
    "FieldGoals / Games\n",
    "# Performs elem by elem division\n",
    "# similar to vec opers in R\n",
    "# Why are v getting divide by 0\n",
    "# Is this an error or warning"
   ]
  },
  {
   "cell_type": "code",
   "execution_count": 26,
   "metadata": {},
   "outputs": [
    {
     "name": "stdout",
     "output_type": "stream",
     "text": [
      "[[ 12.225       10.55844156   9.45121951   9.75609756   9.80821918\n",
      "    9.02439024   9.89655172   9.46153846   5.16666667   7.6       ]\n",
      " [  7.70731707   9.40350877   7.8902439    7.84810127   8.35526316\n",
      "    7.13888889   7.05         6.18055556   5.84810127   5.575     ]\n",
      " [ 11.07594937   9.8974359   10.58666667   9.74074074  10.10526316\n",
      "    9.59493671  10.01612903  10.06578947   9.96103896   9.04347826]\n",
      " [  9.45        10.63076923   9.45454545   8.10606061   9.97101449\n",
      "    8.88311688   8.01818182   9.98507463   9.64935065   8.95      ]\n",
      " [  5.70731707   6.41463415   7.1097561    7.08860759   6.2195122\n",
      "    7.93589744   7.7037037    6.18421053   6.66197183   6.12195122]\n",
      " [  7.84285714   7.86956522   7.56716418   7.98701299   8.57142857\n",
      "    6.80519481   6.89473684   6.55405405   6.2278481    7.79545455]\n",
      " [  5.21794872   5.953125     7.875        8.08974359   6.97777778   5.375\n",
      "    7.08333333   5.88571429   6.5483871    6.92682927]\n",
      " [  8.74285714   8.74285714   7.3375       8.93243243   9.68292683\n",
      "    9.11538462   9.74242424   9.02469136  10.48148148   8.81481481]\n",
      " [  5.2          5.2          5.2          7.08641975   8.61538462\n",
      "    8.77777778   7.74358974          nan   5.8          6.62745098]\n",
      " [  9.32         9.25490196   8.60784314  10.81012658   9.33766234\n",
      "    9.10526316   8.48979592   8.24637681   7.68518519   8.20967742]]\n"
     ]
    },
    {
     "ename": "TypeError",
     "evalue": "type numpy.ndarray doesn't define __round__ method",
     "output_type": "error",
     "traceback": [
      "\u001b[0;31m---------------------------------------------------------------------------\u001b[0m",
      "\u001b[0;31mTypeError\u001b[0m                                 Traceback (most recent call last)",
      "\u001b[0;32m<ipython-input-26-f72cc0569185>\u001b[0m in \u001b[0;36m<module>\u001b[0;34m()\u001b[0m\n\u001b[1;32m      3\u001b[0m \u001b[0;31m#ignoring the warning\u001b[0m\u001b[0;34m\u001b[0m\u001b[0;34m\u001b[0m\u001b[0m\n\u001b[1;32m      4\u001b[0m \u001b[0mprint\u001b[0m\u001b[0;34m(\u001b[0m\u001b[0mFieldGoals\u001b[0m\u001b[0;34m/\u001b[0m\u001b[0mGames\u001b[0m\u001b[0;34m)\u001b[0m\u001b[0;34m\u001b[0m\u001b[0m\n\u001b[0;32m----> 5\u001b[0;31m \u001b[0mprint\u001b[0m\u001b[0;34m(\u001b[0m\u001b[0mround\u001b[0m\u001b[0;34m(\u001b[0m\u001b[0mFieldGoals\u001b[0m\u001b[0;34m/\u001b[0m\u001b[0mGames\u001b[0m\u001b[0;34m,\u001b[0m\u001b[0;36m2\u001b[0m\u001b[0;34m)\u001b[0m\u001b[0;34m)\u001b[0m\u001b[0;34m\u001b[0m\u001b[0m\n\u001b[0m\u001b[1;32m      6\u001b[0m \u001b[0;31m#print(np.matrix.round(FieldGoals/Games))\u001b[0m\u001b[0;34m\u001b[0m\u001b[0;34m\u001b[0m\u001b[0m\n\u001b[1;32m      7\u001b[0m \u001b[0;31m#FieldGoalsPerGame = np.matrix.round(FieldGoals / Games)\u001b[0m\u001b[0;34m\u001b[0m\u001b[0;34m\u001b[0m\u001b[0m\n",
      "\u001b[0;31mTypeError\u001b[0m: type numpy.ndarray doesn't define __round__ method"
     ]
    }
   ],
   "source": [
    "import warnings\n",
    "warnings.filterwarnings('ignore') \n",
    "#ignoring the warning\n",
    "print(FieldGoals/Games)\n",
    "print(round(FieldGoals/Games,2))\n",
    "#print(np.matrix.round(FieldGoals/Games))\n",
    "#FieldGoalsPerGame = np.matrix.round(FieldGoals / Games)\n",
    "# print(FieldGoalsPerGame)\n",
    "# FieldGoalsPerGame[Pdict['LeBronJames']] [Sdict['2009']]\n",
    "# FieldGoalsPerGame[Pdict['KobeBryant']] [Sdict['2009']]\n",
    "# np.matrix.round(MinutesPlayed) #ntc KB has 177 mins & DR has 0,311\n",
    "# print(np.matrix.round(Games))\n",
    "# print(np.matrix.round(MinutesPlayed/Games))\n",
    "# # What does 0 mean"
   ]
  },
  {
   "cell_type": "code",
   "execution_count": null,
   "metadata": {},
   "outputs": [],
   "source": [
    "# What does 0 mean\n",
    "#FieldGoals\n",
    "FieldGoalAttempts"
   ]
  },
  {
   "cell_type": "code",
   "execution_count": null,
   "metadata": {},
   "outputs": [],
   "source": [
    "# What is FG / FGAs?\n",
    "FieldGoals / FieldGoalAttempts\n",
    "from __future__ import division\n",
    "print(FieldGoals/FieldGoalAttempts)\n",
    "# Visualizations\n",
    "np.matrix.round(FieldGoals/FieldGoalAttempts,2)*100\n",
    "# What are some of the problems from the above matrxi\n",
    "# We cannot see the trends\n",
    "# We do not know which players data we are looking at\n",
    "# We do not know the patterns of the players\n",
    "# How they are peforming etc"
   ]
  },
  {
   "cell_type": "code",
   "execution_count": null,
   "metadata": {},
   "outputs": [],
   "source": [
    "# Visualizations\n",
    "import matplotlib.pyplot as plt\n",
    "#get_ipython().magic(u'matplotlib inline')\n",
    "plt.plot(Salary[0])\n",
    "Salary[0]\n",
    "plt.plot(Salary[0],c='Green') # c is for color\n",
    "plt.plot(Salary[0],c='Black', ls='--') # ls is for line style\n",
    "plt.plot(Salary[0],c='Black', ls='--', marker='s') # s stands for square\n",
    "plt.plot(Salary[0],c='Black', ls='--', marker='s', ms=2) # ms stands for marker size\n",
    "plt.plot(Salary[0],c='Black', ls='--', marker='s', ms=7) # ms stands for marker size\n",
    "plt.show()"
   ]
  },
  {
   "cell_type": "code",
   "execution_count": null,
   "metadata": {},
   "outputs": [],
   "source": [
    "plt.rcParams['figure.figsize'] = 2,1\n",
    "plt.plot(Salary[0],c='Black', ls='--', marker='s', ms=7) # ms stands for marker size\n",
    "plt.show()"
   ]
  },
  {
   "cell_type": "code",
   "execution_count": null,
   "metadata": {},
   "outputs": [],
   "source": [
    "# Advanced Visualizations\n",
    "plt.rcParams['figure.figsize'] = 8,4\n",
    "plt.plot(Salary[0],c='Black', ls='--', marker='s', ms=7) # ms stands for marker size\n",
    "plt.show()"
   ]
  },
  {
   "cell_type": "code",
   "execution_count": null,
   "metadata": {},
   "outputs": [],
   "source": [
    "plt.plot(Salary[0],c='Black', ls='--', marker='s', ms=7) # ms stands for marker size\n",
    "plt.xticks(list(range(0,9)),Seasons)\n",
    "plt.show()"
   ]
  },
  {
   "cell_type": "code",
   "execution_count": null,
   "metadata": {},
   "outputs": [],
   "source": [
    "plt.plot(Salary[0],c='Black', ls='--', marker='s', ms=7) \n",
    "# ms stands for marker sizeplt.xticks(list(range(0,10)),Seasons,rotation='vertical')\n",
    "plt.show()"
   ]
  },
  {
   "cell_type": "code",
   "execution_count": null,
   "metadata": {},
   "outputs": [],
   "source": [
    "plt.plot(Salary[0],c='Black', ls='--', marker='s', ms=7, label=Players[0])\n",
    "plt.xticks(list(range(0,9)),Seasons)\n",
    "plt.show()"
   ]
  },
  {
   "cell_type": "code",
   "execution_count": null,
   "metadata": {},
   "outputs": [],
   "source": [
    "plt.plot(Salary[0],c='Black', ls='--', marker='s', ms=7, label=Players[0])\n",
    "plt.plot(Salary[1],c='Red', ls='--', marker='s', ms=10, label=Players[1])\n",
    "plt.xticks(list(range(0,9)),Seasons)\n",
    "#seasons is list object\n",
    "plt.show()"
   ]
  },
  {
   "cell_type": "code",
   "execution_count": null,
   "metadata": {
    "collapsed": true
   },
   "outputs": [],
   "source": [
    "plt."
   ]
  },
  {
   "cell_type": "code",
   "execution_count": null,
   "metadata": {},
   "outputs": [],
   "source": [
    "\n",
    "plt.plot(Salary[0],c='Black', ls='--', marker='s', ms=7, label=Players[0])\n",
    "plt.plot(Salary[1],c='Red', ls='--', marker='o', ms=7, label=Players[1])\n",
    "plt.xticks(list(range(0,9)),Seasons)\n",
    "plt.show()"
   ]
  },
  {
   "cell_type": "code",
   "execution_count": null,
   "metadata": {},
   "outputs": [],
   "source": []
  },
  {
   "cell_type": "code",
   "execution_count": null,
   "metadata": {},
   "outputs": [],
   "source": [
    "plt.plot(Salary[0],c='Black', ls='--', marker='s', ms=7, label=Players[0])\n",
    "plt.plot(Salary[1],c='Red', ls='--', marker='o', ms=7, label=Players[1])\n",
    "plt.plot(Salary[2],c='Green', ls='--', marker='^', ms=7, label=Players[2])\n",
    "plt.plot(Salary[3],c='Blue', ls='--', marker='D', ms=7, label=Players[3])\n",
    "plt.xticks(list(range(0,9)),Seasons)\n",
    "plt.show()"
   ]
  },
  {
   "cell_type": "code",
   "execution_count": null,
   "metadata": {},
   "outputs": [],
   "source": [
    "plt.plot(Salary[0],c='Black', ls='--', marker='s', ms=7, label=Players[0])\n",
    "plt.plot(Salary[1],c='Red', ls='--', marker='o', ms=7, label=Players[1])\n",
    "plt.plot(Salary[2],c='Green', ls='--', marker='^', ms=7, label=Players[2])\n",
    "plt.plot(Salary[3],c='Blue', ls='--', marker='D', ms=7, label=Players[3])\n",
    "plt.legend() # legend\n",
    "plt.xticks(list(range(0,9)),Seasons)\n",
    "plt.show()"
   ]
  },
  {
   "cell_type": "code",
   "execution_count": null,
   "metadata": {},
   "outputs": [],
   "source": [
    "plt.plot(Salary[0],c='Black', ls='--', marker='s', ms=7, label=Players[0])\n",
    "plt.plot(Salary[1],c='Red', ls='--', marker='o', ms=7, label=Players[1])\n",
    "plt.plot(Salary[2],c='Green', ls='--', marker='^', ms=7, label=Players[2])\n",
    "plt.plot(Salary[3],c='Blue', ls='--', marker='D', ms=7, label=Players[3])\n",
    "plt.legend(loc='upper left') # legend\n",
    "plt.xticks(list(range(0,9)),Seasons)\n",
    "plt.show()"
   ]
  },
  {
   "cell_type": "code",
   "execution_count": null,
   "metadata": {},
   "outputs": [],
   "source": [
    "plt.plot(Salary[0],c='Black', ls='--', marker='s', ms=7, label=Players[0])\n",
    "plt.plot(Salary[1],c='Red', ls='--', marker='o', ms=7, label=Players[1])\n",
    "plt.plot(Salary[2],c='Green', ls='--', marker='^', ms=7, label=Players[2])\n",
    "plt.plot(Salary[3],c='Blue', ls='--', marker='D', ms=7, label=Players[3])\n",
    "plt.legend(loc='upper left',bbox_to_anchor=(1,1)) # legend\n",
    "plt.xticks(list(range(0,9)),Seasons)\n",
    "plt.show()"
   ]
  },
  {
   "cell_type": "code",
   "execution_count": null,
   "metadata": {},
   "outputs": [],
   "source": [
    "plt.plot(Salary[0],c='Black', ls='--', marker='s', ms=7, label=Players[0])\n",
    "plt.plot(Salary[1],c='Red', ls='--', marker='o', ms=7, label=Players[1])\n",
    "plt.plot(Salary[2],c='Green', ls='--', marker='^', ms=7, label=Players[2])\n",
    "plt.plot(Salary[3],c='Blue', ls='--', marker='D', ms=7, label=Players[3])\n",
    "plt.legend(loc='upper left',bbox_to_anchor=(1,0)) # legendplt.xticks(list(range(0,9)),Seasons)\n",
    "plt.show()"
   ]
  },
  {
   "cell_type": "code",
   "execution_count": null,
   "metadata": {},
   "outputs": [],
   "source": [
    "plt.plot(Salary[0],c='Black', ls='--', marker='s', ms=7, label=Players[0])\n",
    "plt.plot(Salary[1],c='Red', ls='--', marker='o', ms=7, label=Players[1])\n",
    "plt.plot(Salary[2],c='Green', ls='--', marker='^', ms=7, label=Players[2])\n",
    "plt.plot(Salary[3],c='Blue', ls='--', marker='D', ms=7, label=Players[3])\n",
    "plt.legend(loc='upper left',bbox_to_anchor=(0,0)) # legend\n",
    "plt.xticks(list(range(0,9)),Seasons)\n",
    "plt.show()"
   ]
  },
  {
   "cell_type": "code",
   "execution_count": null,
   "metadata": {},
   "outputs": [],
   "source": [
    "plt.plot(Salary[0],c='Black', ls='--', marker='s', ms=7, label=Players[0])\n",
    "plt.plot(Salary[1],c='Red', ls='--', marker='o', ms=7, label=Players[1])\n",
    "plt.plot(Salary[2],c='Green', ls='--', marker='^', ms=7, label=Players[2])\n",
    "plt.plot(Salary[3],c='Blue', ls='--', marker='D', ms=7, label=Players[3])\n",
    "plt.legend(loc='upper right',bbox_to_anchor=(1,1)) # legend\n",
    "plt.xticks(list(range(0,9)),Seasons)\n",
    "plt.show()"
   ]
  },
  {
   "cell_type": "code",
   "execution_count": null,
   "metadata": {},
   "outputs": [],
   "source": [
    "plt.plot(Salary[0],c='Black', ls='--', marker='s', ms=7, label=Players[0])\n",
    "plt.plot(Salary[1],c='Red', ls='--', marker='o', ms=7, label=Players[1])\n",
    "plt.plot(Salary[2],c='Green', ls='--', marker='^', ms=7, label=Players[2])\n",
    "plt.plot(Salary[3],c='Blue', ls='--', marker='D', ms=7, label=Players[3])\n",
    "plt.legend(loc='upper right',bbox_to_anchor=(0.5,0.5)) # legend\n",
    "plt.xticks(list(range(0,9)),Seasons)\n",
    "plt.show()"
   ]
  },
  {
   "cell_type": "code",
   "execution_count": null,
   "metadata": {},
   "outputs": [],
   "source": [
    "plt.plot(Salary[0],c='Black', ls='--', marker='s', ms=7, label=Players[0])\n",
    "plt.plot(Salary[1],c='Red', ls='--', marker='o', ms=7, label=Players[1])\n",
    "plt.plot(Salary[2],c='Green', ls='--', marker='^', ms=7, label=Players[2])\n",
    "plt.plot(Salary[3],c='Blue', ls='--', marker='D', ms=7, label=Players[3])\n",
    "plt.legend(loc='upper left',bbox_to_anchor=(1,1)) # legend\n",
    "plt.xticks(list(range(0,9)),Seasons)\n",
    "plt.show()"
   ]
  },
  {
   "cell_type": "code",
   "execution_count": null,
   "metadata": {},
   "outputs": [],
   "source": [
    "plt.plot(Salary[0],c='Black', ls='--', marker='s', ms=7, label=Players[0])\n",
    "plt.plot(Salary[1],c='Red', ls='--', marker='o', ms=7, label=Players[1])\n",
    "plt.plot(Salary[2],c='Green', ls='--', marker='^', ms=7, label=Players[2])\n",
    "plt.plot(Salary[3],c='Blue', ls='--', marker='D', ms=7, label=Players[3])\n",
    "plt.plot(Salary[4],c='Magenta', ls='--', marker='s', ms=7, label=Players[4])\n",
    "plt.plot(Salary[5],c='Black', ls='--', marker='o', ms=7, label=Players[5])\n",
    "plt.plot(Salary[6],c='Red', ls='--', marker='^', ms=7, label=Players[6])\n",
    "plt.plot(Salary[7],c='Green', ls='--', marker='D', ms=7, label=Players[7])\n",
    "plt.plot(Salary[8],c='Blue', ls='--', marker='s', ms=7, label=Players[8])\n",
    "plt.plot(Salary[9],c='Magenta', ls='--', marker='o', ms=7, label=Players[9])\n",
    "plt.legend(loc='upper left',bbox_to_anchor=(1,1)) # legend\n",
    "plt.xticks(list(range(0,9)),Seasons)\n",
    "plt.show()"
   ]
  },
  {
   "cell_type": "code",
   "execution_count": null,
   "metadata": {},
   "outputs": [],
   "source": [
    "# So what is the problem here?\n",
    "# How do we get to see the Games of all the players\n",
    "plt.plot(Games[0],c='Black', ls='--', marker='s', ms=7, label=Players[0])\n",
    "plt.plot(Games[1],c='Red', ls='--', marker='o', ms=7, label=Players[1])\n",
    "plt.plot(Games[2],c='Green', ls='--', marker='^', ms=7, label=Players[2])\n",
    "plt.plot(Games[3],c='Blue', ls='--', marker='D', ms=7, label=Players[3])\n",
    "plt.plot(Games[4],c='Magenta', ls='--', marker='s', ms=7, label=Players[4])\n",
    "plt.plot(Games[5],c='Black', ls='--', marker='o', ms=7, label=Players[5])\n",
    "plt.plot(Games[6],c='Red', ls='--', marker='^', ms=7, label=Players[6])\n",
    "plt.plot(Games[7],c='Green', ls='--', marker='D', ms=7, label=Players[7])\n",
    "plt.plot(Games[8],c='Blue', ls='--', marker='s', ms=7, label=Players[8])\n",
    "plt.plot(Games[9],c='Magenta', ls='--', marker='o', ms=7, label=Players[9])\n",
    "plt.legend(loc='upper left',bbox_to_anchor=(1,1)) # legend\n",
    "plt.xticks(list(range(0,9)),Seasons)\n",
    "plt.show()\n"
   ]
  },
  {
   "cell_type": "code",
   "execution_count": null,
   "metadata": {},
   "outputs": [],
   "source": [
    "# Custom Functionsdef myplot():\n",
    "plt.plot(Games[0],c='Black', ls='--', marker='s', ms=7, label=Players[0])\n",
    "plt.plot(Games[1],c='Red', ls='--', marker='o', ms=7, label=Players[1])\n",
    "plt.plot(Games[2],c='Green', ls='--', marker='^', ms=7, label=Players[2])\n",
    "plt.plot(Games[3],c='Blue', ls='--', marker='D', ms=7, label=Players[3])\n",
    "plt.plot(Games[4],c='Magenta', ls='--', marker='s', ms=7, label=Players[4])\n",
    "plt.plot(Games[5],c='Black', ls='--', marker='o', ms=7, label=Players[5])\n",
    "plt.plot(Games[6],c='Red', ls='--', marker='^', ms=7, label=Players[6])\n",
    "plt.plot(Games[7],c='Green', ls='--', marker='D', ms=7, label=Players[7])\n",
    "plt.plot(Games[8],c='Blue', ls='--', marker='s', ms=7, label=Players[8])\n",
    "plt.plot(Games[9],c='Magenta', ls='--', marker='o', ms=7, label=Players[9])\n",
    "plt.legend(loc='upper left',bbox_to_anchor=(1,1)) # legend\n",
    "plt.xticks(list(range(0,9)),Seasons)\n",
    "plt.show()"
   ]
  },
  {
   "cell_type": "code",
   "execution_count": null,
   "metadata": {},
   "outputs": [],
   "source": [
    "# Custom Functions def myplot():\n",
    "plt.plot(Games[0],c='Black', ls='--', marker='s', ms=7, label=Players[0])\n",
    "plt.plot(Games[1],c='Red', ls='--', marker='o', ms=7, label=Players[1])\n",
    "plt.plot(Games[2],c='Green', ls='--', marker='^', ms=7, label=Players[2])\n",
    "plt.plot(Games[3],c='Blue', ls='--', marker='D', ms=7, label=Players[3])\n",
    "plt.plot(Games[4],c='Magenta', ls='--', marker='s', ms=7, label=Players[4])\n",
    "plt.plot(Games[5],c='Black', ls='--', marker='o', ms=7, label=Players[5])\n",
    "plt.plot(Games[6],c='Red', ls='--', marker='^', ms=7, label=Players[6])\n",
    "plt.plot(Games[7],c='Green', ls='--', marker='D', ms=7, label=Players[7])\n",
    "plt.plot(Games[8],c='Blue', ls='--', marker='s', ms=7, label=Players[8])\n",
    "plt.plot(Games[9],c='Magenta', ls='--', marker='o', ms=7, label=Players[9])\n",
    "plt.legend(loc='upper left',bbox_to_anchor=(1,1)) # legend\n",
    "plt.xticks(list(range(0,9)),Seasons)\n",
    "plt.show()myplot()\n"
   ]
  },
  {
   "cell_type": "code",
   "execution_count": null,
   "metadata": {},
   "outputs": [],
   "source": [
    "playerlist = ['KobeBryant','LeBronJames','DerrickRose']\n",
    "type(playerlist)\n",
    "Pdict['KobeBryant']\n",
    "def myplot(playerlist):\n",
    "    for name in playerlist:\n",
    "        plt.plot(Games[Pdict[name]],c='Black',ls='--',marker='s',ms=7,label=name)\n",
    "        plt.legend(loc='upper left',bbox_to_anchor=(1,1)) # legend\n",
    "        plt.xticks(list(range(0,9)),Seasons)\n",
    "        plt.show()\n",
    "        myplot(playerlist)\n",
    "        myplot(['KobeBryant','LeBronJames','DerrickRose'])\n",
    "        myplot(['KobeBryant','DerrickRose'])\n",
    "\n"
   ]
  },
  {
   "cell_type": "code",
   "execution_count": 27,
   "metadata": {},
   "outputs": [
    {
     "ename": "NameError",
     "evalue": "name 'playerlist' is not defined",
     "output_type": "error",
     "traceback": [
      "\u001b[0;31m---------------------------------------------------------------------------\u001b[0m",
      "\u001b[0;31mNameError\u001b[0m                                 Traceback (most recent call last)",
      "\u001b[0;32m<ipython-input-27-eec3aa3e40fd>\u001b[0m in \u001b[0;36m<module>\u001b[0;34m()\u001b[0m\n\u001b[1;32m      4\u001b[0m \u001b[0;34m\"ChrisBosh\"\u001b[0m\u001b[0;34m:\u001b[0m\u001b[0;34m'Black'\u001b[0m\u001b[0;34m,\u001b[0m\u001b[0;34m\"ChrisPaul\"\u001b[0m\u001b[0;34m:\u001b[0m\u001b[0;34m'Red'\u001b[0m\u001b[0;34m,\u001b[0m\u001b[0;34m\"KevinDurant\"\u001b[0m\u001b[0;34m:\u001b[0m\u001b[0;34m'Green'\u001b[0m\u001b[0;34m,\u001b[0m\u001b[0;34m\"DerrickRose\"\u001b[0m\u001b[0;34m:\u001b[0m\u001b[0;34m'Blue'\u001b[0m\u001b[0;34m,\u001b[0m\u001b[0;34m\u001b[0m\u001b[0m\n\u001b[1;32m      5\u001b[0m \"DwayneWade\":'Magenta'}   \n\u001b[0;32m----> 6\u001b[0;31m \u001b[0;32mfor\u001b[0m \u001b[0mname\u001b[0m \u001b[0;32min\u001b[0m \u001b[0mplayerlist\u001b[0m\u001b[0;34m:\u001b[0m\u001b[0;34m\u001b[0m\u001b[0m\n\u001b[0m\u001b[1;32m      7\u001b[0m     \u001b[0mplt\u001b[0m\u001b[0;34m.\u001b[0m\u001b[0mplot\u001b[0m\u001b[0;34m(\u001b[0m\u001b[0mGames\u001b[0m\u001b[0;34m[\u001b[0m\u001b[0mPdict\u001b[0m\u001b[0;34m[\u001b[0m\u001b[0mname\u001b[0m\u001b[0;34m]\u001b[0m\u001b[0;34m]\u001b[0m\u001b[0;34m,\u001b[0m\u001b[0mc\u001b[0m\u001b[0;34m=\u001b[0m\u001b[0mCol\u001b[0m\u001b[0;34m[\u001b[0m\u001b[0mname\u001b[0m\u001b[0;34m]\u001b[0m\u001b[0;34m,\u001b[0m\u001b[0mls\u001b[0m\u001b[0;34m=\u001b[0m\u001b[0;34m'--'\u001b[0m\u001b[0;34m,\u001b[0m\u001b[0mmarker\u001b[0m\u001b[0;34m=\u001b[0m\u001b[0;34m's'\u001b[0m\u001b[0;34m,\u001b[0m\u001b[0mms\u001b[0m\u001b[0;34m=\u001b[0m\u001b[0;36m7\u001b[0m\u001b[0;34m,\u001b[0m\u001b[0mlabel\u001b[0m\u001b[0;34m=\u001b[0m\u001b[0mname\u001b[0m\u001b[0;34m)\u001b[0m\u001b[0;34m\u001b[0m\u001b[0m\n\u001b[1;32m      8\u001b[0m     \u001b[0mplt\u001b[0m\u001b[0;34m.\u001b[0m\u001b[0mlegend\u001b[0m\u001b[0;34m(\u001b[0m\u001b[0mloc\u001b[0m\u001b[0;34m=\u001b[0m\u001b[0;34m'upper left'\u001b[0m\u001b[0;34m,\u001b[0m\u001b[0mbbox_to_anchor\u001b[0m\u001b[0;34m=\u001b[0m\u001b[0;34m(\u001b[0m\u001b[0;36m1\u001b[0m\u001b[0;34m,\u001b[0m\u001b[0;36m1\u001b[0m\u001b[0;34m)\u001b[0m\u001b[0;34m)\u001b[0m \u001b[0;31m# legend\u001b[0m\u001b[0;34m\u001b[0m\u001b[0m\n",
      "\u001b[0;31mNameError\u001b[0m: name 'playerlist' is not defined"
     ]
    }
   ],
   "source": [
    "def myplot(playerlist):\n",
    "    Col = {\"KobeBryant\":'Black',\"JoeJohnson\":'Red',\"LeBronJames\":'Green',\"CarmeloAnthony\":'Blue',\n",
    "\"DwightHoward\":'Magenta',\n",
    "\"ChrisBosh\":'Black',\"ChrisPaul\":'Red',\"KevinDurant\":'Green',\"DerrickRose\":'Blue',\n",
    "\"DwayneWade\":'Magenta'}   \n",
    "for name in playerlist:\n",
    "    plt.plot(Games[Pdict[name]],c=Col[name],ls='--',marker='s',ms=7,label=name)\n",
    "    plt.legend(loc='upper left',bbox_to_anchor=(1,1)) # legend\n",
    "    plt.xticks(list(range(0,9)),Seasons)\n",
    "    plt.show()\n",
    "    myplot(['KobeBryant','LeBronJames','DerrickRose'])\n",
    " "
   ]
  },
  {
   "cell_type": "code",
   "execution_count": null,
   "metadata": {
    "collapsed": true
   },
   "outputs": [],
   "source": [
    "def myplot(playerlist):\n",
    "    Col = {\"KobeBryant\":'Black',\"JoeJohnson\":'Red',\"LeBronJames\":'Green',\"CarmeloAnthony\":'Blue',\"DwightHoward\":'Magenta',\"ChrisBosh\":'Black',\"ChrisPaul\":'Red',\"KevinDurant\":'Green',\"DerrickRose\":'Blue',\"DwayneWade\":'Magenta'}\n",
    "Mrk = {\"KobeBryant\":'s',\"JoeJohnson\":'o',\"LeBronJames\":'^',\"CarmeloAnthony\":'D',\"DwightHoward\":'s',\"ChrisBosh\":'o',\"ChrisPaul\":'^',\"KevinDurant\":'D',\"DerrickRose\":'s',\"DwayneWade\":'o'}\n",
    "for name in playerlist:\n",
    "    plt.plot(Games[Pdict[name]],c=Col[name],ls='--',marker=Mrk[name],ms=7,label=name)\n",
    "    plt.legend(loc='upper left',bbox_to_anchor=(1,1)) # legend\n",
    "    plt.xticks(list(range(0,9)),Seasons)\n",
    "    plt.show()\n",
    "    myplot(['KobeBryant','LeBronJames','DerrickRose'])\n",
    "    myplot(['KobeBryant','LeBronJames','DerrickRose','JoeJohnson'])"
   ]
  },
  {
   "cell_type": "code",
   "execution_count": null,
   "metadata": {
    "collapsed": true
   },
   "outputs": [],
   "source": [
    "def myplot(data,playerlist):\n",
    "    Col = {\"KobeBryant\":'Black',\"JoeJohnson\":'Red',\"LeBronJames\":'Green',\"CarmeloAnthony\":'Blue',\n",
    "\"DwightHoward\":'Magenta',\n",
    "\"ChrisBosh\":'Black',\"ChrisPaul\":'Red',\"KevinDurant\":'Green',\"DerrickRose\":'Blue',\n",
    "\"DwayneWade\":'Magenta'}\n",
    "Mrk = {\"KobeBryant\":'s',\"JoeJohnson\":'o',\"LeBronJames\":'^',\"CarmeloAnthony\":'D',\n",
    "\"DwightHoward\":'s',\"ChrisBosh\":'o',\"ChrisPaul\":'^',\"KevinDurant\":'D',\"DerrickRose\":'s',\"DwayneWade\":'o'}\n",
    "for name in playerlist:\n",
    "    plt.plot(data[Pdict[name]],c=Col[name],ls='--',marker=Mrk[name],ms=7,label=name)\n",
    "    plt.legend(loc='upper left',bbox_to_anchor=(1,1)) # legend\n",
    "    plt.xticks(list(range(0,9)),Seasons)\n",
    "    plt.show()\n",
    "    myplot(Points,['KobeBryant','LeBronJames','DerrickRose'])\n",
    "    myplot(Salary,['KobeBryant','LeBronJames','DerrickRose'])\n",
    "    myplot(FieldGoals,['KobeBryant','LeBronJames','DerrickRose'])\n",
    "    myplot(FieldGoalAttempts,['KobeBryant','LeBronJames','DerrickRose'])\n",
    "    myplot(FieldGoals/FieldGoalAttempts,['KobeBryant','LeBronJames','DerrickRose'])\n",
    "    FieldGoals/FieldGoalAttempts"
   ]
  },
  {
   "cell_type": "code",
   "execution_count": null,
   "metadata": {
    "collapsed": true
   },
   "outputs": [],
   "source": [
    "def myplot(data,playerlist=Players):\n",
    "    Col = {\"KobeBryant\":'Black',\"JoeJohnson\":'Red',\"LeBronJames\":'Green',\"CarmeloAnthony\":'Blue',\"DwightHoward\":'Magenta',\n",
    "\"ChrisBosh\":'Black',\"ChrisPaul\":'Red',\"KevinDurant\":'Green',\"DerrickRose\":'Blue',\"DwayneWade\":'Magenta'}\n",
    "Mrk = {\"KobeBryant\":'s',\"JoeJohnson\":'o',\"LeBronJames\":'^',\"CarmeloAnthony\":'D',\"DwightHoward\":'s',\"ChrisBosh\":'o',\"ChrisPaul\":'^',\"KevinDurant\":'D',\"DerrickRose\":'s',\"DwayneWade\":'o'}\n",
    "for name in playerlist:\n",
    "    plt.plot(data[Pdict[name]],c=Col[name],ls='--',marker=Mrk[name],ms=7,label=name)\n",
    "    plt.legend(loc='upper left',bbox_to_anchor=(1,1)) # legend\n",
    "    plt.xticks(list(range(0,9)),Seasons)\n",
    "    plt.show()\n",
    "    myplot(Salary,['KobeBryant','LeBronJames','DerrickRose'])\n",
    "    myplot(Salary)\n",
    "    myplot(Points)\n",
    "# Insights\n",
    "myplot(Games)\n",
    "myplot(Salary)"
   ]
  },
  {
   "cell_type": "code",
   "execution_count": null,
   "metadata": {
    "collapsed": true
   },
   "outputs": [],
   "source": []
  },
  {
   "cell_type": "code",
   "execution_count": null,
   "metadata": {
    "collapsed": true
   },
   "outputs": [],
   "source": []
  },
  {
   "cell_type": "code",
   "execution_count": null,
   "metadata": {
    "collapsed": true
   },
   "outputs": [],
   "source": []
  },
  {
   "cell_type": "code",
   "execution_count": null,
   "metadata": {
    "collapsed": true
   },
   "outputs": [],
   "source": []
  },
  {
   "cell_type": "code",
   "execution_count": null,
   "metadata": {
    "collapsed": true
   },
   "outputs": [],
   "source": []
  },
  {
   "cell_type": "code",
   "execution_count": null,
   "metadata": {
    "collapsed": true
   },
   "outputs": [],
   "source": []
  },
  {
   "cell_type": "code",
   "execution_count": null,
   "metadata": {
    "collapsed": true
   },
   "outputs": [],
   "source": []
  },
  {
   "cell_type": "code",
   "execution_count": null,
   "metadata": {
    "collapsed": true
   },
   "outputs": [],
   "source": []
  },
  {
   "cell_type": "code",
   "execution_count": null,
   "metadata": {
    "collapsed": true
   },
   "outputs": [],
   "source": []
  },
  {
   "cell_type": "code",
   "execution_count": null,
   "metadata": {
    "collapsed": true
   },
   "outputs": [],
   "source": []
  }
 ],
 "metadata": {
  "kernelspec": {
   "display_name": "Python 3",
   "language": "python",
   "name": "python3"
  },
  "language_info": {
   "codemirror_mode": {
    "name": "ipython",
    "version": 3
   },
   "file_extension": ".py",
   "mimetype": "text/x-python",
   "name": "python",
   "nbconvert_exporter": "python",
   "pygments_lexer": "ipython3",
   "version": "3.6.3"
  }
 },
 "nbformat": 4,
 "nbformat_minor": 2
}
