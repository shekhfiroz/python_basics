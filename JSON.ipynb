{
 "cells": [
  {
   "cell_type": "code",
   "execution_count": null,
   "metadata": {
    "collapsed": true
   },
   "outputs": [],
   "source": [
    "JSON:Java script object notation is an industry standard for data exchange format\n",
    "    "
   ]
  },
  {
   "cell_type": "code",
   "execution_count": null,
   "metadata": {
    "collapsed": true
   },
   "outputs": [],
   "source": [
    "str->String\n",
    "int->Integer\n",
    "\n",
    "In pyhton we having Dictinory ->C,C++,Java\n",
    "HashMap,HashTable in java:=> Data type may in mismatching"
   ]
  },
  {
   "cell_type": "code",
   "execution_count": null,
   "metadata": {
    "collapsed": true
   },
   "outputs": [],
   "source": [
    "#TElgu person    ENglish but i donot know english langauge i am intellegent  so i took TRanslator is there\n"
   ]
  },
  {
   "cell_type": "code",
   "execution_count": null,
   "metadata": {
    "collapsed": true
   },
   "outputs": [],
   "source": [
    "#Light Weight=> using less system resouces using less memory and less processor time"
   ]
  },
  {
   "cell_type": "code",
   "execution_count": null,
   "metadata": {
    "collapsed": true
   },
   "outputs": [],
   "source": [
    "JSONN:is a data interchange format:\n",
    "        a)it is developed from javascript\n",
    "        b)it is first specified by Douglas crockford suring 1990 became popular since 2013\n",
    "        \n",
    "Data Exchange format:\n",
    "    \n",
    "XML Example:\n",
    "    \n",
    "<employee>\n",
    "<id>1001</id>\n",
    "<name>shekh</name>\n",
    "</employee>\n",
    "\n",
    "Nos of chars\"73\"\n",
    "Xml will takemore memory"
   ]
  },
  {
   "cell_type": "code",
   "execution_count": null,
   "metadata": {
    "collapsed": true
   },
   "outputs": [],
   "source": [
    "#JSON is called dictionary in python\n",
    "{\n",
    "    \"id\":1001,\n",
    "    \"name\":firoz,\n",
    "    \"salary\":90000000000000\n",
    "}\n",
    "\n",
    "no.of chars:40   \n",
    "\"JSON uses less memory\""
   ]
  },
  {
   "cell_type": "code",
   "execution_count": null,
   "metadata": {
    "collapsed": true
   },
   "outputs": [],
   "source": [
    "JSON is built on two stracture:\n",
    "1) A collection if name and value pairs .in other language,\n",
    "this is represeted as an object,struct,dictionary,hash table,etc.\n",
    "\n",
    "2)AN oredered list of values in other languages this can be any array,vector or list,etc\n"
   ]
  },
  {
   "cell_type": "code",
   "execution_count": null,
   "metadata": {
    "collapsed": true
   },
   "outputs": [],
   "source": [
    "Python       JSON     Java\n",
    "\n",
    "dict         object   java.util.Map\n",
    "list,tuple   array   java.util.List\n",
    "str          String   java.lang.String\n",
    "int,float    number   java.language.Number\n",
    "True         true     \n",
    "False        false    java.lang.Boolean\n"
   ]
  },
  {
   "cell_type": "code",
   "execution_count": null,
   "metadata": {
    "collapsed": true
   },
   "outputs": [],
   "source": [
    "Requirment in java\n",
    "\n",
    "import json mdule\n",
    "str=json.dumps(employess)\n",
    "d=json.load(str)\n"
   ]
  },
  {
   "cell_type": "code",
   "execution_count": null,
   "metadata": {
    "collapsed": true
   },
   "outputs": [],
   "source": [
    "Requirement in java\n",
    "Download json simple.jar.zip file and then\n",
    "set classpath to json-simple-1.1.1.jar\n",
    "\n",
    "import org.json.simple.*;\n",
    "Object obj=JSON.values.parse()"
   ]
  },
  {
   "cell_type": "code",
   "execution_count": null,
   "metadata": {
    "collapsed": true
   },
   "outputs": [],
   "source": [
    "#to accept dict data rom keyboard and convert it into format and then sore into a file"
   ]
  },
  {
   "cell_type": "code",
   "execution_count": 15,
   "metadata": {},
   "outputs": [
    {
     "name": "stdout",
     "output_type": "stream",
     "text": [
      "/home/firoz/Documents/python\n",
      "Enter your Data{}{'id':'1002','name':'alam','phone':'9090'}\n",
      "47\n"
     ]
    }
   ],
   "source": [
    "import os \n",
    "print(os.getcwd())\n",
    "import json\n",
    "employee=eval(input('Enter your Data{}'))\n",
    "#eval is by default understand our input value\n",
    "#{'id':'1002','name':'alam','phone':'9090'}\n",
    "str=json.dumps(employee)\n",
    "with open('jsondata.txt','w') as f:\n",
    "#with means it will close  byitself\n",
    "    f.write(str)\n",
    "    print(f.write(str))"
   ]
  },
  {
   "cell_type": "code",
   "execution_count": 16,
   "metadata": {},
   "outputs": [
    {
     "ename": "AttributeError",
     "evalue": "module 'json' has no attribute 'module'",
     "output_type": "error",
     "traceback": [
      "\u001b[0;31m---------------------------------------------------------------------------\u001b[0m",
      "\u001b[0;31mAttributeError\u001b[0m                            Traceback (most recent call last)",
      "\u001b[0;32m<ipython-input-16-c8a3d458203a>\u001b[0m in \u001b[0;36m<module>\u001b[0;34m()\u001b[0m\n\u001b[1;32m      3\u001b[0m \u001b[0;32mwith\u001b[0m \u001b[0mopen\u001b[0m\u001b[0;34m(\u001b[0m\u001b[0;34m'jsondata.txt'\u001b[0m\u001b[0;34m,\u001b[0m\u001b[0;34m'r'\u001b[0m\u001b[0;34m)\u001b[0m \u001b[0;32mas\u001b[0m \u001b[0mf\u001b[0m\u001b[0;34m:\u001b[0m\u001b[0;34m\u001b[0m\u001b[0m\n\u001b[1;32m      4\u001b[0m     \u001b[0mstr\u001b[0m\u001b[0;34m=\u001b[0m\u001b[0mf\u001b[0m\u001b[0;34m.\u001b[0m\u001b[0mread\u001b[0m\u001b[0;34m(\u001b[0m\u001b[0;34m)\u001b[0m\u001b[0;34m\u001b[0m\u001b[0m\n\u001b[0;32m----> 5\u001b[0;31m     \u001b[0memployee\u001b[0m\u001b[0;34m=\u001b[0m\u001b[0mjson\u001b[0m\u001b[0;34m.\u001b[0m\u001b[0mmodule\u001b[0m\u001b[0;34m(\u001b[0m\u001b[0mstr\u001b[0m\u001b[0;34m)\u001b[0m\u001b[0;34m\u001b[0m\u001b[0m\n\u001b[0m\u001b[1;32m      6\u001b[0m     \u001b[0mprint\u001b[0m\u001b[0;34m(\u001b[0m\u001b[0memployee\u001b[0m\u001b[0;34m)\u001b[0m\u001b[0;34m\u001b[0m\u001b[0m\n\u001b[1;32m      7\u001b[0m     \u001b[0;32mif\u001b[0m \u001b[0memployee\u001b[0m\u001b[0;34m[\u001b[0m\u001b[0;34m'id'\u001b[0m\u001b[0;34m]\u001b[0m\u001b[0;34m==\u001b[0m\u001b[0;36m10001\u001b[0m\u001b[0;34m:\u001b[0m\u001b[0;34m\u001b[0m\u001b[0m\n",
      "\u001b[0;31mAttributeError\u001b[0m: module 'json' has no attribute 'module'"
     ]
    }
   ],
   "source": [
    "#To open jsondata.txt file,read data from it and then use it in python programme\n",
    "import json\n",
    "with open('jsondata.txt','r') as f:\n",
    "    str=f.read()\n",
    "    employee=json.\n",
    "    #module(str)\n",
    "    print(employee)\n",
    "    if employee['id']==10001:\n",
    "        print('Salary=',employee['salary'])\n",
    "    "
   ]
  },
  {
   "cell_type": "code",
   "execution_count": null,
   "metadata": {
    "collapsed": true
   },
   "outputs": [],
   "source": [
    "#to open jsondata.txt file and use its data in a java progrrame"
   ]
  },
  {
   "cell_type": "code",
   "execution_count": null,
   "metadata": {
    "collapsed": true
   },
   "outputs": [],
   "source": [
    "import org.json.simple.*;\n",
    "import java.io.*;\n",
    "public class javaex{\n",
    "    public static void main(String[] args) throws IPException{\n",
    "        BufferedReader br=new Bufferreader(new FileReader(\"jsondata.txt\"))\n",
    "        String str =br.readLine();\n",
    "        //Convert it from JSON format into java object\n",
    "        \n",
    "        Object obj=JSONValue.parse(str);\n",
    "        JSONObject jobj=(JSONObject)obj;\n",
    "        \n",
    "        //retevering data from jobj\n",
    "        \n",
    "        long id =(Long)Jobj.get(\"id\")\n",
    "        String name=(String)jobj.get(\"name\");\n",
    "        double sal=(Double)j.get(\"salary\");\n",
    "        System.out.println(id +\" \"+ name + \" \" +salary\"\")\n",
    "    }\n",
    "}"
   ]
  },
  {
   "cell_type": "code",
   "execution_count": null,
   "metadata": {
    "collapsed": true
   },
   "outputs": [],
   "source": []
  },
  {
   "cell_type": "code",
   "execution_count": null,
   "metadata": {
    "collapsed": true
   },
   "outputs": [],
   "source": []
  },
  {
   "cell_type": "code",
   "execution_count": null,
   "metadata": {
    "collapsed": true
   },
   "outputs": [],
   "source": []
  },
  {
   "cell_type": "code",
   "execution_count": null,
   "metadata": {
    "collapsed": true
   },
   "outputs": [],
   "source": []
  },
  {
   "cell_type": "code",
   "execution_count": null,
   "metadata": {
    "collapsed": true
   },
   "outputs": [],
   "source": []
  }
 ],
 "metadata": {
  "kernelspec": {
   "display_name": "Python 3",
   "language": "python",
   "name": "python3"
  },
  "language_info": {
   "codemirror_mode": {
    "name": "ipython",
    "version": 3
   },
   "file_extension": ".py",
   "mimetype": "text/x-python",
   "name": "python",
   "nbconvert_exporter": "python",
   "pygments_lexer": "ipython3",
   "version": "3.6.3"
  }
 },
 "nbformat": 4,
 "nbformat_minor": 2
}
