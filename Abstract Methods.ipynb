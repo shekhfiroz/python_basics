{
 "cells": [
  {
   "cell_type": "code",
   "execution_count": null,
   "metadata": {
    "collapsed": true
   },
   "outputs": [],
   "source": [
    "# Concret Method\n",
    "A concreet method is a method with body.it is available to all objects as itis."
   ]
  },
  {
   "cell_type": "code",
   "execution_count": null,
   "metadata": {
    "collapsed": true
   },
   "outputs": [],
   "source": [
    "          "
   ]
  },
  {
   "cell_type": "code",
   "execution_count": null,
   "metadata": {
    "collapsed": true
   },
   "outputs": [],
   "source": [
    "An Abstract methods is a method without body.when different objects want to  \n",
    "perform different task,we write abstract method.\n",
    "\n",
    "1) A class that  contains abstract methods is called abstract class.\n",
    "2)we cannot create object  for abstract class.\n",
    "3)we should\n"
   ]
  },
  {
   "cell_type": "code",
   "execution_count": null,
   "metadata": {
    "collapsed": true
   },
   "outputs": [],
   "source": []
  },
  {
   "cell_type": "code",
   "execution_count": null,
   "metadata": {
    "collapsed": true
   },
   "outputs": [],
   "source": [
    "#Creating Abstract Class\n",
    "#Syntac for Abstrack class\n",
    "#ABC stands for abstract base class\n",
    "class Myclass(ABC):\n",
    "abc->ABC"
   ]
  },
  {
   "cell_type": "code",
   "execution_count": null,
   "metadata": {
    "collapsed": true
   },
   "outputs": [],
   "source": [
    "#Abstract Class Example\n",
    "\n",
    "from abc  import ABC,abstractmethod\n",
    "class Myclass(ABC):\n",
    "    @abstractmethod\n",
    "    def calculate(self,x):\n",
    "        pass\n",
    "    \n",
    "class Sub1(Myclass):\n",
    "    def calculate(self,x):\n",
    "        print('Square value=',x*x)\n",
    "        \n",
    "import math  \n",
    "class Sub2(Myclass):\n",
    "    def calculate(self,x):\n",
    "        print('Square root=',math.sqrt(x))\n",
    "        \n",
    "class Sub3(Myclass):\n",
    "    def calculate(self,x):\n",
    "        print('Cube Value=',x**3)\n",
    "        \n",
    "s1=Sub1()\n",
    "s1.calculate(4)\n",
    "\n",
    "s2=Sub2()\n",
    "s2.calculate(16)\n",
    "\n",
    "s3=Sub3()\n",
    "s3.calculate(16)\n",
    "        \n"
   ]
  },
  {
   "cell_type": "code",
   "execution_count": null,
   "metadata": {
    "collapsed": true
   },
   "outputs": [],
   "source": []
  },
  {
   "cell_type": "code",
   "execution_count": null,
   "metadata": {
    "collapsed": true
   },
   "outputs": [],
   "source": [
    "INTERFACE Definition:\n",
    "1)An Interface is an abstract class contains all abstract methods only.Its doses not contains any concrete methods\n",
    "2) we cannot create object to an interface.\n",
    "   Difference between abstract class and Interface\n",
    "    \n",
    "    "
   ]
  },
  {
   "cell_type": "code",
   "execution_count": null,
   "metadata": {
    "collapsed": true
   },
   "outputs": [],
   "source": [
    "#An Interface to connect to any DB example\n",
    "from abc import *\n",
    "class MyInter(ABC):\n",
    "    @abstractmethod\n",
    "    def connect(self):\n",
    "        pass\n",
    "\n",
    "#This Sub class to connect to oracle DB\n",
    "class Oracle(MyInter):\n",
    "    def connect(self):\n",
    "        print('Connecting to Oracle Database...')\n",
    "        \n",
    "#Another sub class to connect to mysql db\n",
    "class Mysql(MyInter):\n",
    "    def connect(self):\n",
    "        print('Conneting to MySql Database....')\n",
    "\n",
    "#Accept user database name\n",
    "str =input('Enter your database name=')\n",
    "\n",
    "#str is in string format soo we havve to convert it to class \n",
    "#Convert the string to class name format\n",
    "name=globals()[str]\n",
    "#Oracle=globals([Oracle]) ex\n",
    "\n",
    "#create an object to the class\n",
    "obj=name()\n",
    "#call connect methods\n",
    "obj.connect()"
   ]
  },
  {
   "cell_type": "code",
   "execution_count": null,
   "metadata": {
    "collapsed": true
   },
   "outputs": [],
   "source": []
  },
  {
   "cell_type": "code",
   "execution_count": null,
   "metadata": {
    "collapsed": true
   },
   "outputs": [],
   "source": []
  },
  {
   "cell_type": "code",
   "execution_count": null,
   "metadata": {
    "collapsed": true
   },
   "outputs": [],
   "source": []
  },
  {
   "cell_type": "code",
   "execution_count": null,
   "metadata": {
    "collapsed": true
   },
   "outputs": [],
   "source": []
  }
 ],
 "metadata": {
  "kernelspec": {
   "display_name": "Python 3",
   "language": "python",
   "name": "python3"
  },
  "language_info": {
   "codemirror_mode": {
    "name": "ipython",
    "version": 3
   },
   "file_extension": ".py",
   "mimetype": "text/x-python",
   "name": "python",
   "nbconvert_exporter": "python",
   "pygments_lexer": "ipython3",
   "version": "3.6.3"
  }
 },
 "nbformat": 4,
 "nbformat_minor": 2
}
